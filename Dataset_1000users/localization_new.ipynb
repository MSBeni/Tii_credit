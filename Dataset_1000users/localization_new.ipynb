{
 "cells": [
  {
   "cell_type": "markdown",
   "metadata": {},
   "source": [
    "## Approach one"
   ]
  },
  {
   "cell_type": "code",
   "execution_count": 1,
   "metadata": {},
   "outputs": [],
   "source": [
    "import pandas as pd\n",
    "import numpy as np"
   ]
  },
  {
   "cell_type": "code",
   "execution_count": 80,
   "metadata": {},
   "outputs": [],
   "source": [
    "# %config InlineBackend.figure_format = 'svg'\n",
    "%config InlineBackend.figure_format = 'retina'"
   ]
  },
  {
   "cell_type": "code",
   "execution_count": 2,
   "metadata": {},
   "outputs": [],
   "source": [
    "# %config InlineBackend.figure_format = 'svg'\n",
    "%config InlineBackend.figure_format = 'retina'"
   ]
  },
  {
   "cell_type": "code",
   "execution_count": 3,
   "metadata": {},
   "outputs": [],
   "source": [
    "class Infection_cals:\n",
    "\n",
    "    @staticmethod\n",
    "    def dist_calc(dfx, dfy, contact_s):\n",
    "        df_x = pd.read_csv(dfx, names=[el for el in range(1000)])\n",
    "        df_y = pd.read_csv(dfy, names=[el for el in range(1000)])\n",
    "        other_users = df_x.columns[1:]\n",
    "        infected_users = []\n",
    "        for user in other_users:\n",
    "            for i in range(len(df_x[0])-1):\n",
    "                    dist = np.sqrt(np.power(df_x[0][i]-df_x[user][i],2) + np.power(df_y[0][i]-df_y[user][i],2))\n",
    "                    if dist < contact_s:\n",
    "                        if user not in infected_users:\n",
    "                            infected_users.append(user)\n",
    "                        break\n",
    "                        \n",
    "        return infected_users, len(infected_users)\n",
    "    \n",
    "\n",
    "    \n",
    "    @staticmethod\n",
    "    def other_infections(dfx, dfy, contact_s):\n",
    "        df_x = pd.read_csv(dfx, names=[el for el in range(1000)])\n",
    "        df_y = pd.read_csv(dfy, names=[el for el in range(1000)])\n",
    "        \n",
    "        # Other users rather than the user number 0\n",
    "        other_users = df_x.columns[1:]\n",
    "        \n",
    "        # Number of usees and the code of the users become infected with user 0\n",
    "        inf_users, num = Infection_cals.dist_calc(dfx, dfy, contact_s)\n",
    "        \n",
    "        final_dict = {}\n",
    "        number_of_infections = []\n",
    "        second_chain = []\n",
    "        number_of_infections.append(num)\n",
    "        \n",
    "        # Adding the user zero infected user list and the number of infected persons in final dict\n",
    "        final_dict[0] = [inf_users, num]\n",
    "        \n",
    "        # srarch between the contacts of the infected users and find who else was in immediate\n",
    "        # contact with that user and become infected\n",
    "        for infuser in inf_users:\n",
    "            # Other users reather than patient number 0\n",
    "            other_users = list(df_x.columns[1:])\n",
    "#             print(\"other_users: list(df_x.columns[2:])\", other_users)\n",
    "            # \n",
    "            if infuser in other_users:\n",
    "                other_users.remove(infuser)\n",
    "            infected_users = []\n",
    "            for user in other_users:\n",
    "                # check if the user we are checking is not already recognized to be infected\n",
    "                if (user not in infected_users) and (user not in inf_users):\n",
    "                    for i in range(len(df_x[user])-1):\n",
    "                        dist = np.sqrt(np.power(df_x[infuser][i]-df_x[user][i],2) + np.power(df_y[infuser][i]-df_y[user][i],2))\n",
    "                        if dist < contact_s:\n",
    "                            infected_users.append(user)\n",
    "                            break\n",
    "            \n",
    "                final_dict[infuser] = [infected_users, len(infected_users)]\n",
    "            second_chain.append(len(infected_users))\n",
    "        \n",
    "        number_of_infections.append(second_chain)\n",
    "        \n",
    "        qq = []\n",
    "        for el in [el[0] for el in list(final_dict.values())]:\n",
    "            qq.extend(el)\n",
    "        \n",
    "        return final_dict, number_of_infections, len(set(qq))/1000*100\n",
    "    \n",
    "    \n",
    "    @staticmethod\n",
    "    def all_infections(dfx, dfy, contact_s):\n",
    "        df_x = pd.read_csv(dfx, names=[el for el in range(1000)])\n",
    "        df_y = pd.read_csv(dfy, names=[el for el in range(1000)])\n",
    "        other_users = df_x.columns[1:]\n",
    "        \n",
    "        inf_users, num = Infection_cals.dist_calc(dfx, dfy, contact_s)\n",
    "        final_dict = {}\n",
    "        number_of_infections = []\n",
    "        second_chain = []\n",
    "        number_of_infections.append(num)\n",
    "        final_dict[0] = [inf_users, num]\n",
    "        for infuser in inf_users:\n",
    "            other_users = list(df_x.columns[1:])\n",
    "            if infuser in other_users:\n",
    "                other_users.remove(infuser)\n",
    "            infected_users = []\n",
    "            for user in other_users:\n",
    "                for i in range(len(df_x[user])-1):\n",
    "                    if user not in infected_users:\n",
    "                        dist = np.sqrt(np.power(df_x[infuser][i]-df_x[user][i],2) + np.power(df_y[infuser][i]-df_y[user][i],2))\n",
    "                        if dist < contact_s:\n",
    "                            infected_users.append(user)\n",
    "                            break\n",
    "            \n",
    "                final_dict[infuser] = [infected_users, len(infected_users)]\n",
    "            second_chain.append(len(infected_users))\n",
    "        \n",
    "        number_of_infections.append(second_chain)\n",
    "        \n",
    "        qq = []\n",
    "        for el in [el[0] for el in list(final_dict.values())]:\n",
    "            qq.extend(el)\n",
    "        \n",
    "        \n",
    "        return final_dict, number_of_infections, len(set(qq))/1000*100\n",
    "    \n",
    "\n",
    "            \n",
    "        "
   ]
  },
  {
   "cell_type": "code",
   "execution_count": 99,
   "metadata": {},
   "outputs": [],
   "source": [
    "df_x = pd.read_csv('X_Estimated_CNN.csv', names=[el for el in range(1000)])"
   ]
  },
  {
   "cell_type": "code",
   "execution_count": 100,
   "metadata": {},
   "outputs": [
    {
     "data": {
      "text/html": [
       "<div>\n",
       "<style scoped>\n",
       "    .dataframe tbody tr th:only-of-type {\n",
       "        vertical-align: middle;\n",
       "    }\n",
       "\n",
       "    .dataframe tbody tr th {\n",
       "        vertical-align: top;\n",
       "    }\n",
       "\n",
       "    .dataframe thead th {\n",
       "        text-align: right;\n",
       "    }\n",
       "</style>\n",
       "<table border=\"1\" class=\"dataframe\">\n",
       "  <thead>\n",
       "    <tr style=\"text-align: right;\">\n",
       "      <th></th>\n",
       "      <th>0</th>\n",
       "      <th>1</th>\n",
       "      <th>2</th>\n",
       "      <th>3</th>\n",
       "      <th>4</th>\n",
       "      <th>5</th>\n",
       "      <th>6</th>\n",
       "      <th>7</th>\n",
       "      <th>8</th>\n",
       "      <th>9</th>\n",
       "      <th>...</th>\n",
       "      <th>990</th>\n",
       "      <th>991</th>\n",
       "      <th>992</th>\n",
       "      <th>993</th>\n",
       "      <th>994</th>\n",
       "      <th>995</th>\n",
       "      <th>996</th>\n",
       "      <th>997</th>\n",
       "      <th>998</th>\n",
       "      <th>999</th>\n",
       "    </tr>\n",
       "  </thead>\n",
       "  <tbody>\n",
       "    <tr>\n",
       "      <th>0</th>\n",
       "      <td>15.837</td>\n",
       "      <td>15.642</td>\n",
       "      <td>9.6839</td>\n",
       "      <td>9.8484</td>\n",
       "      <td>19.184</td>\n",
       "      <td>4.8264</td>\n",
       "      <td>12.071</td>\n",
       "      <td>8.6943</td>\n",
       "      <td>6.9703</td>\n",
       "      <td>15.350</td>\n",
       "      <td>...</td>\n",
       "      <td>7.4099</td>\n",
       "      <td>7.2730</td>\n",
       "      <td>12.115</td>\n",
       "      <td>11.0750</td>\n",
       "      <td>17.850</td>\n",
       "      <td>3.8000</td>\n",
       "      <td>9.8188</td>\n",
       "      <td>14.189</td>\n",
       "      <td>13.160</td>\n",
       "      <td>0.82191</td>\n",
       "    </tr>\n",
       "    <tr>\n",
       "      <th>1</th>\n",
       "      <td>17.863</td>\n",
       "      <td>16.642</td>\n",
       "      <td>10.5390</td>\n",
       "      <td>9.8318</td>\n",
       "      <td>18.101</td>\n",
       "      <td>5.2890</td>\n",
       "      <td>13.067</td>\n",
       "      <td>8.2907</td>\n",
       "      <td>7.4751</td>\n",
       "      <td>15.369</td>\n",
       "      <td>...</td>\n",
       "      <td>7.3259</td>\n",
       "      <td>7.6444</td>\n",
       "      <td>11.867</td>\n",
       "      <td>10.6400</td>\n",
       "      <td>18.554</td>\n",
       "      <td>4.6469</td>\n",
       "      <td>9.7878</td>\n",
       "      <td>13.661</td>\n",
       "      <td>13.141</td>\n",
       "      <td>1.37430</td>\n",
       "    </tr>\n",
       "    <tr>\n",
       "      <th>2</th>\n",
       "      <td>18.815</td>\n",
       "      <td>16.260</td>\n",
       "      <td>11.1460</td>\n",
       "      <td>9.4346</td>\n",
       "      <td>18.396</td>\n",
       "      <td>4.8208</td>\n",
       "      <td>12.375</td>\n",
       "      <td>8.3314</td>\n",
       "      <td>6.9550</td>\n",
       "      <td>15.371</td>\n",
       "      <td>...</td>\n",
       "      <td>7.0874</td>\n",
       "      <td>8.2285</td>\n",
       "      <td>12.746</td>\n",
       "      <td>9.8424</td>\n",
       "      <td>17.347</td>\n",
       "      <td>3.7799</td>\n",
       "      <td>10.5390</td>\n",
       "      <td>13.292</td>\n",
       "      <td>12.237</td>\n",
       "      <td>1.87460</td>\n",
       "    </tr>\n",
       "    <tr>\n",
       "      <th>3</th>\n",
       "      <td>17.247</td>\n",
       "      <td>15.448</td>\n",
       "      <td>10.8320</td>\n",
       "      <td>9.2643</td>\n",
       "      <td>18.475</td>\n",
       "      <td>5.2387</td>\n",
       "      <td>11.956</td>\n",
       "      <td>8.1726</td>\n",
       "      <td>6.2455</td>\n",
       "      <td>13.406</td>\n",
       "      <td>...</td>\n",
       "      <td>7.6092</td>\n",
       "      <td>8.8252</td>\n",
       "      <td>12.312</td>\n",
       "      <td>10.2720</td>\n",
       "      <td>18.026</td>\n",
       "      <td>4.2319</td>\n",
       "      <td>9.9413</td>\n",
       "      <td>13.521</td>\n",
       "      <td>12.103</td>\n",
       "      <td>1.35210</td>\n",
       "    </tr>\n",
       "    <tr>\n",
       "      <th>4</th>\n",
       "      <td>17.372</td>\n",
       "      <td>15.912</td>\n",
       "      <td>10.4190</td>\n",
       "      <td>8.8822</td>\n",
       "      <td>19.786</td>\n",
       "      <td>4.8347</td>\n",
       "      <td>12.643</td>\n",
       "      <td>8.2757</td>\n",
       "      <td>5.6805</td>\n",
       "      <td>14.133</td>\n",
       "      <td>...</td>\n",
       "      <td>7.2352</td>\n",
       "      <td>8.8938</td>\n",
       "      <td>12.284</td>\n",
       "      <td>10.7810</td>\n",
       "      <td>18.099</td>\n",
       "      <td>4.8141</td>\n",
       "      <td>9.5493</td>\n",
       "      <td>14.097</td>\n",
       "      <td>11.945</td>\n",
       "      <td>0.83862</td>\n",
       "    </tr>\n",
       "  </tbody>\n",
       "</table>\n",
       "<p>5 rows × 1000 columns</p>\n",
       "</div>"
      ],
      "text/plain": [
       "      0       1        2       3       4       5       6       7       8    \\\n",
       "0  15.837  15.642   9.6839  9.8484  19.184  4.8264  12.071  8.6943  6.9703   \n",
       "1  17.863  16.642  10.5390  9.8318  18.101  5.2890  13.067  8.2907  7.4751   \n",
       "2  18.815  16.260  11.1460  9.4346  18.396  4.8208  12.375  8.3314  6.9550   \n",
       "3  17.247  15.448  10.8320  9.2643  18.475  5.2387  11.956  8.1726  6.2455   \n",
       "4  17.372  15.912  10.4190  8.8822  19.786  4.8347  12.643  8.2757  5.6805   \n",
       "\n",
       "      9    ...     990     991     992      993     994     995      996  \\\n",
       "0  15.350  ...  7.4099  7.2730  12.115  11.0750  17.850  3.8000   9.8188   \n",
       "1  15.369  ...  7.3259  7.6444  11.867  10.6400  18.554  4.6469   9.7878   \n",
       "2  15.371  ...  7.0874  8.2285  12.746   9.8424  17.347  3.7799  10.5390   \n",
       "3  13.406  ...  7.6092  8.8252  12.312  10.2720  18.026  4.2319   9.9413   \n",
       "4  14.133  ...  7.2352  8.8938  12.284  10.7810  18.099  4.8141   9.5493   \n",
       "\n",
       "      997     998      999  \n",
       "0  14.189  13.160  0.82191  \n",
       "1  13.661  13.141  1.37430  \n",
       "2  13.292  12.237  1.87460  \n",
       "3  13.521  12.103  1.35210  \n",
       "4  14.097  11.945  0.83862  \n",
       "\n",
       "[5 rows x 1000 columns]"
      ]
     },
     "execution_count": 100,
     "metadata": {},
     "output_type": "execute_result"
    }
   ],
   "source": [
    "df_x.head(5)"
   ]
  },
  {
   "cell_type": "code",
   "execution_count": 102,
   "metadata": {},
   "outputs": [],
   "source": [
    "other_users = list(df_x.columns)[:100]"
   ]
  },
  {
   "cell_type": "code",
   "execution_count": 103,
   "metadata": {},
   "outputs": [
    {
     "data": {
      "text/plain": [
       "99"
      ]
     },
     "execution_count": 103,
     "metadata": {},
     "output_type": "execute_result"
    }
   ],
   "source": []
  },
  {
   "cell_type": "code",
   "execution_count": 114,
   "metadata": {},
   "outputs": [],
   "source": [
    "class Credit_cals:\n",
    "    @staticmethod\n",
    "    def credir_calc_one(dfx, dfy, contact_s, user_id, lambdaPlus, lambdaMinus, num_of_users=1000):\n",
    "        df_x = pd.read_csv(dfx, names=[el for el in range(1000)])\n",
    "        df_y = pd.read_csv(dfy, names=[el for el in range(1000)])\n",
    "        other_users = list(df_x.columns)[:num_of_users]\n",
    "        other_users.remove(user_id)\n",
    "        All_Credits = []\n",
    "        credit = 0\n",
    "        for i in range(len(df_x[0])-1):\n",
    "            for user in other_users:\n",
    "                    dist = np.sqrt(np.power(df_x[user_id][i]-df_x[user][i],2) + \n",
    "                                   np.power(df_y[user_id][i]-df_y[user][i],2))\n",
    "                    if dist < contact_s:\n",
    "                        if (dist != 0) and (dist >= 0.01):\n",
    "#                             print(\"Added: \", -1 * lambdaMinus / dist)\n",
    "                            credit += -1 * lambdaMinus / dist\n",
    "                            All_Credits.append(credit)\n",
    "#                             print(\"current credit: \", credit)\n",
    "                        else:\n",
    "#                             print(\"Added: \", -1 * lambdaMinus * 100)\n",
    "                            credit += -1 * lambdaMinus * 100\n",
    "                            All_Credits.append(credit)\n",
    "#                             print(\"current credit: \", credit)\n",
    "                    else:\n",
    "                        if dist <= 10:\n",
    "#                             print(\"Added: \", dist / lambdaPlus)\n",
    "                            credit += dist / lambdaPlus\n",
    "                            All_Credits.append(credit)\n",
    "#                             print(\"current credit: \", credit)\n",
    "\n",
    "                        \n",
    "        return credit, All_Credits\n",
    "    \n",
    "    \n",
    "    @staticmethod\n",
    "    def All_credit_calc(dfx, dfy, contact_s, lambdaPlus, lambdaMinus, num_of_users=1000):\n",
    "        df_x = pd.read_csv(dfx, names=[el for el in range(1000)])\n",
    "        df_y = pd.read_csv(dfy, names=[el for el in range(1000)])\n",
    "        all_users = list(df_x.columns)[:num_of_users]\n",
    "        final_credits = list()\n",
    "        credits_dict = dict()\n",
    "        for user in all_users:\n",
    "            credit_user, All_Credits_of_user = Credit_cals.credir_calc_one(dfx, dfy, contact_s, user, lambdaPlus, \n",
    "                                                                           lambdaMinus, 1000)\n",
    "            final_credits.append(credit_user)\n",
    "            credits_dict[user] = All_Credits_of_user\n",
    "            \n",
    "        return final_credits, credits_dict"
   ]
  },
  {
   "cell_type": "code",
   "execution_count": 105,
   "metadata": {},
   "outputs": [],
   "source": [
    "# cred, all_cred = Credit_cals.credir_calc_one(\"X_data_GT_1000.csv\", \"Y_data_GT_1000.csv\", 2, 10, 10,5)\n",
    "# cred2, all_cred2 = Credit_cals.credir_calc_one(\"X_data_GT_1000.csv\", \"Y_data_GT_1000.csv\", 2, 10, 10,10)\n",
    "# cred3, all_cred3 = Credit_cals.credir_calc_one(\"X_data_GT_1000.csv\", \"Y_data_GT_1000.csv\", 2, 10, 1,5)\n",
    "# cred4, all_cred4 = Credit_cals.credir_calc_one(\"X_data_GT_1000.csv\", \"Y_data_GT_1000.csv\", 2, 10, 5,10)"
   ]
  },
  {
   "cell_type": "code",
   "execution_count": 106,
   "metadata": {},
   "outputs": [],
   "source": [
    "# cred_all_CNN_35_100, all_cred_alls_CNN_35_100 = Credit_cals.All_credit_calc(\"X_Estimated_CNN.csv\", \"Y_Estimated_CNN.csv\", 2,3,5,num_of_users=100)"
   ]
  },
  {
   "cell_type": "code",
   "execution_count": 108,
   "metadata": {},
   "outputs": [],
   "source": [
    "# cred_all_CNN_310_100, all_cred_alls_CNN_310_100 = Credit_cals.All_credit_calc(\"X_Estimated_CNN.csv\", \"Y_Estimated_CNN.csv\", 2,3,10,num_of_users=100)"
   ]
  },
  {
   "cell_type": "code",
   "execution_count": 110,
   "metadata": {},
   "outputs": [],
   "source": [
    "# cred_all_CNN_212_100, all_cred_alls_CNN_212_100 = Credit_cals.All_credit_calc(\"X_Estimated_CNN.csv\", \"Y_Estimated_CNN.csv\", 2,2,12,num_of_users=100)"
   ]
  },
  {
   "cell_type": "code",
   "execution_count": 112,
   "metadata": {},
   "outputs": [],
   "source": [
    "# cred_all_CNN_220_100, all_cred_alls_CNN_220_100 = Credit_cals.All_credit_calc(\"X_Estimated_CNN.csv\", \"Y_Estimated_CNN.csv\", 2,2,20,num_of_users=100)"
   ]
  },
  {
   "cell_type": "code",
   "execution_count": 117,
   "metadata": {},
   "outputs": [],
   "source": [
    "# cred_all_EKFT_220_100, all_cred_alls_EKFT_220_100 = Credit_cals.All_credit_calc(\"X_Estimated_EKFT.csv\", \"Y_Estimated_EKFT.csv\", 2,2,20,num_of_users=100)"
   ]
  },
  {
   "cell_type": "code",
   "execution_count": null,
   "metadata": {},
   "outputs": [],
   "source": [
    "cred_all_UKFT_220_1000, all_cred_alls_UKFT_220_1000 = Credit_cals.All_credit_calc(\"X_Estimated_UKFT.csv\", \"Y_Estimated_UKFT.csv\", 2,2,20,num_of_users=1000)"
   ]
  },
  {
   "cell_type": "code",
   "execution_count": 113,
   "metadata": {},
   "outputs": [
    {
     "data": {
      "text/plain": [
       "[<matplotlib.lines.Line2D at 0x17313a2b370>]"
      ]
     },
     "execution_count": 113,
     "metadata": {},
     "output_type": "execute_result"
    },
    {
     "data": {
      "image/png": "[encoded data removed]",
      "text/plain": [
       "<Figure size 432x288 with 1 Axes>"
      ]
     },
     "metadata": {
      "image/png": {
       "height": 248,
       "width": 390
      },
      "needs_background": "light"
     },
     "output_type": "display_data"
    }
   ],
   "source": [
    "plt.plot([el for el in range(len(all_cred_alls_CNN_220_100[10]))], all_cred_alls_CNN_220_100[10], color='green')\n",
    "plt.plot([el for el in range(len(all_cred_alls_CNN_220_100[11]))], all_cred_alls_CNN_220_100[11], color='red')\n",
    "plt.plot([el for el in range(len(all_cred_alls_CNN_220_100[50]))], all_cred_alls_CNN_220_100[50], color='blue')\n",
    "plt.plot([el for el in range(len(all_cred_alls_CNN_220_100[60]))], all_cred_alls_CNN_220_100[60], color='purple')"
   ]
  },
  {
   "cell_type": "code",
   "execution_count": null,
   "metadata": {},
   "outputs": [],
   "source": [
    "# cred_all_EKFT, all_cred_alls_EKFT = Credit_cals.All_credit_calc(\"X_Estimated_EKFT.csv\", \"Y_Estimated_EKFT.csv\", 2,4,5)\n",
    "# cred_all_UKFT, all_cred_alls_UKFT = Credit_cals.All_credit_calc(\"X_Estimated_UKFT.csv\", \"Y_Estimated_UKFT.csv\", 2,4,5)\n",
    "# cred_all_EKFA, all_cred_alls_EKFA = Credit_cals.All_credit_calc(\"X_Estimated_EKFA.csv\", \"Y_Estimated_EKFA.csv\", 2,4,5)\n",
    "# cred_all_UKFA, all_cred_alls_UKFA = Credit_cals.All_credit_calc(\"X_Estimated_UKFA.csv\", \"Y_Estimated_UKFA.csv\", 2,4,5)\n",
    "# cred_all_UKFTA, all_cred_alls_UKFTA = Credit_cals.All_credit_calc(\"X_Estimated_UKFTA.csv\", \"Y_Estimated_UKFTA.csv\", 2,4,5)\n",
    "# cred_all_CNN, all_cred_alls_CNN = Credit_cals.All_credit_calc(\"X_Estimated_CNN.csv\", \"Y_Estimated_CNN.csv\", 2,4,5)\n"
   ]
  },
  {
   "cell_type": "code",
   "execution_count": 115,
   "metadata": {},
   "outputs": [
    {
     "name": "stderr",
     "output_type": "stream",
     "text": [
      "ERROR:root:Internal Python error in the inspect module.\n",
      "Below is the traceback from this internal error.\n",
      "\n"
     ]
    },
    {
     "name": "stdout",
     "output_type": "stream",
     "text": [
      "Traceback (most recent call last):\n",
      "  File \"C:\\Users\\salimibeni\\anaconda3\\lib\\site-packages\\IPython\\core\\interactiveshell.py\", line 3418, in run_code\n",
      "    exec(code_obj, self.user_global_ns, self.user_ns)\n",
      "  File \"<ipython-input-115-4b7a6e9c8513>\", line 1, in <module>\n",
      "    cred_all_CNN_220_100, all_cred_alls_CNN_220_100 = Credit_cals.All_credit_calc(\"X_Estimated_CNN.csv\", \"Y_Estimated_CNN.csv\", 2,2,20,num_of_users=1000)\n",
      "  File \"<ipython-input-114-5ffd8aa67b90>\", line 44, in All_credit_calc\n",
      "    credit_user, All_Credits_of_user = Credit_cals.credir_calc_one(dfx, dfy, contact_s, user, lambdaPlus,\n",
      "  File \"<ipython-input-114-5ffd8aa67b90>\", line 13, in credir_calc_one\n",
      "    np.power(df_y[user_id][i]-df_y[user][i],2))\n",
      "  File \"C:\\Users\\salimibeni\\anaconda3\\lib\\site-packages\\pandas\\core\\frame.py\", line 2878, in __getitem__\n",
      "    return self._get_item_cache(key)\n",
      "  File \"C:\\Users\\salimibeni\\anaconda3\\lib\\site-packages\\pandas\\core\\generic.py\", line 3542, in _get_item_cache\n",
      "    res = self._box_col_values(values, loc)\n",
      "  File \"C:\\Users\\salimibeni\\anaconda3\\lib\\site-packages\\pandas\\core\\frame.py\", line 3186, in _box_col_values\n",
      "    name = self.columns[loc]\n",
      "  File \"C:\\Users\\salimibeni\\anaconda3\\lib\\site-packages\\pandas\\core\\indexes\\base.py\", line 4097, in __getitem__\n",
      "    promote = self._shallow_copy\n",
      "KeyboardInterrupt\n",
      "\n",
      "During handling of the above exception, another exception occurred:\n",
      "\n",
      "Traceback (most recent call last):\n",
      "  File \"C:\\Users\\salimibeni\\anaconda3\\lib\\site-packages\\IPython\\core\\interactiveshell.py\", line 2045, in showtraceback\n",
      "    stb = value._render_traceback_()\n",
      "AttributeError: 'KeyboardInterrupt' object has no attribute '_render_traceback_'\n",
      "\n",
      "During handling of the above exception, another exception occurred:\n",
      "\n",
      "Traceback (most recent call last):\n",
      "  File \"C:\\Users\\salimibeni\\anaconda3\\lib\\site-packages\\IPython\\core\\ultratb.py\", line 1170, in get_records\n",
      "    return _fixed_getinnerframes(etb, number_of_lines_of_context, tb_offset)\n",
      "  File \"C:\\Users\\salimibeni\\anaconda3\\lib\\site-packages\\IPython\\core\\ultratb.py\", line 316, in wrapped\n",
      "    return f(*args, **kwargs)\n",
      "  File \"C:\\Users\\salimibeni\\anaconda3\\lib\\site-packages\\IPython\\core\\ultratb.py\", line 350, in _fixed_getinnerframes\n",
      "    records = fix_frame_records_filenames(inspect.getinnerframes(etb, context))\n",
      "  File \"C:\\Users\\salimibeni\\anaconda3\\lib\\inspect.py\", line 1503, in getinnerframes\n",
      "    frameinfo = (tb.tb_frame,) + getframeinfo(tb, context)\n",
      "  File \"C:\\Users\\salimibeni\\anaconda3\\lib\\inspect.py\", line 1461, in getframeinfo\n",
      "    filename = getsourcefile(frame) or getfile(frame)\n",
      "  File \"C:\\Users\\salimibeni\\anaconda3\\lib\\inspect.py\", line 705, in getsourcefile\n",
      "    if os.path.exists(filename):\n",
      "  File \"C:\\Users\\salimibeni\\anaconda3\\lib\\genericpath.py\", line 19, in exists\n",
      "    os.stat(path)\n",
      "KeyboardInterrupt\n"
     ]
    },
    {
     "ename": "TypeError",
     "evalue": "object of type 'NoneType' has no len()",
     "output_type": "error",
     "traceback": [
      "\u001b[1;31m---------------------------------------------------------------------------\u001b[0m",
      "\u001b[1;31mKeyboardInterrupt\u001b[0m                         Traceback (most recent call last)",
      "    \u001b[1;31m[... skipping hidden 1 frame]\u001b[0m\n",
      "\u001b[1;32m<ipython-input-115-4b7a6e9c8513>\u001b[0m in \u001b[0;36m<module>\u001b[1;34m\u001b[0m\n\u001b[1;32m----> 1\u001b[1;33m \u001b[0mcred_all_CNN_220_100\u001b[0m\u001b[1;33m,\u001b[0m \u001b[0mall_cred_alls_CNN_220_100\u001b[0m \u001b[1;33m=\u001b[0m \u001b[0mCredit_cals\u001b[0m\u001b[1;33m.\u001b[0m\u001b[0mAll_credit_calc\u001b[0m\u001b[1;33m(\u001b[0m\u001b[1;34m\"X_Estimated_CNN.csv\"\u001b[0m\u001b[1;33m,\u001b[0m \u001b[1;34m\"Y_Estimated_CNN.csv\"\u001b[0m\u001b[1;33m,\u001b[0m \u001b[1;36m2\u001b[0m\u001b[1;33m,\u001b[0m\u001b[1;36m2\u001b[0m\u001b[1;33m,\u001b[0m\u001b[1;36m20\u001b[0m\u001b[1;33m,\u001b[0m\u001b[0mnum_of_users\u001b[0m\u001b[1;33m=\u001b[0m\u001b[1;36m1000\u001b[0m\u001b[1;33m)\u001b[0m\u001b[1;33m\u001b[0m\u001b[1;33m\u001b[0m\u001b[0m\n\u001b[0m",
      "\u001b[1;32m<ipython-input-114-5ffd8aa67b90>\u001b[0m in \u001b[0;36mAll_credit_calc\u001b[1;34m(dfx, dfy, contact_s, lambdaPlus, lambdaMinus, num_of_users)\u001b[0m\n\u001b[0;32m     43\u001b[0m         \u001b[1;32mfor\u001b[0m \u001b[0muser\u001b[0m \u001b[1;32min\u001b[0m \u001b[0mall_users\u001b[0m\u001b[1;33m:\u001b[0m\u001b[1;33m\u001b[0m\u001b[1;33m\u001b[0m\u001b[0m\n\u001b[1;32m---> 44\u001b[1;33m             credit_user, All_Credits_of_user = Credit_cals.credir_calc_one(dfx, dfy, contact_s, user, lambdaPlus, \n\u001b[0m\u001b[0;32m     45\u001b[0m                                                                            lambdaMinus, 1000)\n",
      "\u001b[1;32m<ipython-input-114-5ffd8aa67b90>\u001b[0m in \u001b[0;36mcredir_calc_one\u001b[1;34m(dfx, dfy, contact_s, user_id, lambdaPlus, lambdaMinus, num_of_users)\u001b[0m\n\u001b[0;32m     12\u001b[0m                     dist = np.sqrt(np.power(df_x[user_id][i]-df_x[user][i],2) + \n\u001b[1;32m---> 13\u001b[1;33m                                    np.power(df_y[user_id][i]-df_y[user][i],2))\n\u001b[0m\u001b[0;32m     14\u001b[0m                     \u001b[1;32mif\u001b[0m \u001b[0mdist\u001b[0m \u001b[1;33m<\u001b[0m \u001b[0mcontact_s\u001b[0m\u001b[1;33m:\u001b[0m\u001b[1;33m\u001b[0m\u001b[1;33m\u001b[0m\u001b[0m\n",
      "\u001b[1;32m~\\anaconda3\\lib\\site-packages\\pandas\\core\\frame.py\u001b[0m in \u001b[0;36m__getitem__\u001b[1;34m(self, key)\u001b[0m\n\u001b[0;32m   2877\u001b[0m                     \u001b[1;32mreturn\u001b[0m \u001b[0mself\u001b[0m\u001b[1;33m.\u001b[0m\u001b[0m_getitem_multilevel\u001b[0m\u001b[1;33m(\u001b[0m\u001b[0mkey\u001b[0m\u001b[1;33m)\u001b[0m\u001b[1;33m\u001b[0m\u001b[1;33m\u001b[0m\u001b[0m\n\u001b[1;32m-> 2878\u001b[1;33m                 \u001b[1;32mreturn\u001b[0m \u001b[0mself\u001b[0m\u001b[1;33m.\u001b[0m\u001b[0m_get_item_cache\u001b[0m\u001b[1;33m(\u001b[0m\u001b[0mkey\u001b[0m\u001b[1;33m)\u001b[0m\u001b[1;33m\u001b[0m\u001b[1;33m\u001b[0m\u001b[0m\n\u001b[0m\u001b[0;32m   2879\u001b[0m \u001b[1;33m\u001b[0m\u001b[0m\n",
      "\u001b[1;32m~\\anaconda3\\lib\\site-packages\\pandas\\core\\generic.py\u001b[0m in \u001b[0;36m_get_item_cache\u001b[1;34m(self, item)\u001b[0m\n\u001b[0;32m   3541\u001b[0m             \u001b[0mvalues\u001b[0m \u001b[1;33m=\u001b[0m \u001b[0mself\u001b[0m\u001b[1;33m.\u001b[0m\u001b[0m_mgr\u001b[0m\u001b[1;33m.\u001b[0m\u001b[0miget\u001b[0m\u001b[1;33m(\u001b[0m\u001b[0mloc\u001b[0m\u001b[1;33m)\u001b[0m\u001b[1;33m\u001b[0m\u001b[1;33m\u001b[0m\u001b[0m\n\u001b[1;32m-> 3542\u001b[1;33m             \u001b[0mres\u001b[0m \u001b[1;33m=\u001b[0m \u001b[0mself\u001b[0m\u001b[1;33m.\u001b[0m\u001b[0m_box_col_values\u001b[0m\u001b[1;33m(\u001b[0m\u001b[0mvalues\u001b[0m\u001b[1;33m,\u001b[0m \u001b[0mloc\u001b[0m\u001b[1;33m)\u001b[0m\u001b[1;33m\u001b[0m\u001b[1;33m\u001b[0m\u001b[0m\n\u001b[0m\u001b[0;32m   3543\u001b[0m \u001b[1;33m\u001b[0m\u001b[0m\n",
      "\u001b[1;32m~\\anaconda3\\lib\\site-packages\\pandas\\core\\frame.py\u001b[0m in \u001b[0;36m_box_col_values\u001b[1;34m(self, values, loc)\u001b[0m\n\u001b[0;32m   3185\u001b[0m         \u001b[1;31m#  we attach the Timestamp object as the name.\u001b[0m\u001b[1;33m\u001b[0m\u001b[1;33m\u001b[0m\u001b[1;33m\u001b[0m\u001b[0m\n\u001b[1;32m-> 3186\u001b[1;33m         \u001b[0mname\u001b[0m \u001b[1;33m=\u001b[0m \u001b[0mself\u001b[0m\u001b[1;33m.\u001b[0m\u001b[0mcolumns\u001b[0m\u001b[1;33m[\u001b[0m\u001b[0mloc\u001b[0m\u001b[1;33m]\u001b[0m\u001b[1;33m\u001b[0m\u001b[1;33m\u001b[0m\u001b[0m\n\u001b[0m\u001b[0;32m   3187\u001b[0m         \u001b[0mklass\u001b[0m \u001b[1;33m=\u001b[0m \u001b[0mself\u001b[0m\u001b[1;33m.\u001b[0m\u001b[0m_constructor_sliced\u001b[0m\u001b[1;33m\u001b[0m\u001b[1;33m\u001b[0m\u001b[0m\n",
      "\u001b[1;32m~\\anaconda3\\lib\\site-packages\\pandas\\core\\indexes\\base.py\u001b[0m in \u001b[0;36m__getitem__\u001b[1;34m(self, key)\u001b[0m\n\u001b[0;32m   4096\u001b[0m         \u001b[0mgetitem\u001b[0m \u001b[1;33m=\u001b[0m \u001b[0mself\u001b[0m\u001b[1;33m.\u001b[0m\u001b[0m_data\u001b[0m\u001b[1;33m.\u001b[0m\u001b[0m__getitem__\u001b[0m\u001b[1;33m\u001b[0m\u001b[1;33m\u001b[0m\u001b[0m\n\u001b[1;32m-> 4097\u001b[1;33m         \u001b[0mpromote\u001b[0m \u001b[1;33m=\u001b[0m \u001b[0mself\u001b[0m\u001b[1;33m.\u001b[0m\u001b[0m_shallow_copy\u001b[0m\u001b[1;33m\u001b[0m\u001b[1;33m\u001b[0m\u001b[0m\n\u001b[0m\u001b[0;32m   4098\u001b[0m \u001b[1;33m\u001b[0m\u001b[0m\n",
      "\u001b[1;31mKeyboardInterrupt\u001b[0m: ",
      "\nDuring handling of the above exception, another exception occurred:\n",
      "\u001b[1;31mAttributeError\u001b[0m                            Traceback (most recent call last)",
      "\u001b[1;32m~\\anaconda3\\lib\\site-packages\\IPython\\core\\interactiveshell.py\u001b[0m in \u001b[0;36mshowtraceback\u001b[1;34m(self, exc_tuple, filename, tb_offset, exception_only, running_compiled_code)\u001b[0m\n\u001b[0;32m   2044\u001b[0m                         \u001b[1;31m# in the engines. This should return a list of strings.\u001b[0m\u001b[1;33m\u001b[0m\u001b[1;33m\u001b[0m\u001b[1;33m\u001b[0m\u001b[0m\n\u001b[1;32m-> 2045\u001b[1;33m                         \u001b[0mstb\u001b[0m \u001b[1;33m=\u001b[0m \u001b[0mvalue\u001b[0m\u001b[1;33m.\u001b[0m\u001b[0m_render_traceback_\u001b[0m\u001b[1;33m(\u001b[0m\u001b[1;33m)\u001b[0m\u001b[1;33m\u001b[0m\u001b[1;33m\u001b[0m\u001b[0m\n\u001b[0m\u001b[0;32m   2046\u001b[0m                     \u001b[1;32mexcept\u001b[0m \u001b[0mException\u001b[0m\u001b[1;33m:\u001b[0m\u001b[1;33m\u001b[0m\u001b[1;33m\u001b[0m\u001b[0m\n",
      "\u001b[1;31mAttributeError\u001b[0m: 'KeyboardInterrupt' object has no attribute '_render_traceback_'",
      "\nDuring handling of the above exception, another exception occurred:\n",
      "\u001b[1;31mTypeError\u001b[0m                                 Traceback (most recent call last)",
      "    \u001b[1;31m[... skipping hidden 1 frame]\u001b[0m\n",
      "\u001b[1;32m~\\anaconda3\\lib\\site-packages\\IPython\\core\\interactiveshell.py\u001b[0m in \u001b[0;36mshowtraceback\u001b[1;34m(self, exc_tuple, filename, tb_offset, exception_only, running_compiled_code)\u001b[0m\n\u001b[0;32m   2045\u001b[0m                         \u001b[0mstb\u001b[0m \u001b[1;33m=\u001b[0m \u001b[0mvalue\u001b[0m\u001b[1;33m.\u001b[0m\u001b[0m_render_traceback_\u001b[0m\u001b[1;33m(\u001b[0m\u001b[1;33m)\u001b[0m\u001b[1;33m\u001b[0m\u001b[1;33m\u001b[0m\u001b[0m\n\u001b[0;32m   2046\u001b[0m                     \u001b[1;32mexcept\u001b[0m \u001b[0mException\u001b[0m\u001b[1;33m:\u001b[0m\u001b[1;33m\u001b[0m\u001b[1;33m\u001b[0m\u001b[0m\n\u001b[1;32m-> 2047\u001b[1;33m                         stb = self.InteractiveTB.structured_traceback(etype,\n\u001b[0m\u001b[0;32m   2048\u001b[0m                                             value, tb, tb_offset=tb_offset)\n\u001b[0;32m   2049\u001b[0m \u001b[1;33m\u001b[0m\u001b[0m\n",
      "\u001b[1;32m~\\anaconda3\\lib\\site-packages\\IPython\\core\\ultratb.py\u001b[0m in \u001b[0;36mstructured_traceback\u001b[1;34m(self, etype, value, tb, tb_offset, number_of_lines_of_context)\u001b[0m\n\u001b[0;32m   1434\u001b[0m         \u001b[1;32melse\u001b[0m\u001b[1;33m:\u001b[0m\u001b[1;33m\u001b[0m\u001b[1;33m\u001b[0m\u001b[0m\n\u001b[0;32m   1435\u001b[0m             \u001b[0mself\u001b[0m\u001b[1;33m.\u001b[0m\u001b[0mtb\u001b[0m \u001b[1;33m=\u001b[0m \u001b[0mtb\u001b[0m\u001b[1;33m\u001b[0m\u001b[1;33m\u001b[0m\u001b[0m\n\u001b[1;32m-> 1436\u001b[1;33m         return FormattedTB.structured_traceback(\n\u001b[0m\u001b[0;32m   1437\u001b[0m             self, etype, value, tb, tb_offset, number_of_lines_of_context)\n\u001b[0;32m   1438\u001b[0m \u001b[1;33m\u001b[0m\u001b[0m\n",
      "\u001b[1;32m~\\anaconda3\\lib\\site-packages\\IPython\\core\\ultratb.py\u001b[0m in \u001b[0;36mstructured_traceback\u001b[1;34m(self, etype, value, tb, tb_offset, number_of_lines_of_context)\u001b[0m\n\u001b[0;32m   1334\u001b[0m         \u001b[1;32mif\u001b[0m \u001b[0mmode\u001b[0m \u001b[1;32min\u001b[0m \u001b[0mself\u001b[0m\u001b[1;33m.\u001b[0m\u001b[0mverbose_modes\u001b[0m\u001b[1;33m:\u001b[0m\u001b[1;33m\u001b[0m\u001b[1;33m\u001b[0m\u001b[0m\n\u001b[0;32m   1335\u001b[0m             \u001b[1;31m# Verbose modes need a full traceback\u001b[0m\u001b[1;33m\u001b[0m\u001b[1;33m\u001b[0m\u001b[1;33m\u001b[0m\u001b[0m\n\u001b[1;32m-> 1336\u001b[1;33m             return VerboseTB.structured_traceback(\n\u001b[0m\u001b[0;32m   1337\u001b[0m                 \u001b[0mself\u001b[0m\u001b[1;33m,\u001b[0m \u001b[0metype\u001b[0m\u001b[1;33m,\u001b[0m \u001b[0mvalue\u001b[0m\u001b[1;33m,\u001b[0m \u001b[0mtb\u001b[0m\u001b[1;33m,\u001b[0m \u001b[0mtb_offset\u001b[0m\u001b[1;33m,\u001b[0m \u001b[0mnumber_of_lines_of_context\u001b[0m\u001b[1;33m\u001b[0m\u001b[1;33m\u001b[0m\u001b[0m\n\u001b[0;32m   1338\u001b[0m             )\n",
      "\u001b[1;32m~\\anaconda3\\lib\\site-packages\\IPython\\core\\ultratb.py\u001b[0m in \u001b[0;36mstructured_traceback\u001b[1;34m(self, etype, evalue, etb, tb_offset, number_of_lines_of_context)\u001b[0m\n\u001b[0;32m   1191\u001b[0m         \u001b[1;34m\"\"\"Return a nice text document describing the traceback.\"\"\"\u001b[0m\u001b[1;33m\u001b[0m\u001b[1;33m\u001b[0m\u001b[0m\n\u001b[0;32m   1192\u001b[0m \u001b[1;33m\u001b[0m\u001b[0m\n\u001b[1;32m-> 1193\u001b[1;33m         formatted_exception = self.format_exception_as_a_whole(etype, evalue, etb, number_of_lines_of_context,\n\u001b[0m\u001b[0;32m   1194\u001b[0m                                                                tb_offset)\n\u001b[0;32m   1195\u001b[0m \u001b[1;33m\u001b[0m\u001b[0m\n",
      "\u001b[1;32m~\\anaconda3\\lib\\site-packages\\IPython\\core\\ultratb.py\u001b[0m in \u001b[0;36mformat_exception_as_a_whole\u001b[1;34m(self, etype, evalue, etb, number_of_lines_of_context, tb_offset)\u001b[0m\n\u001b[0;32m   1149\u001b[0m \u001b[1;33m\u001b[0m\u001b[0m\n\u001b[0;32m   1150\u001b[0m \u001b[1;33m\u001b[0m\u001b[0m\n\u001b[1;32m-> 1151\u001b[1;33m         \u001b[0mlast_unique\u001b[0m\u001b[1;33m,\u001b[0m \u001b[0mrecursion_repeat\u001b[0m \u001b[1;33m=\u001b[0m \u001b[0mfind_recursion\u001b[0m\u001b[1;33m(\u001b[0m\u001b[0morig_etype\u001b[0m\u001b[1;33m,\u001b[0m \u001b[0mevalue\u001b[0m\u001b[1;33m,\u001b[0m \u001b[0mrecords\u001b[0m\u001b[1;33m)\u001b[0m\u001b[1;33m\u001b[0m\u001b[1;33m\u001b[0m\u001b[0m\n\u001b[0m\u001b[0;32m   1152\u001b[0m \u001b[1;33m\u001b[0m\u001b[0m\n\u001b[0;32m   1153\u001b[0m         \u001b[0mframes\u001b[0m \u001b[1;33m=\u001b[0m \u001b[0mself\u001b[0m\u001b[1;33m.\u001b[0m\u001b[0mformat_records\u001b[0m\u001b[1;33m(\u001b[0m\u001b[0mrecords\u001b[0m\u001b[1;33m,\u001b[0m \u001b[0mlast_unique\u001b[0m\u001b[1;33m,\u001b[0m \u001b[0mrecursion_repeat\u001b[0m\u001b[1;33m)\u001b[0m\u001b[1;33m\u001b[0m\u001b[1;33m\u001b[0m\u001b[0m\n",
      "\u001b[1;32m~\\anaconda3\\lib\\site-packages\\IPython\\core\\ultratb.py\u001b[0m in \u001b[0;36mfind_recursion\u001b[1;34m(etype, value, records)\u001b[0m\n\u001b[0;32m    449\u001b[0m     \u001b[1;31m# first frame (from in to out) that looks different.\u001b[0m\u001b[1;33m\u001b[0m\u001b[1;33m\u001b[0m\u001b[1;33m\u001b[0m\u001b[0m\n\u001b[0;32m    450\u001b[0m     \u001b[1;32mif\u001b[0m \u001b[1;32mnot\u001b[0m \u001b[0mis_recursion_error\u001b[0m\u001b[1;33m(\u001b[0m\u001b[0metype\u001b[0m\u001b[1;33m,\u001b[0m \u001b[0mvalue\u001b[0m\u001b[1;33m,\u001b[0m \u001b[0mrecords\u001b[0m\u001b[1;33m)\u001b[0m\u001b[1;33m:\u001b[0m\u001b[1;33m\u001b[0m\u001b[1;33m\u001b[0m\u001b[0m\n\u001b[1;32m--> 451\u001b[1;33m         \u001b[1;32mreturn\u001b[0m \u001b[0mlen\u001b[0m\u001b[1;33m(\u001b[0m\u001b[0mrecords\u001b[0m\u001b[1;33m)\u001b[0m\u001b[1;33m,\u001b[0m \u001b[1;36m0\u001b[0m\u001b[1;33m\u001b[0m\u001b[1;33m\u001b[0m\u001b[0m\n\u001b[0m\u001b[0;32m    452\u001b[0m \u001b[1;33m\u001b[0m\u001b[0m\n\u001b[0;32m    453\u001b[0m     \u001b[1;31m# Select filename, lineno, func_name to track frames with\u001b[0m\u001b[1;33m\u001b[0m\u001b[1;33m\u001b[0m\u001b[1;33m\u001b[0m\u001b[0m\n",
      "\u001b[1;31mTypeError\u001b[0m: object of type 'NoneType' has no len()"
     ]
    }
   ],
   "source": [
    "cred_all_CNN_220_1000, all_cred_alls_CNN_220_1000 = Credit_cals.All_credit_calc(\"X_Estimated_CNN.csv\", \"Y_Estimated_CNN.csv\", 2,2,20,num_of_users=1000)"
   ]
  },
  {
   "cell_type": "code",
   "execution_count": 13,
   "metadata": {},
   "outputs": [],
   "source": [
    "# cred5, all_cred5 = Credit_cals.credir_calc_one(\"X_data_GT_1000.csv\", \"Y_data_GT_1000.csv\", 2, 10, 5,5)\n"
   ]
  },
  {
   "cell_type": "code",
   "execution_count": 7,
   "metadata": {},
   "outputs": [
    {
     "data": {
      "text/plain": [
       "(75874, -88148.4188455147)"
      ]
     },
     "execution_count": 7,
     "metadata": {},
     "output_type": "execute_result"
    }
   ],
   "source": [
    "len(all_cred), cred"
   ]
  },
  {
   "cell_type": "code",
   "execution_count": 14,
   "metadata": {},
   "outputs": [
    {
     "data": {
      "text/plain": [
       "[<matplotlib.lines.Line2D at 0x16ce68499d0>]"
      ]
     },
     "execution_count": 14,
     "metadata": {},
     "output_type": "execute_result"
    },
    {
     "data": {
      "image/png": "[encoded data removed]",
      "text/plain": [
       "<Figure size 432x288 with 1 Axes>"
      ]
     },
     "metadata": {
      "image/png": {
       "height": 248,
       "width": 402
      },
      "needs_background": "light"
     },
     "output_type": "display_data"
    }
   ],
   "source": [
    "import matplotlib.pyplot as plt\n",
    "\n",
    "# plt.plot([el for el in range(len(all_cred))], all_cred, color='green', marker='o', linestyle='dashed',linewidth=1, markersize=2)\n",
    "\n",
    "plt.plot([el for el in range(len(all_cred))], all_cred, color='green')\n",
    "plt.plot([el for el in range(len(all_cred2))], all_cred2, color='red')\n",
    "plt.plot([el for el in range(len(all_cred3))], all_cred3, color='blue')\n",
    "plt.plot([el for el in range(len(all_cred4))], all_cred4, color='orange')\n",
    "plt.plot([el for el in range(len(all_cred5))], all_cred5, color='purple')"
   ]
  },
  {
   "cell_type": "code",
   "execution_count": null,
   "metadata": {},
   "outputs": [],
   "source": []
  },
  {
   "cell_type": "code",
   "execution_count": 15,
   "metadata": {},
   "outputs": [],
   "source": [
    "# cred_all, all_cred_alls = Credit_cals.All_credit_calc(\"X_data_GT_1000.csv\", \"Y_data_GT_1000.csv\", 2,5,5)\n"
   ]
  },
  {
   "cell_type": "code",
   "execution_count": 16,
   "metadata": {},
   "outputs": [
    {
     "data": {
      "text/plain": [
       "[-30406.917183516696,\n",
       " -12914.382199704716,\n",
       " -9059.192257533932,\n",
       " -23430.652734896572,\n",
       " -29087.856490147984,\n",
       " -12271.57754712567,\n",
       " -44520.86614143905,\n",
       " -36794.9789354815,\n",
       " -59995.65427161223,\n",
       " -26301.630256776287,\n",
       " -50211.23099945549,\n",
       " -36524.623760678725,\n",
       " -69921.09472982697,\n",
       " -46728.43428842277,\n",
       " -28876.328049409163,\n",
       " -13175.809065717327,\n",
       " -34479.33846248207,\n",
       " -40441.87107997884,\n",
       " -7366.5405638900675,\n",
       " -21068.71014412821,\n",
       " -94356.91332391134,\n",
       " -17556.992730995884,\n",
       " -70424.45599302082,\n",
       " -26249.77079449886,\n",
       " -3941.5637833311885,\n",
       " -92350.3168523629,\n",
       " -36009.15239188128,\n",
       " -35208.82858083007,\n",
       " -72689.87868429365,\n",
       " -25801.695775681357,\n",
       " -67796.59747338972,\n",
       " -13593.084618231358,\n",
       " -21120.51314411294,\n",
       " -23362.63041866302,\n",
       " -21716.751596673774,\n",
       " -77394.57498224011,\n",
       " -20238.25328596493,\n",
       " -45615.96741092415,\n",
       " -31015.048830556203,\n",
       " 9116.307613354602,\n",
       " -41866.44811385873,\n",
       " -81394.31695265634,\n",
       " -25350.097383470093,\n",
       " -53947.89211396238,\n",
       " -63039.88398054372,\n",
       " -85547.41602157013,\n",
       " -30643.30125734918,\n",
       " -73217.80863191311,\n",
       " -19468.68450215153,\n",
       " -25888.413722611,\n",
       " -62735.29725554675,\n",
       " -29211.72695629007,\n",
       " -26030.086283018783,\n",
       " -28140.368529507585,\n",
       " -48882.65688778776,\n",
       " -32264.332825219728,\n",
       " -26760.945050856753,\n",
       " -27822.3312258048,\n",
       " -52399.74331716508,\n",
       " -28087.573635860128,\n",
       " -22990.823955466676,\n",
       " -5373.88594213162,\n",
       " -20613.199660335104,\n",
       " -35096.990586699896,\n",
       " -26132.999670063047,\n",
       " -54752.96355625585,\n",
       " -70813.67406791418,\n",
       " -42350.70793648965,\n",
       " -37749.93871516077,\n",
       " -74722.32130498468,\n",
       " -8252.126333268488,\n",
       " -51870.273719523444,\n",
       " -25405.27741641371,\n",
       " -50603.12709976415,\n",
       " -40594.80525593694,\n",
       " -47730.9795809398,\n",
       " -77922.52841917168,\n",
       " -47233.789995190506,\n",
       " -15446.094510406487,\n",
       " -28599.838955679683,\n",
       " -79229.69034136663,\n",
       " -102065.02510774405,\n",
       " -15236.676314890572,\n",
       " -60265.43449168968,\n",
       " -38336.991241957345,\n",
       " -32082.05925728523,\n",
       " -22912.106160846874,\n",
       " -30946.43241763389,\n",
       " -4009.984841263573,\n",
       " -71134.49187656696,\n",
       " -91698.94450916475,\n",
       " -28100.76101696631,\n",
       " -27957.30938663198,\n",
       " -83415.08407167598,\n",
       " -23851.7662459523,\n",
       " -27277.04496676267,\n",
       " 4588.085515134021,\n",
       " -26510.978926888223,\n",
       " 7420.6344659459355,\n",
       " -70615.77578706507,\n",
       " -25722.991921541205,\n",
       " -28404.90376117396,\n",
       " -36838.67497704847,\n",
       " -39088.061865514464,\n",
       " -41853.36507294034,\n",
       " -33261.8593035932,\n",
       " -31324.39643092818,\n",
       " -41025.37722676589,\n",
       " -9354.06552590837,\n",
       " -31061.319882156888,\n",
       " -36349.086489554844,\n",
       " -19820.41831536408,\n",
       " -25301.607136214352,\n",
       " -21839.290972432864,\n",
       " -60029.65571245145,\n",
       " -22723.551554435573,\n",
       " 3001.9987080848878,\n",
       " -56430.21690130454,\n",
       " -48085.397964590746,\n",
       " -34510.57931828743,\n",
       " -11950.136367016363,\n",
       " -40175.65184812164,\n",
       " -71844.54552702351,\n",
       " -37454.09097339945,\n",
       " -34758.11800945311,\n",
       " -30383.657163079373,\n",
       " -33992.468026238836,\n",
       " -38250.20542522029,\n",
       " -91022.3972615005,\n",
       " -26057.232571649314,\n",
       " -80666.74506928115,\n",
       " -18741.52144936899,\n",
       " -2205.503313231332,\n",
       " -39706.801913210256,\n",
       " -54389.4832529355,\n",
       " -65592.44650227811,\n",
       " -50731.175146053996,\n",
       " -72249.76510208675,\n",
       " -65140.224504972306,\n",
       " -21211.56619748783,\n",
       " -88146.86696321119,\n",
       " -21357.08445623495,\n",
       " -21869.164079885915,\n",
       " -77360.90438517608,\n",
       " -27804.682296689876,\n",
       " -14957.390877388229,\n",
       " -60761.37458271897,\n",
       " -49125.99241212235,\n",
       " -13411.262258690493,\n",
       " -54259.52622503801,\n",
       " -50423.914899337964,\n",
       " -47120.72066796689,\n",
       " -12263.913291272676,\n",
       " -68412.12266358193,\n",
       " -43575.63762592807,\n",
       " 8216.59900243068,\n",
       " -19465.222160396486,\n",
       " -9021.837436199277,\n",
       " -82229.29336135494,\n",
       " -34535.712865366964,\n",
       " -35925.54618062301,\n",
       " -43511.854500934525,\n",
       " -45648.441384146005,\n",
       " -90305.26764905994,\n",
       " -28213.896781865387,\n",
       " -85555.50187997134,\n",
       " -6633.593840318447,\n",
       " -28906.287199728293,\n",
       " -42617.75716633571,\n",
       " -76284.95742943906,\n",
       " -11076.43506344506,\n",
       " -26533.576934232566,\n",
       " -28426.18551018779,\n",
       " -66257.84805268158,\n",
       " -22874.342836182925,\n",
       " -21201.239149432095,\n",
       " -65836.51545589197,\n",
       " -19431.537719624896,\n",
       " -40076.574382060004,\n",
       " -30598.720437740973,\n",
       " -21209.268797919573,\n",
       " -24411.175651247933,\n",
       " -35137.936878665925,\n",
       " -63025.12693110315,\n",
       " -69337.18089921535,\n",
       " 1960.842456218344,\n",
       " -68345.94600828191,\n",
       " -52109.58922523704,\n",
       " -85746.88994097314,\n",
       " -34304.60191860918,\n",
       " -78899.56447101984,\n",
       " -20653.051351723603,\n",
       " -58212.546868266036,\n",
       " -35891.71410216629,\n",
       " -65431.228830663895,\n",
       " -37533.65597939416,\n",
       " -69413.07537275713,\n",
       " -19124.400113852127,\n",
       " -68440.62615256743,\n",
       " -10585.587196423588,\n",
       " -89267.29127271145,\n",
       " -43717.078942569875,\n",
       " -42191.96269407984,\n",
       " -85723.93469754908,\n",
       " -28048.853305316545,\n",
       " -18938.90452728785,\n",
       " -38330.25614280713,\n",
       " -62933.924440201416,\n",
       " -39049.27885827913,\n",
       " -24787.416787194776,\n",
       " -64773.87588259375,\n",
       " -61335.69508016192,\n",
       " -79488.78523480147,\n",
       " -23895.925592757296,\n",
       " 4934.440276407338,\n",
       " -30608.878864470185,\n",
       " -16224.802621777033,\n",
       " -47589.25139089877,\n",
       " -43026.281355979,\n",
       " -42400.431261632744,\n",
       " -28835.26733577026,\n",
       " -68003.28247744397,\n",
       " -85639.5611613534,\n",
       " -39172.211143402186,\n",
       " -30950.126635080673,\n",
       " -22013.130268347704,\n",
       " -19390.789569836186,\n",
       " -34034.998844844165,\n",
       " -28690.894713821464,\n",
       " -38959.72791957006,\n",
       " -59545.62796593724,\n",
       " -77340.66482837398,\n",
       " -41731.93032659969,\n",
       " -57669.61651886621,\n",
       " -40010.58408011276,\n",
       " -69397.28681266465,\n",
       " -22201.398491334367,\n",
       " -64376.74131778142,\n",
       " 4330.264471828465,\n",
       " -31330.637946683975,\n",
       " -43061.79421703614,\n",
       " -24577.379695007534,\n",
       " -35806.05146129948,\n",
       " -15986.440115711905,\n",
       " -67816.60633416916,\n",
       " -30470.57634179797,\n",
       " -33511.767245108764,\n",
       " 11372.512494353075,\n",
       " -48074.53098456377,\n",
       " -37154.175814898845,\n",
       " -16955.92226947468,\n",
       " -35574.14017878084,\n",
       " -20967.519573877744,\n",
       " -35969.230809463326,\n",
       " 10188.406358356464,\n",
       " -21358.849160164653,\n",
       " -26226.775596296317,\n",
       " -59940.17173497255,\n",
       " -38512.189966290505,\n",
       " -39687.01151678079,\n",
       " -12861.09891732062,\n",
       " -32737.573956019813,\n",
       " -42373.10565771726,\n",
       " -42075.130448104945,\n",
       " -27111.520986836935,\n",
       " -62656.522157792686,\n",
       " -25457.405968446594,\n",
       " -14220.627064357861,\n",
       " -19631.515005597546,\n",
       " -18900.234762851378,\n",
       " -58623.66995359518,\n",
       " -52163.5818502974,\n",
       " -28555.010818802526,\n",
       " -43905.14085237841,\n",
       " -63961.71214082834,\n",
       " -49965.635746464846,\n",
       " -565.7614676240261,\n",
       " -25505.480379030734,\n",
       " -14067.302167180938,\n",
       " -35399.88588379347,\n",
       " -40549.9701096105,\n",
       " -21242.870347252814,\n",
       " -22545.47766429536,\n",
       " -15428.839641088292,\n",
       " -42211.33116766196,\n",
       " 9918.63506711081,\n",
       " -60660.4983507275,\n",
       " -11514.382833904963,\n",
       " -37811.754249163685,\n",
       " -24735.931585465372,\n",
       " -63509.79929782341,\n",
       " -15402.532991677674,\n",
       " -76303.45549623313,\n",
       " -16910.41426612815,\n",
       " -44718.9166436444,\n",
       " -82460.70882692342,\n",
       " -66196.98485024506,\n",
       " -21263.3180055935,\n",
       " -22457.97873794923,\n",
       " -69518.09869836186,\n",
       " -36752.48113758066,\n",
       " -19592.035008362138,\n",
       " -53151.84944756539,\n",
       " -65241.505635185036,\n",
       " -34565.7156866705,\n",
       " -48962.041872972855,\n",
       " -2959.140353087334,\n",
       " -90842.571769221,\n",
       " -40760.23355482929,\n",
       " -46290.071846872175,\n",
       " -32111.607721027634,\n",
       " -27872.021416299198,\n",
       " 5925.886138543942,\n",
       " -29837.706797493494,\n",
       " -57678.357438183964,\n",
       " -56415.631547454184,\n",
       " -26317.61635135865,\n",
       " -77123.05596565263,\n",
       " -25523.231676410487,\n",
       " -69010.22272657078,\n",
       " -71489.80687815884,\n",
       " -43424.974915575556,\n",
       " -44867.22147059295,\n",
       " -57122.67995075902,\n",
       " -42391.90230261296,\n",
       " -57669.41943600365,\n",
       " -1192.0338612944229,\n",
       " -30119.627852215857,\n",
       " -18265.827142222428,\n",
       " -35951.82966802255,\n",
       " -47975.807923244145,\n",
       " -64659.83682192198,\n",
       " -26698.329791834363,\n",
       " -28694.97948565885,\n",
       " -58826.38570607465,\n",
       " -76877.57419247377,\n",
       " -38733.63330836907,\n",
       " -74643.83059035726,\n",
       " -9068.343516684059,\n",
       " -13336.749925301716,\n",
       " -76017.5682521985,\n",
       " -29956.681212369644,\n",
       " -80700.60026748292,\n",
       " -71263.28692055041,\n",
       " -86905.75614298653,\n",
       " -53768.132876249314,\n",
       " -7815.89322512766,\n",
       " -81515.05322856807,\n",
       " -7184.407518707785,\n",
       " -58140.184434090894,\n",
       " -18783.05900466204,\n",
       " -19205.162416619296,\n",
       " -12279.418183129395,\n",
       " -69467.10760181396,\n",
       " -54922.14161071326,\n",
       " -66317.86036121767,\n",
       " -23813.835153291533,\n",
       " -73146.58601211653,\n",
       " -14418.225999670663,\n",
       " -65929.28601769835,\n",
       " -4097.441503985887,\n",
       " -42210.58701292466,\n",
       " -71855.53035712292,\n",
       " -25909.688062287518,\n",
       " -1153.3659517893482,\n",
       " -14107.476110164402,\n",
       " -64779.049515288876,\n",
       " -38826.426971669236,\n",
       " -31818.084704219822,\n",
       " -61413.03054989903,\n",
       " -21430.284795645533,\n",
       " -14060.508916213468,\n",
       " -83760.77717121657,\n",
       " -81265.99818014502,\n",
       " -65215.109755941725,\n",
       " -35573.249269684056,\n",
       " -8126.993593163908,\n",
       " -92357.12875966467,\n",
       " -76182.54637775419,\n",
       " -79172.84358797844,\n",
       " 13038.164990257072,\n",
       " -29525.241060320826,\n",
       " -52946.29037801175,\n",
       " -21704.32067319426,\n",
       " -78911.37997553516,\n",
       " -46531.57707004147,\n",
       " -67029.95055617386,\n",
       " -34265.458016752826,\n",
       " -78417.68024615331,\n",
       " 2015.569789546954,\n",
       " -24072.12403523384,\n",
       " -86327.82735171709,\n",
       " -21118.30786802406,\n",
       " -7822.918219381174,\n",
       " -56226.54472792196,\n",
       " -19500.38410648561,\n",
       " -32915.02446467916,\n",
       " -18586.278992548316,\n",
       " -79823.8440340618,\n",
       " -5446.470188473896,\n",
       " -20525.749844627895,\n",
       " -6511.903700738175,\n",
       " -57026.24450299468,\n",
       " -26934.676033190444,\n",
       " -19455.03949103819,\n",
       " -7581.890229702272,\n",
       " -64214.59507766659,\n",
       " -69759.56796913076,\n",
       " -53516.95518449468,\n",
       " -63936.14300215547,\n",
       " -26999.96785130946,\n",
       " -68827.12231618483,\n",
       " -52547.212207093864,\n",
       " -38573.57636173025,\n",
       " -6444.395274326776,\n",
       " -53398.61075670346,\n",
       " -54243.38365638417,\n",
       " -35794.64722367738,\n",
       " -68198.0820356123,\n",
       " -9875.05049530716,\n",
       " -52334.8267794695,\n",
       " -61571.70444287978,\n",
       " -22707.501225800108,\n",
       " -33201.98366832025,\n",
       " -7422.084539191924,\n",
       " -55005.308601861136,\n",
       " -26385.509815410143,\n",
       " -62233.998356391814,\n",
       " -43581.290561066155,\n",
       " 9122.993892354836,\n",
       " -16722.21985144679,\n",
       " -17309.027419520364,\n",
       " -77316.09684825271,\n",
       " -4956.827670932169,\n",
       " -88624.86725775972,\n",
       " -89879.94605867928,\n",
       " -33160.36465673467,\n",
       " -9757.263578473081,\n",
       " -11017.272623664338,\n",
       " -78359.26378743116,\n",
       " -30237.565870063612,\n",
       " -20347.622898884256,\n",
       " -26002.735189189767,\n",
       " -31292.931636796126,\n",
       " -86191.05141200796,\n",
       " -85260.36889353182,\n",
       " -34694.36307214526,\n",
       " -48921.540759039504,\n",
       " -3356.0975891179874,\n",
       " -21856.406852282238,\n",
       " -24098.61186556864,\n",
       " -46931.93904617878,\n",
       " -39767.8030598044,\n",
       " -29529.702825191933,\n",
       " -22311.87084671051,\n",
       " -31903.294772629295,\n",
       " -25869.329229005936,\n",
       " -1390.8832983457835,\n",
       " -49295.63626993268,\n",
       " -90022.79837819036,\n",
       " -28949.0370908779,\n",
       " -42878.97113190352,\n",
       " -27944.748024745622,\n",
       " -12637.601033726882,\n",
       " -16181.462964695129,\n",
       " -20543.232054781343,\n",
       " -64681.62830617179,\n",
       " -23847.685791514457,\n",
       " -74879.61484280395,\n",
       " -39789.261379254465,\n",
       " -20150.52598358532,\n",
       " -27188.83411618777,\n",
       " -36634.22101205637,\n",
       " -21870.660275859776,\n",
       " -21607.688559829123,\n",
       " -17646.95217383924,\n",
       " -93814.16881837818,\n",
       " -39612.894231033475,\n",
       " -27826.868214349786,\n",
       " -57312.0217697323,\n",
       " -29963.5071794204,\n",
       " -70791.40189236947,\n",
       " -36701.529055478655,\n",
       " -68931.36588626029,\n",
       " -59618.6686955808,\n",
       " -105282.81141241471,\n",
       " -37013.70487501644,\n",
       " -28725.897540035698,\n",
       " -48125.69473461971,\n",
       " -57899.42774757215,\n",
       " -56586.58763215844,\n",
       " -31151.712311979023,\n",
       " -35527.216310168624,\n",
       " -67601.192611863,\n",
       " -51715.93116173041,\n",
       " -97416.12286750258,\n",
       " -59017.384930260014,\n",
       " -28523.83871706436,\n",
       " -46689.79169463313,\n",
       " -46603.58749941448,\n",
       " -32664.143866992214,\n",
       " -21855.168245619105,\n",
       " 8288.227590266468,\n",
       " -27501.329263674714,\n",
       " -12084.384517980114,\n",
       " -50643.65194487035,\n",
       " -19877.222381660224,\n",
       " -22462.93197057241,\n",
       " -46958.18271329757,\n",
       " -101288.92572713789,\n",
       " -19815.69049576166,\n",
       " -54474.92697219718,\n",
       " -2650.5208082555423,\n",
       " -100464.3643492853,\n",
       " -61240.32283097631,\n",
       " -25732.739599296387,\n",
       " -21222.721289184796,\n",
       " -36779.467672579165,\n",
       " -62119.635568683174,\n",
       " -19686.39088948047,\n",
       " -87298.00526908509,\n",
       " -66701.04221372964,\n",
       " -65012.40287712236,\n",
       " -26196.41363938549,\n",
       " -87174.42209018156,\n",
       " -13045.074807081272,\n",
       " -9642.647838850697,\n",
       " -10373.587891739704,\n",
       " -36149.95001638989,\n",
       " -30620.14893904506,\n",
       " -24085.567858085382,\n",
       " -34817.27079372934,\n",
       " -9686.47240646198,\n",
       " -32013.959926090138,\n",
       " -38815.731053290336,\n",
       " -45086.374425133516,\n",
       " 1043.7627818993528,\n",
       " -6751.051125379493,\n",
       " -65395.43924247171,\n",
       " -41949.72327129766,\n",
       " -55419.96447278494,\n",
       " -96046.5078357573,\n",
       " -37215.23691904564,\n",
       " -12029.770286651581,\n",
       " -36338.61025366013,\n",
       " -35426.17146774196,\n",
       " -66905.58051797829,\n",
       " -15455.361251696153,\n",
       " -27109.173688287152,\n",
       " -27747.102468573077,\n",
       " -26201.449672919443,\n",
       " -25410.7599725326,\n",
       " -73232.2958420292,\n",
       " -30629.484618324597,\n",
       " -40530.44952416826,\n",
       " -15722.335448003305,\n",
       " -6647.346857655173,\n",
       " -85303.50639910194,\n",
       " -46173.91401235103,\n",
       " -78400.86437000669,\n",
       " -9262.283299623135,\n",
       " -24342.726711858893,\n",
       " -38647.43844342756,\n",
       " -49102.8873392542,\n",
       " -45428.40655752643,\n",
       " -66753.30608053929,\n",
       " -47213.994754683124,\n",
       " -43296.56924303465,\n",
       " -26663.662595641552,\n",
       " -17849.160849032476,\n",
       " -58690.901639578835,\n",
       " -16136.352142878146,\n",
       " -75663.16202480056,\n",
       " -63310.51277400119,\n",
       " -13722.068775070604,\n",
       " -55584.040475093076,\n",
       " -64183.12504715257,\n",
       " -28630.408821915174,\n",
       " -27428.52615963872,\n",
       " -34400.05512812499,\n",
       " -49367.42607506898,\n",
       " -46611.72670865708,\n",
       " -35164.2649278898,\n",
       " -79623.5043202905,\n",
       " -25864.41413754214,\n",
       " -81643.70087618518,\n",
       " 6902.661602900194,\n",
       " -27878.712499545647,\n",
       " -29842.138767741137,\n",
       " -46521.00515769211,\n",
       " -21871.2001695897,\n",
       " -40951.82784604396,\n",
       " -46157.70927959972,\n",
       " -24405.8567383665,\n",
       " -66668.10870596753,\n",
       " -4310.351188104834,\n",
       " -19364.3743646676,\n",
       " -39767.98718814359,\n",
       " -7630.929357745843,\n",
       " -33555.06025166371,\n",
       " -11331.25517669585,\n",
       " 4544.098980841283,\n",
       " -19185.039544446376,\n",
       " -70635.13850442876,\n",
       " 6526.9980590895675,\n",
       " -45846.52982006924,\n",
       " -67028.12283909833,\n",
       " -66255.99096504254,\n",
       " -57736.59954687686,\n",
       " -83558.81423530042,\n",
       " -53598.5273639562,\n",
       " -18165.535831003126,\n",
       " -46258.87447589109,\n",
       " -26438.92762261669,\n",
       " 4512.035483361517,\n",
       " -14461.317533990936,\n",
       " -58969.05364815937,\n",
       " -71564.86761399778,\n",
       " -93887.69926528515,\n",
       " -25029.992183530234,\n",
       " -63465.03917413784,\n",
       " -59768.97403677722,\n",
       " -20546.894679063837,\n",
       " -21320.62354929738,\n",
       " -82163.64299848035,\n",
       " -46402.66336810453,\n",
       " -52549.84792668397,\n",
       " -31803.481179957085,\n",
       " -52902.40593592635,\n",
       " -34801.380485933936,\n",
       " -23409.42323925418,\n",
       " -55592.57730503117,\n",
       " -39782.76432668716,\n",
       " -21816.017061806648,\n",
       " -40666.9388640722,\n",
       " -106516.46267489198,\n",
       " -28880.228769703317,\n",
       " -46131.80143350739,\n",
       " -19991.968455213944,\n",
       " -54973.02106804414,\n",
       " -20789.85140223085,\n",
       " -23576.91303108817,\n",
       " -6684.229502126091,\n",
       " -39341.453297444656,\n",
       " -63127.62731743777,\n",
       " -15690.648715560494,\n",
       " -73570.45149723199,\n",
       " -26732.06103092826,\n",
       " -26053.199755794714,\n",
       " -5137.804896328784,\n",
       " -11323.415770523658,\n",
       " -37040.57530455857,\n",
       " -29224.729530898636,\n",
       " -8114.399503135258,\n",
       " -9017.299484926674,\n",
       " -36186.06299713902,\n",
       " -71066.15632682158,\n",
       " -81579.39279751059,\n",
       " -82668.89460758261,\n",
       " -902.6784886365599,\n",
       " -19228.760279085254,\n",
       " -83983.64142067493,\n",
       " -46350.95012951688,\n",
       " -22584.04317231399,\n",
       " -13884.769373823483,\n",
       " -61598.43489175143,\n",
       " -24906.030603402436,\n",
       " -27463.83039041995,\n",
       " -6415.490495849308,\n",
       " -49122.01858041956,\n",
       " -18109.693848707127,\n",
       " -67528.71438205628,\n",
       " -88258.17470255704,\n",
       " -9294.052943939494,\n",
       " -40793.88940136347,\n",
       " -78336.06933236698,\n",
       " -39016.10612859928,\n",
       " -32003.837508075518,\n",
       " -49463.42100118332,\n",
       " -21787.974305832635,\n",
       " -29379.924281176423,\n",
       " -30811.535976703457,\n",
       " -72675.96227575841,\n",
       " -54082.64951936979,\n",
       " -20097.352877413592,\n",
       " -29887.800119764586,\n",
       " -16857.42528842198,\n",
       " -39029.924433009815,\n",
       " -34322.97198510764,\n",
       " -5257.470868636142,\n",
       " -31811.505623753805,\n",
       " -40527.65160044183,\n",
       " -33295.795431658335,\n",
       " -41852.53224684413,\n",
       " -79046.76127577832,\n",
       " -32604.851807382467,\n",
       " -56218.14797425638,\n",
       " -72477.90926964232,\n",
       " 18789.164832569004,\n",
       " -73082.64407874216,\n",
       " -19702.54069546648,\n",
       " -41398.52299752967,\n",
       " -22797.437988697504,\n",
       " -82945.8685356789,\n",
       " -33639.77855827012,\n",
       " -33019.8077768271,\n",
       " -36875.707227742474,\n",
       " -62953.23170239508,\n",
       " -21659.25614181967,\n",
       " -17021.197112574577,\n",
       " -40677.52491588317,\n",
       " -67059.34111512043,\n",
       " -37348.13973686147,\n",
       " -45079.94173856958,\n",
       " -53167.54562156659,\n",
       " -54829.23127237223,\n",
       " -43013.325148446405,\n",
       " -27592.030441193172,\n",
       " -25920.99381835154,\n",
       " -28540.745520488766,\n",
       " -15145.77226857276,\n",
       " -71185.14938895176,\n",
       " -27926.998269016425,\n",
       " -70243.81776737253,\n",
       " 1643.46992108457,\n",
       " -76325.29154335361,\n",
       " -37608.716932625546,\n",
       " -166.48568419623916,\n",
       " -30429.153889402936,\n",
       " -100063.79424445432,\n",
       " -27564.88208924134,\n",
       " -70366.22607525412,\n",
       " -43919.9331005732,\n",
       " -6050.792005368926,\n",
       " -43182.82121686455,\n",
       " -37798.588073002735,\n",
       " -16156.859431627394,\n",
       " -25985.56329763367,\n",
       " -67094.25138022976,\n",
       " -39992.219820772254,\n",
       " -43366.6591415471,\n",
       " -45878.50974598919,\n",
       " -19308.32287560848,\n",
       " -18630.81330217123,\n",
       " -16998.554409339693,\n",
       " -37768.81270280364,\n",
       " -31827.44456086343,\n",
       " -36106.748095626885,\n",
       " -79804.43655772279,\n",
       " -63614.49832090399,\n",
       " -38268.270915337525,\n",
       " -33473.89509026734,\n",
       " -46618.6237729587,\n",
       " -17902.24008138021,\n",
       " -48514.972642724686,\n",
       " -30000.60057874293,\n",
       " -55779.168596434756,\n",
       " -31820.70556963895,\n",
       " -14614.072737336906,\n",
       " -69183.29165345902,\n",
       " -26483.941668243187,\n",
       " -73992.98378585177,\n",
       " -100195.06348543323,\n",
       " -23734.360634596993,\n",
       " -32013.760887798624,\n",
       " -44012.70533201602,\n",
       " -20353.280048220204,\n",
       " -1571.7451886932402,\n",
       " -51628.69281701056,\n",
       " -55861.63105247981,\n",
       " -30508.89624987664,\n",
       " -12394.478342209964,\n",
       " -55338.35905760838,\n",
       " -23151.907437899925,\n",
       " -5114.739849837555,\n",
       " -51542.991065425755,\n",
       " -59232.836507347376,\n",
       " -27082.782953504782,\n",
       " 14162.916710525575,\n",
       " -32552.920067372186,\n",
       " -45800.71075531988,\n",
       " -46751.71261102177,\n",
       " -42276.96725836078,\n",
       " -22514.231658097196,\n",
       " -37575.22614808272,\n",
       " -15443.410066945378,\n",
       " -32140.710313826232,\n",
       " -51024.13296393141,\n",
       " -32056.281485802097,\n",
       " -56462.12192642487,\n",
       " -35109.7825768445,\n",
       " -30680.794962599623,\n",
       " -612.2650693035887,\n",
       " -20088.118832387372,\n",
       " -47710.98388241161,\n",
       " -110163.05022177169,\n",
       " -13468.36847160169,\n",
       " -23948.022104390875,\n",
       " -28203.794463264974,\n",
       " -31570.682225924505,\n",
       " -30151.602231069475,\n",
       " -27379.047539508498,\n",
       " -58772.804623416094,\n",
       " -30123.761573794083,\n",
       " -26475.57252843793,\n",
       " -91645.51618153237,\n",
       " -5411.076271069217,\n",
       " -87950.21974396353,\n",
       " -72758.1956180376,\n",
       " -45035.20907018957,\n",
       " -38778.362086674715,\n",
       " -73083.46328636991,\n",
       " -15183.945226731408,\n",
       " -19713.83289570184,\n",
       " -5099.098656254076,\n",
       " -75737.74853914761,\n",
       " -33456.520309597145,\n",
       " -17468.83373631937,\n",
       " -38894.03503662097,\n",
       " -51891.21386634301,\n",
       " 3794.850501563382,\n",
       " -41096.12870894103,\n",
       " -54766.88686859256,\n",
       " -26929.72701103342,\n",
       " -29399.229686054074,\n",
       " -30389.46448579556,\n",
       " -63198.24649546499,\n",
       " -35416.67633770991,\n",
       " -57810.56421984165,\n",
       " -16326.079531696658,\n",
       " -29469.8303662414,\n",
       " -37230.61543145862,\n",
       " -56292.52608283351,\n",
       " -32000.094856463704,\n",
       " -32907.2746964271,\n",
       " -65894.50380128762,\n",
       " -7020.971124955173,\n",
       " -23493.86555393417,\n",
       " -30480.401066011797,\n",
       " -25229.119546698228,\n",
       " -46423.756184657104,\n",
       " -31141.941981500488,\n",
       " -46376.579316953066,\n",
       " -18568.514743963333,\n",
       " -29100.545170988233,\n",
       " -34187.2319457832,\n",
       " -87103.40325654135,\n",
       " -42286.73316778436,\n",
       " -27272.38180380738,\n",
       " -27220.679987019157,\n",
       " -34086.747683136215,\n",
       " -69529.21065996937,\n",
       " -12455.646874495354,\n",
       " -15925.891859495174,\n",
       " -84539.47641303351,\n",
       " -21042.94525955907,\n",
       " -28834.69896447564,\n",
       " -65232.44664267722,\n",
       " -20824.650837754096,\n",
       " -64669.12882085202,\n",
       " -45128.0845269218,\n",
       " -63845.464257917585,\n",
       " -36411.266038582726,\n",
       " -25985.39700618289,\n",
       " -46397.9505924225,\n",
       " -69792.0928429542,\n",
       " -21315.64082134653,\n",
       " -59029.23816956606,\n",
       " -48724.54208474388,\n",
       " -6001.7491234850395,\n",
       " -3103.603962588704,\n",
       " -12386.40435684792,\n",
       " 13965.487784690255,\n",
       " -34396.504391605115,\n",
       " -25820.495806300227,\n",
       " -32836.35275247034,\n",
       " -37471.33972094032,\n",
       " -4771.288625906387,\n",
       " -71600.6244048624,\n",
       " -32785.459005233235,\n",
       " -24752.9058655774,\n",
       " -28257.342705615458,\n",
       " 15471.116623576523,\n",
       " -87569.49192534406,\n",
       " -8128.753266854605,\n",
       " -20113.07097797402,\n",
       " -23485.92428748514,\n",
       " -36264.68238005631,\n",
       " -80583.8564644807,\n",
       " -49540.11727443359,\n",
       " -49314.85859403678,\n",
       " -32725.80971525339,\n",
       " -77060.7451219862,\n",
       " -54105.40658557521,\n",
       " -74227.00654041683,\n",
       " -15819.201571019817,\n",
       " -33464.03844619745,\n",
       " -36982.102958294316,\n",
       " -24474.524076947244,\n",
       " -106170.42414871337,\n",
       " -38653.75681808778,\n",
       " -27999.836926059084,\n",
       " -13408.094868749562,\n",
       " -88879.13682461505,\n",
       " -84514.48276591572,\n",
       " 979.3230776778291,\n",
       " -30354.62044268347,\n",
       " -946.994245051577,\n",
       " -26517.914944237706,\n",
       " -78707.72063662323,\n",
       " -37041.2867975224,\n",
       " -30740.261762710754,\n",
       " -43455.81671122881,\n",
       " -31549.28707852701,\n",
       " -28819.8902229387,\n",
       " -39066.91444420401,\n",
       " -81809.45846885358,\n",
       " -46063.037407405805,\n",
       " -5000.115791428897,\n",
       " -84325.70424322737,\n",
       " -82204.61583739602,\n",
       " 22538.38171061901,\n",
       " -28410.53175959552,\n",
       " -40930.89964540293,\n",
       " -25409.59302250874,\n",
       " -59442.99429483576,\n",
       " -86130.51362346794,\n",
       " -49417.5017689618,\n",
       " -42750.13945340672,\n",
       " -58086.98669162192,\n",
       " -25091.290774428882,\n",
       " -28562.245676518964,\n",
       " -16484.138228603886,\n",
       " -38280.1273002136,\n",
       " -37050.86833967395,\n",
       " -88316.912424802,\n",
       " -21756.804844618437,\n",
       " -30157.654819374762,\n",
       " -22312.226127253674,\n",
       " -49502.549142032614,\n",
       " -47787.00672041005,\n",
       " -18994.421464810875,\n",
       " -16661.29856572387,\n",
       " -42777.41334852494,\n",
       " -76107.40784721733,\n",
       " -63138.95004880349,\n",
       " -57959.39489763162,\n",
       " -79848.21799985926,\n",
       " -71200.67949253245,\n",
       " -21823.516929513906,\n",
       " -78507.30499370092,\n",
       " -14777.348296763876,\n",
       " -37862.13127171992,\n",
       " -55399.493749141635,\n",
       " -36384.801508824,\n",
       " -69337.9562270297,\n",
       " -64575.2216992015,\n",
       " -29931.484822185717,\n",
       " -31944.457206916766,\n",
       " -13400.094797814198,\n",
       " -612.3991871575821,\n",
       " -29424.5944447878,\n",
       " -6289.61566080891,\n",
       " -91553.34778428917,\n",
       " -84106.64796981486,\n",
       " -25239.123674049733,\n",
       " -25110.635930213044,\n",
       " -18718.84522193065,\n",
       " -73144.16978738143,\n",
       " -30758.523160713903,\n",
       " -26844.851895611864,\n",
       " -38591.87821146463,\n",
       " -41465.02823245785,\n",
       " -78732.6392880492,\n",
       " -21649.089149378346,\n",
       " -17548.826476815182,\n",
       " -35638.12177630456,\n",
       " -16076.550767664969,\n",
       " -17059.900354378624,\n",
       " -40535.698211533854,\n",
       " -13233.977572697004,\n",
       " -99502.65890495348,\n",
       " -18702.1449819689,\n",
       " -29538.31176940168,\n",
       " 3019.7781614188066,\n",
       " -18563.651144991556,\n",
       " -52259.494982036755,\n",
       " -19954.430818613044,\n",
       " -66451.69436672056,\n",
       " -23723.923752276838,\n",
       " -41416.70502422066,\n",
       " -41400.1163027049,\n",
       " -8251.23127453359,\n",
       " -25711.494313130606,\n",
       " -23398.892386152238,\n",
       " -65465.91392273985,\n",
       " -18706.822816211912,\n",
       " -21697.36948621826,\n",
       " -13133.942398569718,\n",
       " -51252.52315687448]"
      ]
     },
     "execution_count": 16,
     "metadata": {},
     "output_type": "execute_result"
    }
   ],
   "source": [
    "cred_all"
   ]
  },
  {
   "cell_type": "code",
   "execution_count": 17,
   "metadata": {},
   "outputs": [
    {
     "data": {
      "text/plain": [
       "[-5.0,\n",
       " -4.434314575050762,\n",
       " -2.5475183486394415,\n",
       " -1.5475183486394415,\n",
       " -0.20587756213956765,\n",
       " 1.763893998219653,\n",
       " 2.363893998219653,\n",
       " 4.1638939982196534,\n",
       " 4.563893998219654,\n",
       " 5.844518845706224,\n",
       " 7.3005408235623275,\n",
       " 8.517093329621972,\n",
       " 9.536897232340529,\n",
       " 10.36151835746406,\n",
       " 11.703159143963934,\n",
       " 12.503159143963934,\n",
       " 13.719711650023578,\n",
       " 15.519711650023579,\n",
       " 11.984177744090841,\n",
       " 13.596629293750551,\n",
       " 14.813181799810195,\n",
       " 15.445637331843871,\n",
       " 16.859850894216965,\n",
       " 18.259850894216964,\n",
       " 19.27965479693552,\n",
       " 21.27965479693552,\n",
       " 23.000119850344046,\n",
       " 24.844028741802624,\n",
       " 25.56513899689542,\n",
       " 27.17759054655513,\n",
       " 28.898055599963655,\n",
       " 30.61852065337218,\n",
       " 32.03273421574527,\n",
       " 27.032734215745272,\n",
       " 28.05253811846383,\n",
       " 30.02230967882305,\n",
       " 30.654765210856723,\n",
       " 27.119231304923986,\n",
       " 29.119231304923986,\n",
       " 30.963140196382565,\n",
       " 32.763140196382565,\n",
       " 33.61166833380642,\n",
       " 35.50903492990745,\n",
       " 37.39583115631877,\n",
       " 38.41563505903733,\n",
       " 39.136745314130124,\n",
       " 40.53674531413012,\n",
       " 41.950958876503215,\n",
       " 42.550958876503216,\n",
       " 44.25975962556672,\n",
       " 45.540384473053294,\n",
       " 47.540384473053294,\n",
       " 48.10606989800253,\n",
       " 48.954598035426386,\n",
       " 49.67570829051918,\n",
       " 51.464562672519016,\n",
       " 52.90678318270461,\n",
       " 54.80414977880564,\n",
       " 56.41660132846535,\n",
       " 51.41660132846535,\n",
       " 52.816601328465346,\n",
       " 54.51365760331306,\n",
       " 56.12610915297277,\n",
       " 56.691794577922,\n",
       " 58.34103682816907,\n",
       " 59.55758933422871,\n",
       " -440.44241066577126,\n",
       " -439.02819710339816,\n",
       " -438.6281971033982,\n",
       " -438.02819710339816,\n",
       " -436.05842554303894,\n",
       " -435.0386216403204,\n",
       " -433.0688500799612,\n",
       " -431.36004933089765,\n",
       " -430.36004933089765,\n",
       " -433.89558323683036,\n",
       " -431.92581167647114,\n",
       " -430.72581167647115,\n",
       " -428.91473464884365,\n",
       " -427.51473464884367,\n",
       " -425.6708257573851,\n",
       " -423.97376948253736,\n",
       " -923.9737694825374,\n",
       " -921.993870495215,\n",
       " -920.4707158740422,\n",
       " -918.6707158740422,\n",
       " -917.2565023116691,\n",
       " -915.842288749296,\n",
       " -915.0422887492961,\n",
       " -914.1478615582962,\n",
       " -913.5154060262626,\n",
       " -912.6209788352627,\n",
       " -911.4209788352626,\n",
       " -909.8589289000813,\n",
       " -907.97213267367,\n",
       " -906.5299121634844,\n",
       " -906.1299121634844,\n",
       " -904.9299121634843,\n",
       " -903.3174606138247,\n",
       " -901.3174606138247,\n",
       " -900.8702470183247,\n",
       " -899.7932140568978,\n",
       " -898.1439718066507,\n",
       " -896.1439718066507,\n",
       " -899.6795057125835,\n",
       " -897.6795057125835,\n",
       " -896.6795057125835,\n",
       " -896.0795057125835,\n",
       " -894.2795057125835,\n",
       " -893.4795057125835,\n",
       " -891.635596821125,\n",
       " -891.0031412890913,\n",
       " -889.3060850142436,\n",
       " -887.8500630363875,\n",
       " -886.5851519723201,\n",
       " -885.170938409947,\n",
       " -883.4504733565385,\n",
       " -882.31910250664,\n",
       " -880.8768819964544,\n",
       " -879.3537273752816,\n",
       " -877.509818483823,\n",
       " -876.8773629517893,\n",
       " -875.4773629517894,\n",
       " -873.9542083306166,\n",
       " -872.110299439158,\n",
       " -871.110299439158,\n",
       " -869.6542774613018,\n",
       " -869.0542774613018,\n",
       " -868.4542774613018,\n",
       " -867.733167206209,\n",
       " -866.7133633034905,\n",
       " -866.1133633034905,\n",
       " -864.9819924535919,\n",
       " -864.3819924535919,\n",
       " -863.7819924535919,\n",
       " -862.0615274001834,\n",
       " -867.0615274001834,\n",
       " -865.35272665112,\n",
       " -864.7202711190863,\n",
       " -862.8229045229853,\n",
       " -860.9789956315267,\n",
       " -860.1789956315267,\n",
       " -859.3304674941029,\n",
       " -858.7647820691536,\n",
       " -856.9208731776951,\n",
       " -855.5208731776951,\n",
       " -854.1792323911952,\n",
       " -859.1792323911952,\n",
       " -857.3681553635678,\n",
       " -855.5681553635678,\n",
       " -853.7242464721093,\n",
       " -851.8803375806507,\n",
       " -851.4803375806507,\n",
       " -850.6557164555272,\n",
       " -849.0557164555272,\n",
       " -848.6085028600272,\n",
       " -846.8880378066187,\n",
       " -845.7218474276497,\n",
       " -844.8733192902258,\n",
       " -844.4733192902258,\n",
       " -849.4733192902258,\n",
       " -848.6733192902259,\n",
       " -847.4084082261585,\n",
       " -846.1434971620911,\n",
       " -851.1434971620911,\n",
       " -849.1737256017318,\n",
       " -848.5412700696982,\n",
       " -846.9792201345168,\n",
       " -846.5792201345168,\n",
       " -844.6094485741576,\n",
       " -842.8205941921577,\n",
       " -840.9337979657464,\n",
       " -839.1337979657465,\n",
       " -837.6915774555608,\n",
       " -835.9827767064974,\n",
       " -834.2857204316497,\n",
       " -833.2857204316497,\n",
       " -831.3058214443273,\n",
       " -830.0409103802599,\n",
       " -828.0610113929375,\n",
       " -826.5378567717647,\n",
       " -824.8173917183562,\n",
       " -824.0962814632635,\n",
       " -823.6962814632635,\n",
       " -822.8018542722637,\n",
       " -822.3546406767637,\n",
       " -821.3546406767637,\n",
       " -819.3848691164044,\n",
       " -818.0432283299045,\n",
       " -816.6290147675314,\n",
       " -814.908549714123,\n",
       " -813.4525277362668,\n",
       " -812.0525277362668,\n",
       " -811.2279066111433,\n",
       " -810.0279066111433,\n",
       " -809.2032854860198,\n",
       " -807.3164892596085,\n",
       " -806.29668535689,\n",
       " -804.8544648467043,\n",
       " -804.2544648467043,\n",
       " -802.5456640976408,\n",
       " -801.2650392501542,\n",
       " -799.9844144026677,\n",
       " -799.3844144026676,\n",
       " -797.8223644674863,\n",
       " -795.9249978713852,\n",
       " -794.5833570848854,\n",
       " -793.5833570848854,\n",
       " -791.8628920314769,\n",
       " -789.8931204711176,\n",
       " -788.612495623631,\n",
       " -787.8124956236311,\n",
       " -786.1036948745676,\n",
       " -785.3825846194749,\n",
       " -783.5825846194749,\n",
       " -782.3660321134153,\n",
       " -780.9518185510422,\n",
       " -780.3518185510421,\n",
       " -778.937604988669,\n",
       " -776.937604988669,\n",
       " -775.6569801411824,\n",
       " -774.0949302060011,\n",
       " -773.2703090808776,\n",
       " -771.8703090808776,\n",
       " -771.4703090808777,\n",
       " -769.7498440274692,\n",
       " -768.3356304650961,\n",
       " -766.4917215736375,\n",
       " -764.771256520229,\n",
       " -764.324042924729,\n",
       " -763.724042924729,\n",
       " -762.3098293623559,\n",
       " -761.509829362356,\n",
       " -760.509829362356,\n",
       " -759.9098293623559,\n",
       " -758.0659204708974,\n",
       " -757.6187068753974,\n",
       " -756.2770660888975,\n",
       " -755.257262186179,\n",
       " -753.6952122509977,\n",
       " -758.6952122509977,\n",
       " -757.4303011869303,\n",
       " -762.4303011869303,\n",
       " -765.965835092863,\n",
       " -764.9460311901445,\n",
       " -764.3135756581108,\n",
       " -762.3438040977516,\n",
       " -760.5438040977516,\n",
       " -759.5438040977516,\n",
       " -757.8945618475045,\n",
       " -756.2821102978448,\n",
       " -755.387683106845,\n",
       " -753.587683106845,\n",
       " -752.1316611289889,\n",
       " -757.1316611289889,\n",
       " -755.8667500649215,\n",
       " -753.8667500649215,\n",
       " -753.4667500649215,\n",
       " -751.6228411734629,\n",
       " -749.6429421861405,\n",
       " -748.6429421861405,\n",
       " -746.9224771327321,\n",
       " -745.8454441713052,\n",
       " -744.7684112098783,\n",
       " -742.9684112098784,\n",
       " -741.3559596602187,\n",
       " -740.3559596602187,\n",
       " -739.723504128185,\n",
       " -738.4428792806984,\n",
       " -737.9956656851984,\n",
       " -741.5311995911312,\n",
       " -740.1169860287581,\n",
       " -739.2923649036346,\n",
       " -737.9507241171348,\n",
       " -737.5035105216348,\n",
       " -736.9035105216348,\n",
       " -735.7035105216347,\n",
       " -734.1803559004619,\n",
       " -733.1803559004619,\n",
       " -732.0141655214928,\n",
       " -731.0141655214928,\n",
       " -729.6141655214929,\n",
       " -728.1999519591197,\n",
       " -726.3560430676612,\n",
       " -725.5314219425377,\n",
       " -724.2507970950511,\n",
       " -723.8035834995511,\n",
       " -722.2035834995511,\n",
       " -721.1265505381242,\n",
       " -1221.1265505381243,\n",
       " -1220.1265505381243,\n",
       " -1219.0495175766973,\n",
       " -1224.0495175766973,\n",
       " -1222.2056086852388,\n",
       " -1221.7583950897388,\n",
       " -1220.9583950897388,\n",
       " -1219.5441815273657,\n",
       " -1223.0797154332984,\n",
       " -1221.192919206887,\n",
       " -1220.1731153041683,\n",
       " -1218.3620382765407,\n",
       " -1216.6415732231321,\n",
       " -1221.6415732231321,\n",
       " -1220.3609483756456,\n",
       " -1218.748496825986,\n",
       " -1217.0280317725774,\n",
       " -1215.2280317725774,\n",
       " -1213.2481327852552,\n",
       " -1212.1167619353566,\n",
       " -1210.272853043898,\n",
       " -1209.272853043898,\n",
       " -1208.272853043898,\n",
       " -1206.3030814835388,\n",
       " -1204.4057148874379,\n",
       " -1203.1250900399514,\n",
       " -1201.5630401047702,\n",
       " -1199.9505885551105,\n",
       " -1198.139511527483,\n",
       " -1197.5738261025338,\n",
       " -1196.4424552526352,\n",
       " -1196.0424552526351,\n",
       " -1194.1985463611766,\n",
       " -1192.6364964259953,\n",
       " -1191.1133418048225,\n",
       " -1189.832716957336,\n",
       " -1188.832716957336,\n",
       " -1187.832716957336,\n",
       " -1187.385503361836,\n",
       " -1186.1048785143496,\n",
       " -1184.2180822879382,\n",
       " -1182.7758617777527,\n",
       " -1181.6096713987836,\n",
       " -1179.7228751723721,\n",
       " -1178.7228751723721,\n",
       " -1177.308661609999,\n",
       " -1176.0280367625126,\n",
       " -1174.1412405361011,\n",
       " -1172.8763294720338,\n",
       " -1172.0278013346099,\n",
       " -1170.7471764871234,\n",
       " -1169.7471764871234,\n",
       " -1168.6158056372249,\n",
       " -1167.9833501051912,\n",
       " -1166.3708985555315,\n",
       " -1164.8477439343587,\n",
       " -1163.4055234241732,\n",
       " -1162.4055234241732,\n",
       " -1160.6055234241733,\n",
       " -1159.4393330452042,\n",
       " -1157.8393330452043,\n",
       " -1156.1305322961407,\n",
       " -1154.4217315470771,\n",
       " -1153.2051790410176,\n",
       " -1151.8051790410175,\n",
       " -1150.1927274913578,\n",
       " -1148.5802759416981,\n",
       " -1153.5802759416981,\n",
       " -1152.166062379325,\n",
       " -1150.3772079973253,\n",
       " -1148.407436436966,\n",
       " -1146.407436436966,\n",
       " -1144.607436436966,\n",
       " -1143.807436436966,\n",
       " -1142.393222874593,\n",
       " -1141.393222874593,\n",
       " -1139.9372008967368,\n",
       " -1138.3751509615556,\n",
       " -1136.7259087113086,\n",
       " -1135.0766664610617,\n",
       " -1133.7350256745617,\n",
       " -1132.5350256745617,\n",
       " -1131.7104045494382,\n",
       " -1130.0016038003746,\n",
       " -1128.6016038003745,\n",
       " -1128.0359183754254,\n",
       " -1126.3388621005777,\n",
       " -1125.1726717216086,\n",
       " -1123.361594693981,\n",
       " -1122.195404315012,\n",
       " -1120.3086080886005,\n",
       " -1118.7854534674277,\n",
       " -1117.9608323423042,\n",
       " -1116.1608323423043,\n",
       " -1115.3362112171808,\n",
       " -1114.7037556851471,\n",
       " -1112.9949549360836,\n",
       " -1111.8287645571145,\n",
       " -1110.1317082822668,\n",
       " -1108.5192567326071,\n",
       " -1107.105043170234,\n",
       " -1105.3962424211704,\n",
       " -1104.3764385184518,\n",
       " -1102.9622249560787,\n",
       " -1101.3129827058317,\n",
       " -1100.0964301997722,\n",
       " -1098.4471879495252,\n",
       " -1097.5986598121012,\n",
       " -1096.5788559093826,\n",
       " -1095.7788559093826,\n",
       " -1094.7788559093826,\n",
       " -1093.1788559093827,\n",
       " -1092.1018229479557,\n",
       " -1090.2150267215443,\n",
       " -1089.0150267215442,\n",
       " -1087.2945616681357,\n",
       " -1086.8473480726357,\n",
       " -1086.126237817543,\n",
       " -1089.6617717234756,\n",
       " -1088.0125294732286,\n",
       " -1086.6125294732285,\n",
       " -1085.4125294732285,\n",
       " -1084.195976967169,\n",
       " -1083.1761730644503,\n",
       " -1082.7761730644502,\n",
       " -1082.1437175324165,\n",
       " -1080.7437175324164,\n",
       " -1079.3295039700433,\n",
       " -1077.9152904076702,\n",
       " -1077.1941801525775,\n",
       " -1075.5817286029178,\n",
       " -1075.1345150074178,\n",
       " -1073.611360386245,\n",
       " -1073.164146790745,\n",
       " -1072.4430365356523,\n",
       " -1071.0008160254667,\n",
       " -1069.388364475807,\n",
       " -1067.4185929154478,\n",
       " -1065.4386939281255,\n",
       " -1064.8062383960919,\n",
       " -1063.1937868464322,\n",
       " -1061.4733217930236,\n",
       " -1060.8733217930237,\n",
       " -1059.4733217930236,\n",
       " -1058.84086626099,\n",
       " -1057.8210623582713,\n",
       " -1055.841163370949,\n",
       " -1055.393949775449,\n",
       " -1053.7814982257894,\n",
       " -1051.9704211981618,\n",
       " -1050.3579696485021,\n",
       " -1048.5579696485022,\n",
       " -1046.7140607570436,\n",
       " -1045.8894396319201,\n",
       " -1044.475226069547,\n",
       " -1043.0330055593615,\n",
       " -1042.0330055593615,\n",
       " -1040.4205540097018,\n",
       " -1039.5959328845784,\n",
       " -1038.2542920980784,\n",
       " -1037.1229212481799,\n",
       " -1035.1229212481799,\n",
       " -1034.5572358232307,\n",
       " -1033.7572358232308,\n",
       " -1032.4923247591635,\n",
       " -1030.7718597057549,\n",
       " -1029.248705084582,\n",
       " -1027.248705084582,\n",
       " -1026.6487050845822,\n",
       " -1026.0487050845823,\n",
       " -1024.0487050845823,\n",
       " -1023.6487050845823,\n",
       " -1022.3837940205149,\n",
       " -1021.3639901177963,\n",
       " -1020.0990790537289,\n",
       " -1018.5759244325561,\n",
       " -1016.7759244325562,\n",
       " -1015.5759244325561,\n",
       " -1019.1114583384889,\n",
       " -1017.3909932850804,\n",
       " -1015.9767797227073,\n",
       " -1015.1767797227074,\n",
       " -1013.3657026950799,\n",
       " -1012.3657026950799,\n",
       " -1010.9657026950799,\n",
       " -1008.9657026950799,\n",
       " -1007.1217938036214,\n",
       " -1005.3107167759939,\n",
       " -1004.233683814567,\n",
       " -1002.2537848272447,\n",
       " -1007.2537848272447,\n",
       " -1005.8395712648716,\n",
       " -1004.0395712648716,\n",
       " -1002.5164166436988,\n",
       " -1001.6219894526989,\n",
       " -999.7351932262876,\n",
       " -997.7654216659283,\n",
       " -996.3654216659284,\n",
       " -995.5408005408049,\n",
       " -993.6968916493463,\n",
       " -991.6968916493463,\n",
       " -990.6198586879194,\n",
       " -989.2782179014196,\n",
       " -988.2782179014196,\n",
       " -986.2983189140972,\n",
       " -984.842296936241,\n",
       " -984.242296936241,\n",
       " -982.842296936241,\n",
       " -982.0422969362411,\n",
       " -980.4422969362411,\n",
       " -979.0000764260554,\n",
       " -977.2112220440556,\n",
       " -975.5619797938085,\n",
       " -974.1477662314354,\n",
       " -972.4507099565877,\n",
       " -971.2341574505281,\n",
       " -970.2341574505281,\n",
       " -968.6721075153467,\n",
       " -968.2721075153468,\n",
       " -966.6596559656871,\n",
       " -964.8157470742285,\n",
       " -963.6157470742285,\n",
       " -962.0925924530557,\n",
       " -960.8925924530556,\n",
       " -959.1037380710558,\n",
       " -957.8231132235692,\n",
       " -956.2610632883878,\n",
       " -963.3321311002533,\n",
       " -962.9078670315413,\n",
       " -961.1874019781328,\n",
       " -959.2024586540049,\n",
       " -958.2969201401911,\n",
       " -957.2198871787642,\n",
       " -955.2885663871814,\n",
       " -954.7786644358221,\n",
       " -953.178664435822,\n",
       " -956.5119977691554,\n",
       " -955.4489831878819,\n",
       " -954.0172010815543,\n",
       " -952.8006485754946,\n",
       " -951.8006485754946,\n",
       " -951.1923723224648,\n",
       " -950.0219023313929,\n",
       " -949.4219023313929,\n",
       " -948.2219023313928,\n",
       " -946.6219023313928,\n",
       " -951.0940382863923,\n",
       " -949.6622561800647,\n",
       " -948.6622561800647,\n",
       " -948.1622561800647,\n",
       " -946.8622561800647,\n",
       " -945.5622561800648,\n",
       " -944.5572686179527,\n",
       " -942.6546388589086,\n",
       " -941.1546388589086,\n",
       " -939.5267567992986,\n",
       " -938.8056465442058,\n",
       " -937.3023169063686,\n",
       " -935.7402669711872,\n",
       " -934.1001450245016,\n",
       " -932.7547826197942,\n",
       " -930.8679863933829,\n",
       " -937.9390542052483,\n",
       " -937.017099759519,\n",
       " -935.2706748398617,\n",
       " -934.7321583591482,\n",
       " -1434.7321583591483,\n",
       " -1432.9321583591484,\n",
       " -1431.162977757853,\n",
       " -1429.3602021201211,\n",
       " -1428.7198896963778,\n",
       " -1426.917114058646,\n",
       " -1425.3046625089862,\n",
       " -1424.4046625089861,\n",
       " -1423.7722069769525,\n",
       " -1422.5722069769524,\n",
       " -1421.256912333156,\n",
       " -1420.756912333156,\n",
       " -1419.080606871732,\n",
       " -1417.914416492763,\n",
       " -1415.914416492763,\n",
       " -1415.414416492763,\n",
       " -1414.6333915251723,\n",
       " -1413.9122812700796,\n",
       " -1412.203480521016,\n",
       " -1411.037290142047,\n",
       " -1409.360984680623,\n",
       " -1407.7485331309633,\n",
       " -1907.7485331309633,\n",
       " -1906.4485331309634,\n",
       " -1904.8864831957821,\n",
       " -1902.9167116354229,\n",
       " -1901.575070848923,\n",
       " -1901.127857253423,\n",
       " -1899.5754397837968,\n",
       " -1898.3588872777373,\n",
       " -2398.3588872777373,\n",
       " -2397.0782624302506,\n",
       " -2396.6782624302505,\n",
       " -2396.0782624302506,\n",
       " -2394.1469416386676,\n",
       " -2393.127137735949,\n",
       " -2391.338283353949,\n",
       " -2389.538283353949,\n",
       " -2387.659453931143,\n",
       " -2386.078315101059,\n",
       " -2384.085829216542,\n",
       " -2383.085829216542,\n",
       " -2388.085829216542,\n",
       " -2386.154508424959,\n",
       " -2384.9545084249594,\n",
       " -2383.154508424959,\n",
       " -2381.754508424959,\n",
       " -2379.7847368646,\n",
       " -2377.940827973141,\n",
       " -2376.37877803796,\n",
       " -2380.8509139929592,\n",
       " -2379.081733391664,\n",
       " -2377.625711413808,\n",
       " -2375.7389151873967,\n",
       " -2374.138915187397,\n",
       " -2372.9347557295177,\n",
       " -2371.520542167145,\n",
       " -2370.6959210420214,\n",
       " -2370.0634655099875,\n",
       " -2369.4634655099876,\n",
       " -2368.5690383189876,\n",
       " -2367.5690383189876,\n",
       " -2366.1548247566147,\n",
       " -2364.352049118883,\n",
       " -2363.1313935573094,\n",
       " -2362.7313935573093,\n",
       " -2361.6313935573094,\n",
       " -2360.0189420076495,\n",
       " -2358.2189420076493,\n",
       " -2361.754475913582,\n",
       " -2360.677442952155,\n",
       " -2359.028200701908,\n",
       " -2357.228200701908,\n",
       " -2364.2992685137733,\n",
       " -2362.399268513773,\n",
       " -2361.394280951661,\n",
       " -2360.786004698631,\n",
       " -2358.9832290608992,\n",
       " -2358.1586079357758,\n",
       " -2356.546156386116,\n",
       " -2355.937880133086,\n",
       " -2354.3758301979046,\n",
       " -2353.1388985102194,\n",
       " -2351.901966822534,\n",
       " -2350.6854143164746,\n",
       " -2348.964949263066,\n",
       " -2347.964949263066,\n",
       " -2346.5227287528805,\n",
       " -2345.2227287528804,\n",
       " -2343.453548151585,\n",
       " -2343.006334556085,\n",
       " -2341.8063345560854,\n",
       " -2340.283179934913,\n",
       " -2338.655297875303,\n",
       " -2336.655297875303,\n",
       " -2335.806769737879,\n",
       " -2333.8268707505567,\n",
       " -2332.492704344144,\n",
       " -2331.982802392785,\n",
       " -2331.4729004414257,\n",
       " -2330.889805251941,\n",
       " -2329.967850806212,\n",
       " -2329.567850806212,\n",
       " -2328.5048362249386,\n",
       " -2328.057622629439,\n",
       " -2327.457622629439,\n",
       " -2325.7932909317296,\n",
       " -2335.7932909317296,\n",
       " -2334.3372689538737,\n",
       " -2333.924958391312,\n",
       " -2332.275716141065,\n",
       " -2330.647834081455,\n",
       " -2329.9478340814553,\n",
       " -2329.2407273002686,\n",
       " -2328.793513704769,\n",
       " -2327.0905750681763,\n",
       " -2325.8905750681765,\n",
       " -2324.7201050771046,\n",
       " -2329.192241032104,\n",
       " -2327.392241032104,\n",
       " -2325.692241032104,\n",
       " -2323.8674122730145,\n",
       " -2322.2395302134046,\n",
       " -2321.827219650843,\n",
       " -2321.227219650843,\n",
       " -2319.727219650843,\n",
       " -2322.500720631969,\n",
       " -2321.0585001217837,\n",
       " -2320.0585001217837,\n",
       " -2319.337389866691,\n",
       " -2322.4996675268594,\n",
       " -2327.4996675268594,\n",
       " -2326.8996675268595,\n",
       " -2325.7594921017603,\n",
       " -2323.848994784306,\n",
       " -2322.7088193592067,\n",
       " -2327.7088193592067,\n",
       " -2325.8114527631055,\n",
       " -2325.3015508117464,\n",
       " -2323.941403760873,\n",
       " -2327.476937666806,\n",
       " -2325.7681369177426,\n",
       " -2324.1556853680827,\n",
       " -2322.4913536703734,\n",
       " -2320.7913536703736,\n",
       " -2319.4312066195002,\n",
       " -2317.878789149874,\n",
       " -2316.2509070902643,\n",
       " -2315.2509070902643,\n",
       " -2313.4069981988055,\n",
       " -2311.7099419239576,\n",
       " -2310.493389417898,\n",
       " -2308.654911786813,\n",
       " -2307.2231296804853,\n",
       " -2305.696695928238,\n",
       " -2304.9755856731454,\n",
       " -2304.5755856731453,\n",
       " -2303.7693598983155,\n",
       " -2303.3693598983155,\n",
       " -2302.5693598983153,\n",
       " -2300.671993302214,\n",
       " -2299.4636887048546,\n",
       " -2298.183063857368,\n",
       " -2296.4625988039593,\n",
       " -2295.225667116274,\n",
       " -2293.811453553901,\n",
       " -2293.1043467727145,\n",
       " -2292.0043467727146,\n",
       " -2291.4043467727147,\n",
       " -2289.7400150750054,\n",
       " -2287.7983662911106,\n",
       " -2286.892827777297,\n",
       " -2285.5889872962566,\n",
       " -2284.9889872962567,\n",
       " -2283.2801865471934,\n",
       " -2281.2801865471934,\n",
       " -2280.21717196592,\n",
       " -2279.135506583281,\n",
       " -2277.2119681771137,\n",
       " -2275.3251719507025,\n",
       " -2274.7251719507026,\n",
       " -2273.1631220155214,\n",
       " -2271.454321266458,\n",
       " -2270.283851275386,\n",
       " -2268.3733539579316,\n",
       " -2267.567128183102,\n",
       " -2265.602439912663,\n",
       " -2263.9899883630032,\n",
       " -2262.092621766902,\n",
       " -2260.926431387933,\n",
       " -2260.126431387933,\n",
       " -2258.450125926509,\n",
       " -2257.8670307370244,\n",
       " -2256.263908782836,\n",
       " -2255.258921220724,\n",
       " -2253.986129014588,\n",
       " -2253.5738184520264,\n",
       " -2252.1702515672646,\n",
       " -2250.2493142960348,\n",
       " -2249.1862997147614,\n",
       " -2247.6862997147614,\n",
       " -2246.886299714761,\n",
       " -2245.6697472087017,\n",
       " -2249.003080542035,\n",
       " -2247.503080542035,\n",
       " -2246.2865280359756,\n",
       " -2244.6586459763657,\n",
       " -2243.1586459763657,\n",
       " -2242.746335413804,\n",
       " -2242.246335413804,\n",
       " -2240.832121851431,\n",
       " -2240.232121851431,\n",
       " -2239.3265833376176,\n",
       " -2238.8166813862586,\n",
       " -2237.1049571093963,\n",
       " -2236.6577435138965,\n",
       " -2235.5397095251465,\n",
       " -2234.634171011333,\n",
       " -2233.2888086066255,\n",
       " -2231.2888086066255,\n",
       " -2235.760944561625,\n",
       " -2234.642910572875,\n",
       " -2244.642910572875,\n",
       " -2251.71397838474,\n",
       " -2250.71397838474,\n",
       " -2250.0815228527063,\n",
       " -2248.111751292347,\n",
       " -2246.311751292347,\n",
       " -2245.463223154923,\n",
       " -2243.850771605263,\n",
       " -2242.4365580428903,\n",
       " -2241.5421308518903,\n",
       " -2239.939008897702,\n",
       " -2238.7224563916425,\n",
       " -2243.194592346642,\n",
       " -2242.076558357892,\n",
       " -2240.155621086662,\n",
       " -2245.155621086662,\n",
       " -2243.3445440590344,\n",
       " -2241.6474877841865,\n",
       " -2240.7474877841864,\n",
       " -2239.185437849005,\n",
       " -2238.200552068826,\n",
       " -2237.2156662886464,\n",
       " -2235.512727652054,\n",
       " -2233.947480067804,\n",
       " -2233.166455100213,\n",
       " -2232.766455100213,\n",
       " -2231.7034405189397,\n",
       " -2236.175576473939,\n",
       " -2736.175576473939,\n",
       " -2734.97141701606,\n",
       " -2734.37141701606,\n",
       " -2733.07141701606,\n",
       " -2731.0915180287375,\n",
       " -2735.563653983737,\n",
       " -2733.622005199842,\n",
       " -2733.0834887191286,\n",
       " -2731.97895261741,\n",
       " -2730.547170511082,\n",
       " -2729.625216065353,\n",
       " -2728.625216065353,\n",
       " -2727.6818179521474,\n",
       " -2726.2818179521473,\n",
       " -2724.93645554744,\n",
       " -2723.092546655981,\n",
       " -2721.169008249814,\n",
       " -2720.469008249814,\n",
       " -2719.469008249814,\n",
       " -2717.6250993583553,\n",
       " -2722.0972353133548,\n",
       " -2720.497235313355,\n",
       " -2719.6726141882314,\n",
       " -2724.6726141882314,\n",
       " -2723.6726141882314,\n",
       " -2722.8182138136995,\n",
       " -2720.9182138136994,\n",
       " -2730.9182138136994,\n",
       " -2729.2903317540895,\n",
       " -2728.8780211915278,\n",
       " -2728.0534000664043,\n",
       " -2726.6391865040314,\n",
       " -2731.111322459031,\n",
       " -2729.4469907613216,\n",
       " -2728.622369636198,\n",
       " -2726.910645359336,\n",
       " -2725.4684248491503,\n",
       " -2735.4684248491503,\n",
       " -2734.405410267877,\n",
       " -2732.973628161549,\n",
       " -2730.9937291742267,\n",
       " -2729.4672954219795,\n",
       " -2727.8672954219796,\n",
       " -2725.956798104525,\n",
       " -2725.1082699671015,\n",
       " -2723.339089365806,\n",
       " -2721.4709351965794,\n",
       " -2720.4511312938607,\n",
       " -2719.5291768481316,\n",
       " -2717.7403224661316,\n",
       " -2715.872168296905,\n",
       " -2714.705977917936,\n",
       " -2712.7954806004814,\n",
       " -2711.5148557529947,\n",
       " -2710.1148557529946,\n",
       " -2708.5148557529947,\n",
       " -2712.0503896589275,\n",
       " -2710.987375077654,\n",
       " -2710.5750645150924,\n",
       " -2708.86334023823,\n",
       " -2707.36334023823,\n",
       " -2705.8767333634983,\n",
       " -2704.5961085160116,\n",
       " -2703.6741540702824,\n",
       " -2702.752199624553,\n",
       " -2705.9144772847217,\n",
       " -2704.633852437235,\n",
       " -2702.7470562108238,\n",
       " -2701.405415424324,\n",
       " -2700.4205296441446,\n",
       " -2698.6177540064127,\n",
       " -2697.6177540064127,\n",
       " -2696.3177540064125,\n",
       " -2695.2360886237734,\n",
       " -2693.349292397362,\n",
       " -2692.209116972263,\n",
       " -2691.56880454852,\n",
       " -2690.4871391658808,\n",
       " -2689.6871391658806,\n",
       " -2688.7651847201514,\n",
       " -2688.1327291881175,\n",
       " -2686.7185156257447,\n",
       " -2685.4536045616774,\n",
       " -2684.232949000104,\n",
       " -2683.213145097385,\n",
       " -2681.6131450973853,\n",
       " -2680.628259317206,\n",
       " -2679.0251373630176,\n",
       " -2677.409587920877,\n",
       " -2675.953565943021,\n",
       " -2674.948578380909,\n",
       " -2673.7485783809093,\n",
       " -2672.1361268312494,\n",
       " -2670.632797193412,\n",
       " -2677.7038650052773,\n",
       " -2676.499705547398,\n",
       " -2674.7997055473984,\n",
       " -2673.0108511653984,\n",
       " -2671.0692023815036,\n",
       " -2669.4692023815037,\n",
       " -2668.769202381504,\n",
       " -2667.488577534017,\n",
       " -2665.5469287501223,\n",
       " -2663.5619854259944,\n",
       " -2662.70175289929,\n",
       " -2661.4852003932306,\n",
       " -2659.9231504580493,\n",
       " -2658.1342960760494,\n",
       " -2656.7025139697216,\n",
       " -2654.7711931781387,\n",
       " -2653.356979615766,\n",
       " -2652.015338829266,\n",
       " -2650.811179371387,\n",
       " -2650.011179371387,\n",
       " -2648.524572496655,\n",
       " -2647.2245724966547,\n",
       " -2646.7245724966547,\n",
       " -2645.0275162218068,\n",
       " -2644.0275162218068,\n",
       " -2642.415064672147,\n",
       " -2640.415064672147,\n",
       " -2638.415064672147,\n",
       " -2637.520637481147,\n",
       " -2635.7713519126933,\n",
       " -2634.506440848626,\n",
       " -2633.906440848626,\n",
       " -2632.306440848626,\n",
       " -2631.7064408486262,\n",
       " -2631.2592272531265,\n",
       " -2629.7726203783945,\n",
       " -2628.8781931873946,\n",
       " -2627.3161432522134,\n",
       " -2625.3514549817746,\n",
       " -2623.8250212295275,\n",
       " -2622.5097265857307,\n",
       " -2620.986571964558,\n",
       " -2619.9667680618395,\n",
       " -2618.6667680618393,\n",
       " -2617.114350592213,\n",
       " -2615.8977980861537,\n",
       " -2614.2853465364938,\n",
       " -2613.504321568903,\n",
       " -2612.5823671231738,\n",
       " -2611.882367123174,\n",
       " -2611.076141348344,\n",
       " -2609.576141348344,\n",
       " -2608.532110697453,\n",
       " -2606.743256315453,\n",
       " -2605.539096857574,\n",
       " -2604.0126631053267,\n",
       " -2606.786164086453,\n",
       " -2606.0650538313603,\n",
       " -2616.0650538313603,\n",
       " -2614.6508402689874,\n",
       " -2613.434287762928,\n",
       " -2612.3297516612092,\n",
       " -2611.1131991551497,\n",
       " -2610.288578030026,\n",
       " -2613.824111935959,\n",
       " -2613.424111935959,\n",
       " -2612.020545051197,\n",
       " -2610.816385593318,\n",
       " -2609.402172030945,\n",
       " -2608.836486605996,\n",
       " -2606.949690379585,\n",
       " -2605.546123494823,\n",
       " -2610.0182594498224,\n",
       " -2608.6766186633226,\n",
       " -2612.2121525692555,\n",
       " -2611.5718401455124,\n",
       " -2610.129619635327,\n",
       " -2608.6031858830797,\n",
       " -2606.800410245348,\n",
       " -2604.8899129278934,\n",
       " -2604.2574573958595,\n",
       " -2602.6450058461996,\n",
       " -2601.0325542965397,\n",
       " -2600.43255429654,\n",
       " -2599.2283948386607,\n",
       " -2598.6201185856307,\n",
       " -2597.714580071817,\n",
       " -2595.8706711803584,\n",
       " -2599.032948840527,\n",
       " -2597.691308054027,\n",
       " -2595.888532416295,\n",
       " -2594.5468916297955,\n",
       " -2592.7441159920636,\n",
       " -2590.974935390768,\n",
       " -2590.1687096159385,\n",
       " -2588.888084768452,\n",
       " -2587.498840369507,\n",
       " -2586.576885923778,\n",
       " -2585.011638339528,\n",
       " -2584.379182807494,\n",
       " -2583.302149846067,\n",
       " ...]"
      ]
     },
     "execution_count": 17,
     "metadata": {},
     "output_type": "execute_result"
    }
   ],
   "source": [
    "all_cred_alls[100]"
   ]
  },
  {
   "cell_type": "code",
   "execution_count": 20,
   "metadata": {},
   "outputs": [
    {
     "data": {
      "text/plain": [
       "[<matplotlib.lines.Line2D at 0x16cc4dd2460>]"
      ]
     },
     "execution_count": 20,
     "metadata": {},
     "output_type": "execute_result"
    },
    {
     "data": {
      "image/png": "[encoded data removed]",
      "text/plain": [
       "<Figure size 432x288 with 1 Axes>"
      ]
     },
     "metadata": {
      "image/png": {
       "height": 248,
       "width": 396
      },
      "needs_background": "light"
     },
     "output_type": "display_data"
    }
   ],
   "source": [
    "plt.plot([el for el in range(len(all_cred_alls[100]))], all_cred_alls[100], color='green')\n",
    "plt.plot([el for el in range(len(all_cred_alls[110]))], all_cred_alls[110], color='red')\n",
    "plt.plot([el for el in range(len(all_cred_alls[500]))], all_cred_alls[500], color='blue')\n",
    "plt.plot([el for el in range(len(all_cred_alls[610]))], all_cred_alls[610], color='purple')\n"
   ]
  },
  {
   "cell_type": "code",
   "execution_count": null,
   "metadata": {},
   "outputs": [],
   "source": []
  },
  {
   "cell_type": "code",
   "execution_count": 21,
   "metadata": {},
   "outputs": [],
   "source": [
    "# cred_all, all_cred_alls = Credit_cals.All_credit_calc(\"X_data_GT_1000.csv\", \"Y_data_GT_1000.csv\", 2,3,5)\n"
   ]
  },
  {
   "cell_type": "code",
   "execution_count": 70,
   "metadata": {},
   "outputs": [
    {
     "data": {
      "text/plain": [
       "[12747.212561671087,\n",
       " 47959.67647249829,\n",
       " 54352.9456616509,\n",
       " 40960.74324798954,\n",
       " 15909.566541817989,\n",
       " 53552.537430962315,\n",
       " 16773.06854395607,\n",
       " 27425.63113857342,\n",
       " -8874.29354896491,\n",
       " 34979.85360075474,\n",
       " 371.6861286107645,\n",
       " 22864.640941756465,\n",
       " -17163.3995887728,\n",
       " 114.91371056322285,\n",
       " 32610.815174459825,\n",
       " 28821.58135288275,\n",
       " 24866.282612238894,\n",
       " 10529.462639208168,\n",
       " 33011.58190306374,\n",
       " 31806.736074622564,\n",
       " -45070.59509081787,\n",
       " 25893.88489877322,\n",
       " -24829.300238048883,\n",
       " 29126.639724903383,\n",
       " 38243.48546940922,\n",
       " -38941.862624133144,\n",
       " 3158.0865044740244,\n",
       " 30142.193774590203,\n",
       " -26684.94718260228,\n",
       " 38720.258939346546,\n",
       " -20184.112150507324,\n",
       " 51751.03711916825,\n",
       " 22013.162245610212,\n",
       " 42991.32218200945,\n",
       " 39670.04118081609,\n",
       " -28564.928383170725,\n",
       " 21760.68496425809,\n",
       " 12905.880679196342,\n",
       " 23930.736672558378,\n",
       " 64651.51897502348,\n",
       " 20514.379734498216,\n",
       " -27088.80532777508,\n",
       " 25576.651151635764,\n",
       " 4740.650773174809,\n",
       " -15352.771381194285,\n",
       " -41632.38288827891,\n",
       " 31489.183941114097,\n",
       " -28991.233368677826,\n",
       " 31873.37446884206,\n",
       " 42859.99153019546,\n",
       " -18139.63647812314,\n",
       " 31335.37115307285,\n",
       " 36412.035603554235,\n",
       " 20964.044816449295,\n",
       " 3310.8126628038976,\n",
       " 24585.174689684736,\n",
       " 38133.35703072539,\n",
       " 33439.989922113586,\n",
       " 3661.444589833233,\n",
       " 15080.23353932411,\n",
       " 32932.18207648782,\n",
       " 62568.83056719685,\n",
       " 39328.21395621604,\n",
       " 12772.797677381259,\n",
       " 33239.751178579754,\n",
       " -1773.0208094747097,\n",
       " -18353.045506350165,\n",
       " 17138.194405298265,\n",
       " 8989.990053446541,\n",
       " -20383.38092653149,\n",
       " 54104.39480937966,\n",
       " 10570.545607455359,\n",
       " 37897.02779034295,\n",
       " -62.717805658000394,\n",
       " 15976.996338310686,\n",
       " 9083.349329025335,\n",
       " -32795.039970668615,\n",
       " 14061.378922301708,\n",
       " 34863.836101231405,\n",
       " 27130.61698297162,\n",
       " -33635.718911532145,\n",
       " -52135.95136874964,\n",
       " 25092.23082898444,\n",
       " -13998.979565796331,\n",
       " 26897.067657566895,\n",
       " 7141.079979392212,\n",
       " 40350.22923027084,\n",
       " 36328.18823113876,\n",
       " 60555.08832503071,\n",
       " -24662.35495116997,\n",
       " -43973.21246547704,\n",
       " 37541.137577674,\n",
       " 19195.574716686086,\n",
       " -32941.3510889325,\n",
       " 25321.891738952825,\n",
       " 21280.970746695457,\n",
       " 76893.01163225283,\n",
       " 40724.99507936729,\n",
       " 58644.86035246719,\n",
       " -20401.836541542718,\n",
       " 17684.78306389665,\n",
       " 33808.545258682694,\n",
       " 24616.35405255773,\n",
       " 10315.229164217364,\n",
       " 10520.708080478518,\n",
       " 28095.188011890226,\n",
       " 17270.608235201347,\n",
       " 5400.330779764919,\n",
       " 60728.57246797694,\n",
       " 29513.173580649935,\n",
       " 21876.887635635958,\n",
       " 45248.0552706888,\n",
       " 23512.046382634173,\n",
       " 40644.71390489312,\n",
       " -14207.160327656906,\n",
       " 43765.51105484739,\n",
       " 67760.58329962978,\n",
       " -8590.269360904114,\n",
       " 7667.093295333148,\n",
       " 13672.92992752204,\n",
       " 40601.4840675205,\n",
       " 18615.140583722517,\n",
       " -24685.531594393724,\n",
       " 28968.037596587033,\n",
       " 15300.37372819435,\n",
       " 18767.556347459406,\n",
       " 28146.089056511064,\n",
       " 28865.88104359414,\n",
       " -45409.637940761044,\n",
       " 15454.203336017843,\n",
       " -35360.570465319826,\n",
       " 40579.84942498266,\n",
       " 64489.9082265544,\n",
       " 24215.538075624692,\n",
       " -7618.646665211265,\n",
       " -18610.806564919938,\n",
       " 6352.2492642033285,\n",
       " -27734.8707761126,\n",
       " -12337.482377256023,\n",
       " 41996.11294196283,\n",
       " -40658.3052934059,\n",
       " 39529.436413150106,\n",
       " 44482.68029315511,\n",
       " -27452.33123135564,\n",
       " 25966.357453709024,\n",
       " 46940.893058626214,\n",
       " -13356.671526651166,\n",
       " 1431.7230497860266,\n",
       " 52610.7166321966,\n",
       " 624.642742613553,\n",
       " 763.7777360421937,\n",
       " 9629.64099506797,\n",
       " 55393.16090354991,\n",
       " -21060.31271297966,\n",
       " 24067.077092091495,\n",
       " 77904.55234525677,\n",
       " 19489.18430322152,\n",
       " 41398.3726140324,\n",
       " -34643.523535396846,\n",
       " 26645.287513984516,\n",
       " 32389.690530749234,\n",
       " 17936.432287432122,\n",
       " 13437.0845064745,\n",
       " -42057.042496762166,\n",
       " 28484.68121176256,\n",
       " -41525.23694784012,\n",
       " 61877.136507105315,\n",
       " 33824.22546353739,\n",
       " -2995.9715091374323,\n",
       " -25018.362843787196,\n",
       " 44825.20997048494,\n",
       " 19250.78424229488,\n",
       " 11447.453551387178,\n",
       " -8663.093912327757,\n",
       " 27350.47567703668,\n",
       " 40717.885335110615,\n",
       " -22078.78531785755,\n",
       " 51388.17903728739,\n",
       " 18099.59861827876,\n",
       " 37057.150958586586,\n",
       " 19725.529834911573,\n",
       " 39442.56972372684,\n",
       " 17321.922661842545,\n",
       " -15662.313581033826,\n",
       " -21892.573801501374,\n",
       " 70535.08390191561,\n",
       " -23790.31469538551,\n",
       " -3159.2762855059696,\n",
       " -41725.03431793366,\n",
       " 33082.97654810156,\n",
       " -32933.951962515195,\n",
       " 37816.44853293218,\n",
       " -5839.05522568978,\n",
       " 24196.264828005755,\n",
       " -19042.41725266158,\n",
       " 26767.180967657427,\n",
       " -14793.874320090747,\n",
       " 28358.882707084085,\n",
       " -14193.70628545205,\n",
       " 47711.689486190015,\n",
       " -37796.871874998506,\n",
       " 7769.100534948489,\n",
       " 5296.2445344779235,\n",
       " -40529.94726977485,\n",
       " 29145.315650606888,\n",
       " 20286.262094913163,\n",
       " 25130.06414552687,\n",
       " -14159.963910307464,\n",
       " 21280.815289653594,\n",
       " 21077.074607374932,\n",
       " -10734.177673733264,\n",
       " -15840.445954896431,\n",
       " -36062.7352311292,\n",
       " 42594.99866878448,\n",
       " 75352.41501576049,\n",
       " 29069.427508091954,\n",
       " 33992.190445977976,\n",
       " 17704.79196772954,\n",
       " 18036.54216178522,\n",
       " 18165.59727453034,\n",
       " 31004.397328359275,\n",
       " -16244.251302070581,\n",
       " -35626.12389482734,\n",
       " 11453.173499689667,\n",
       " 20689.956753262995,\n",
       " 43965.23792143026,\n",
       " 49379.878803912674,\n",
       " 16528.376520255857,\n",
       " 26540.85880567239,\n",
       " 8827.637607811339,\n",
       " 4975.463592730839,\n",
       " -30212.574326650778,\n",
       " 7313.249567832026,\n",
       " -1699.5040970372345,\n",
       " 4073.2131545296847,\n",
       " -24262.85216389978,\n",
       " 40395.21925635171,\n",
       " -19632.787761106454,\n",
       " 68306.49313475282,\n",
       " 21406.095018352826,\n",
       " 20517.685178816104,\n",
       " 42135.67115836508,\n",
       " 24133.55690147951,\n",
       " 30324.97015226718,\n",
       " -15770.460677762589,\n",
       " 11251.654863099091,\n",
       " 22233.056850428562,\n",
       " 75235.26178312144,\n",
       " -1986.4122294004596,\n",
       " 18136.890430186253,\n",
       " 27242.719718095417,\n",
       " 7463.128146481224,\n",
       " 38583.640945395804,\n",
       " 4224.72046538953,\n",
       " 74826.79394719464,\n",
       " 19209.081481640096,\n",
       " 41201.31191166176,\n",
       " -14909.229471870274,\n",
       " 2469.5996035312223,\n",
       " 26017.524484886944,\n",
       " 55273.933476244914,\n",
       " 15835.994572874062,\n",
       " 14134.896309814998,\n",
       " -1522.7606575069894,\n",
       " 24311.07178746884,\n",
       " -15086.099336682271,\n",
       " 38288.89548772051,\n",
       " 27494.36016271461,\n",
       " 29292.530229051426,\n",
       " 22074.878914712546,\n",
       " -12856.396585261497,\n",
       " -5620.8576116393215,\n",
       " 40009.247556135,\n",
       " 20934.253476579644,\n",
       " -12270.240937586776,\n",
       " 10677.897626632655,\n",
       " 57603.057684240135,\n",
       " 18404.23212169798,\n",
       " 55710.945213484956,\n",
       " 7180.507675874832,\n",
       " 22111.825319628835,\n",
       " 45423.69737050506,\n",
       " 39008.680463122975,\n",
       " 36319.51958791043,\n",
       " 20109.771185206675,\n",
       " 65841.38873665872,\n",
       " -2703.3839850488916,\n",
       " 55485.32187431568,\n",
       " 22668.084324104035,\n",
       " 15393.891081913525,\n",
       " -16913.93058561061,\n",
       " 38605.752267599055,\n",
       " -24689.261846090747,\n",
       " 36857.78786351671,\n",
       " 3630.9096978129332,\n",
       " -35566.71152547907,\n",
       " -12570.031880577226,\n",
       " 19215.77179173058,\n",
       " 38457.837063296334,\n",
       " -16792.46202690744,\n",
       " 13657.735529305128,\n",
       " 43224.2317594563,\n",
       " 1474.8733634838914,\n",
       " -19400.10855621436,\n",
       " 34683.282464042495,\n",
       " 10493.545759502107,\n",
       " 51988.08345760619,\n",
       " -46560.88397086568,\n",
       " 5424.486397768785,\n",
       " 14750.107855033177,\n",
       " 31411.81145926274,\n",
       " 22586.846829151516,\n",
       " 78712.01622007338,\n",
       " 23942.570023923505,\n",
       " -7903.619652232334,\n",
       " -11002.500336838651,\n",
       " 13767.655588984158,\n",
       " -30278.564888063753,\n",
       " 36688.17026550525,\n",
       " -23239.86101609535,\n",
       " -21641.06483232818,\n",
       " 5882.627004904933,\n",
       " 14375.532105344697,\n",
       " -3572.4520576723075,\n",
       " 23097.752137308828,\n",
       " -11961.07228506858,\n",
       " 53333.14780482174,\n",
       " 32350.29870352675,\n",
       " 51713.772582062,\n",
       " 27308.576885991417,\n",
       " 135.06884935735624,\n",
       " -10135.087489306376,\n",
       " 15209.261978806975,\n",
       " 34898.64375298878,\n",
       " -3167.6197904530854,\n",
       " -30312.25618005836,\n",
       " 11233.122727481184,\n",
       " -26928.446433534933,\n",
       " 46761.550208669956,\n",
       " 49263.831650894404,\n",
       " -31059.738787445523,\n",
       " 17125.76880103478,\n",
       " -36220.99018341368,\n",
       " -26085.003103880015,\n",
       " -39792.95985972389,\n",
       " 6178.3703690634875,\n",
       " 59303.40037534223,\n",
       " -36946.03651920146,\n",
       " 58522.213644513475,\n",
       " -11361.372046718277,\n",
       " 22214.474933797686,\n",
       " 44371.56730529982,\n",
       " 55924.21909473475,\n",
       " -12225.630317150071,\n",
       " -3295.308894040562,\n",
       " -11657.246481524655,\n",
       " 41010.807180681084,\n",
       " -26640.152269813632,\n",
       " 41973.15350931863,\n",
       " -9851.964030943514,\n",
       " 50833.38792278993,\n",
       " 10791.528278000587,\n",
       " -22314.958144122,\n",
       " 14409.830997116635,\n",
       " 68426.57506618019,\n",
       " 43604.52667979634,\n",
       " -17905.703959265928,\n",
       " 5970.809956751067,\n",
       " 15945.385007203937,\n",
       " -10985.70386341136,\n",
       " 30732.726777791086,\n",
       " 43276.20353063488,\n",
       " -38155.62913763561,\n",
       " -32615.9642235159,\n",
       " -18760.61122522945,\n",
       " 29100.002747979594,\n",
       " 38148.692218703356,\n",
       " -42287.061151594484,\n",
       " -26762.035161201355,\n",
       " -27736.515315190074,\n",
       " 56924.81214327497,\n",
       " 26139.985628136317,\n",
       " -5745.01736355262,\n",
       " 38104.03626355751,\n",
       " -19683.30172585668,\n",
       " 4805.963939910021,\n",
       " -21675.38441099077,\n",
       " 25341.81208381663,\n",
       " -29008.711622174797,\n",
       " 58242.95246425689,\n",
       " 15156.642544700753,\n",
       " -42452.97341738912,\n",
       " 21633.01326180839,\n",
       " 63118.72999523895,\n",
       " 26.321621531886066,\n",
       " 41910.691590850955,\n",
       " 26520.518238314275,\n",
       " 27150.65633107516,\n",
       " -34067.38854161346,\n",
       " 61034.60529027513,\n",
       " 47806.90041035986,\n",
       " 47973.09328627414,\n",
       " -2178.4960481236053,\n",
       " 36453.51739688695,\n",
       " 25248.110322898847,\n",
       " 58396.429830778434,\n",
       " -15400.745667657164,\n",
       " -23140.731363359413,\n",
       " 13016.992345575714,\n",
       " -7267.884836496771,\n",
       " 39495.15495056803,\n",
       " -20668.59360054037,\n",
       " -685.4639846639969,\n",
       " 20789.34142667057,\n",
       " 60987.33887629122,\n",
       " 2098.011993488266,\n",
       " -6620.760166124997,\n",
       " 27820.28782110227,\n",
       " -24222.095966929028,\n",
       " 37011.84269904404,\n",
       " 2435.811143896463,\n",
       " -7569.906566179927,\n",
       " 28823.116661620483,\n",
       " 32304.04407611102,\n",
       " 54753.57810565066,\n",
       " -8140.013911358737,\n",
       " 27853.165350877247,\n",
       " -5137.902156795554,\n",
       " 14888.508848337633,\n",
       " 67762.17074261683,\n",
       " 27541.90813691958,\n",
       " 53992.77006844198,\n",
       " -27107.736437770673,\n",
       " 34711.03557619072,\n",
       " -42381.34494656835,\n",
       " -41296.955751322566,\n",
       " 33969.59554862052,\n",
       " 44606.37827881104,\n",
       " 49075.54207364124,\n",
       " -33817.78706516014,\n",
       " 37016.57561987341,\n",
       " 24092.621140627016,\n",
       " 15914.646009139391,\n",
       " 37630.72856531735,\n",
       " -37354.55559315719,\n",
       " -37403.49458601929,\n",
       " 18524.784502430353,\n",
       " 11611.315590810456,\n",
       " 61589.1312603492,\n",
       " 19199.19958426829,\n",
       " 17085.467095649783,\n",
       " -2022.9899590390978,\n",
       " 10402.699230353304,\n",
       " 11481.687576011735,\n",
       " 40587.527481294535,\n",
       " 15615.993858600641,\n",
       " 41704.33715007024,\n",
       " 65239.52323529086,\n",
       " 13917.901744963925,\n",
       " -43083.775239128634,\n",
       " 38670.945636989374,\n",
       " 10545.280316702918,\n",
       " 26950.47967382433,\n",
       " 51378.80754532757,\n",
       " 29191.55268552238,\n",
       " 20206.462471998428,\n",
       " -15537.629189772442,\n",
       " 35043.478489023226,\n",
       " -25385.792140163816,\n",
       " 11076.932102745013,\n",
       " 30293.71848527848,\n",
       " 14898.414117378785,\n",
       " 20613.420899362038,\n",
       " 46200.91717017564,\n",
       " 18602.53340461581,\n",
       " 41904.819358862616,\n",
       " -41254.646015465376,\n",
       " 3780.6456399633344,\n",
       " 40442.835948230466,\n",
       " -11366.438472893058,\n",
       " 26360.3965860308,\n",
       " -26345.96626483958,\n",
       " 8161.126056214746,\n",
       " -24626.663845650848,\n",
       " -11681.1291575861,\n",
       " -58566.89214150719,\n",
       " 2560.7368905854983,\n",
       " 14687.584906675547,\n",
       " 19098.991393785916,\n",
       " -7458.194139156299,\n",
       " 3176.7115927853893,\n",
       " 14127.592837321467,\n",
       " 28106.113576353,\n",
       " -10890.194312626112,\n",
       " 16095.614363011986,\n",
       " -52023.00437956802,\n",
       " -6704.741654188258,\n",
       " 37703.783612751824,\n",
       " 13277.144749542187,\n",
       " 21834.015500866666,\n",
       " 11101.74426147204,\n",
       " 40468.986506961664,\n",
       " 75971.90533265319,\n",
       " 16066.434536298404,\n",
       " 51297.397894381415,\n",
       " 8092.333951591872,\n",
       " 41255.44471961364,\n",
       " 44696.75185533486,\n",
       " 18541.147865953775,\n",
       " -56254.500038402824,\n",
       " 43723.49221271848,\n",
       " -7459.123893693357,\n",
       " 59005.048926031464,\n",
       " -54296.52940790951,\n",
       " -15404.813714436757,\n",
       " 16954.851066097817,\n",
       " 37917.97624274449,\n",
       " 17877.436933144334,\n",
       " -3652.1444629950433,\n",
       " 30024.2655508793,\n",
       " -41426.37509508831,\n",
       " -12515.281885643448,\n",
       " -19913.016245837403,\n",
       " 36225.69445077294,\n",
       " -39279.73869957031,\n",
       " 27935.12337216412,\n",
       " 55827.04245729423,\n",
       " 37022.011560271116,\n",
       " 20932.386990185383,\n",
       " 10291.214844993445,\n",
       " 27280.158837939038,\n",
       " 15482.418396916019,\n",
       " 36155.931474775556,\n",
       " 37875.88389710332,\n",
       " 2481.7831460961884,\n",
       " 10469.54931076523,\n",
       " 44447.99395380745,\n",
       " 58899.80297061673,\n",
       " -17609.175785384752,\n",
       " 6637.735268854242,\n",
       " -7640.332225523673,\n",
       " -48693.38821046974,\n",
       " 29246.7297924645,\n",
       " 53651.048888059224,\n",
       " 29122.79933834982,\n",
       " 6677.970198101646,\n",
       " -17378.70230925312,\n",
       " 51234.60468625955,\n",
       " 22348.171023881932,\n",
       " 13398.913607526163,\n",
       " 40174.00490780037,\n",
       " 38174.09498524414,\n",
       " -25050.947738376584,\n",
       " 32299.43331988235,\n",
       " 23683.052168214028,\n",
       " 51478.75970311729,\n",
       " 42804.70382955857,\n",
       " -42290.4868125334,\n",
       " 6758.350533104521,\n",
       " -33228.84492025596,\n",
       " 55510.01504785713,\n",
       " 30432.74833706533,\n",
       " 10406.269707772524,\n",
       " 6507.65110754551,\n",
       " 8816.29677845634,\n",
       " -15705.484899279305,\n",
       " 1340.1047351154155,\n",
       " 15816.52067432139,\n",
       " 37725.793522397245,\n",
       " 25752.948011542598,\n",
       " -12714.325062897147,\n",
       " 41322.90617461459,\n",
       " -18986.332222579436,\n",
       " -18285.388428290764,\n",
       " 52027.868344197464,\n",
       " -4420.771759020294,\n",
       " -18699.940670182907,\n",
       " 11580.538643918566,\n",
       " 22178.85219163062,\n",
       " 28926.451922362023,\n",
       " 11427.586200886793,\n",
       " 17113.014326970053,\n",
       " 29102.403504475908,\n",
       " -26494.364220058746,\n",
       " 16710.48638119149,\n",
       " -31822.547575893997,\n",
       " 79740.61862232757,\n",
       " 23483.05850430206,\n",
       " 9455.358368392512,\n",
       " 8461.54895659595,\n",
       " 19010.65014340222,\n",
       " -298.1429738608846,\n",
       " 546.3242335958917,\n",
       " 33039.60807686772,\n",
       " -21693.236232408355,\n",
       " 56314.45201914549,\n",
       " 39698.3319738861,\n",
       " 24506.172834695863,\n",
       " 54572.31503665194,\n",
       " 7023.249078086953,\n",
       " 54732.927081852205,\n",
       " 70734.64475808755,\n",
       " 35744.10093737485,\n",
       " -22843.95978455245,\n",
       " 64599.42248794863,\n",
       " 10544.758646796578,\n",
       " -14922.193294431423,\n",
       " -17817.53620194213,\n",
       " -10224.215584877968,\n",
       " -38210.24876633719,\n",
       " 7527.456099745691,\n",
       " 52814.95802661082,\n",
       " 16493.781525405495,\n",
       " 24705.44710222221,\n",
       " 75237.67049498927,\n",
       " 47057.41540266342,\n",
       " -9941.516365759122,\n",
       " -24521.84450992422,\n",
       " -44658.71190700649,\n",
       " 38673.366916273604,\n",
       " -3866.3677814855546,\n",
       " 6585.066840784286,\n",
       " 24527.027725703698,\n",
       " 18140.052010275882,\n",
       " -36365.3255067512,\n",
       " 15263.739782908984,\n",
       " 8776.162313770616,\n",
       " 34328.325138441665,\n",
       " 2537.005044902393,\n",
       " 15433.636266606794,\n",
       " 44258.32010071725,\n",
       " -3121.191383373866,\n",
       " 23352.42411062666,\n",
       " 29065.46509727628,\n",
       " 14445.523020723485,\n",
       " -59068.41247049721,\n",
       " 34611.04533899908,\n",
       " 8644.671475864256,\n",
       " 48009.9775910442,\n",
       " -8439.066393736019,\n",
       " 50162.471076271584,\n",
       " 15943.5994211812,\n",
       " 44766.516618280795,\n",
       " 4527.662913535715,\n",
       " -11678.036407656133,\n",
       " 53439.22810466192,\n",
       " -29372.52999456936,\n",
       " 35341.39400483854,\n",
       " 31361.5738157873,\n",
       " 57142.65417609427,\n",
       " 48425.83090975653,\n",
       " 24517.643066535187,\n",
       " 30747.337189523427,\n",
       " 41558.41339103874,\n",
       " 40791.0864191542,\n",
       " 4446.433823740568,\n",
       " -20523.775246921752,\n",
       " -31964.20234154685,\n",
       " -38798.81675364247,\n",
       " 58284.1062210319,\n",
       " 42784.27528813329,\n",
       " -37198.04196666875,\n",
       " 18163.94607317822,\n",
       " 40412.66092446084,\n",
       " 58413.88063171211,\n",
       " -17220.190758637364,\n",
       " 22452.29891011255,\n",
       " 37447.51488700548,\n",
       " 49587.447312386576,\n",
       " 1924.015315654104,\n",
       " 27147.17714689146,\n",
       " -20485.11641171231,\n",
       " -41407.7767296178,\n",
       " 31674.008038024178,\n",
       " 24897.36130167297,\n",
       " -32227.716299689182,\n",
       " 23017.734281658697,\n",
       " 25579.777915647996,\n",
       " 2981.6407061562372,\n",
       " 31479.578363767596,\n",
       " 20025.087952527607,\n",
       " 24295.386247877454,\n",
       " -25153.802726733556,\n",
       " -6482.460164200433,\n",
       " 21799.39255908024,\n",
       " 18416.728386940627,\n",
       " 28571.48725922114,\n",
       " 26617.051273035675,\n",
       " 28253.793513219218,\n",
       " 55780.06182395141,\n",
       " 8954.915892760682,\n",
       " 23379.048009034348,\n",
       " 14389.9665337158,\n",
       " 26342.0719925558,\n",
       " -31613.7788899087,\n",
       " 28363.68620102952,\n",
       " 1547.9178170396372,\n",
       " -21133.161862071087,\n",
       " 93933.22167504844,\n",
       " -29525.63695092004,\n",
       " 47380.22245055695,\n",
       " 10246.646767526117,\n",
       " 42193.15515526584,\n",
       " -35065.01015461371,\n",
       " 27186.42877373159,\n",
       " 28838.116712646002,\n",
       " 3000.1164614891695,\n",
       " -8656.338307956123,\n",
       " 36777.60203992877,\n",
       " 24155.709065505893,\n",
       " 21939.795199118806,\n",
       " -21766.266135521088,\n",
       " 26773.967105606844,\n",
       " 18799.835242889785,\n",
       " -1950.765964405087,\n",
       " -3977.0226165182876,\n",
       " 18827.117669682342,\n",
       " 19587.654604586736,\n",
       " 25001.694869365885,\n",
       " 26361.80920140382,\n",
       " 53517.066270067175,\n",
       " -23286.0142722774,\n",
       " 12792.605517578048,\n",
       " -21422.382564763047,\n",
       " 60888.98773953717,\n",
       " -25232.29247241762,\n",
       " 10534.988613322532,\n",
       " 71651.61173696151,\n",
       " 30005.8584636216,\n",
       " -53648.677233049406,\n",
       " 41266.107705544346,\n",
       " -20094.122114283997,\n",
       " 14205.764667140471,\n",
       " 57914.42405665539,\n",
       " 9379.139979929481,\n",
       " 26072.565765252704,\n",
       " 40988.32056768172,\n",
       " 31747.696432211204,\n",
       " -19426.710955628736,\n",
       " 24482.63252190417,\n",
       " 8623.249250823406,\n",
       " 19616.730159463426,\n",
       " 41021.88974234236,\n",
       " 25907.825450799115,\n",
       " 30272.956295444517,\n",
       " 25840.96035603421,\n",
       " 36677.00884314359,\n",
       " 14359.507848065972,\n",
       " -26899.176858904004,\n",
       " -13522.66818357749,\n",
       " 19976.531048226992,\n",
       " 24858.23410693439,\n",
       " 4427.018483187418,\n",
       " 47073.56196160543,\n",
       " 12644.384859221158,\n",
       " 9610.571137117287,\n",
       " -1818.4714281588642,\n",
       " 30610.250599589108,\n",
       " 28378.06252955182,\n",
       " -22754.414424228653,\n",
       " 16989.87414608236,\n",
       " -20386.213948549,\n",
       " -53227.63679860061,\n",
       " 17107.68746271943,\n",
       " 9482.595929818277,\n",
       " 19877.506034507238,\n",
       " 33528.33126076347,\n",
       " 59273.74038882115,\n",
       " 3927.352313022777,\n",
       " 2449.5567510569226,\n",
       " 26803.68608509218,\n",
       " 56805.908306429264,\n",
       " -3698.2851683836616,\n",
       " 35985.304534747076,\n",
       " 39798.62362953003,\n",
       " 10313.35017482265,\n",
       " -10629.829006088305,\n",
       " 13396.956090289495,\n",
       " 78699.27546897066,\n",
       " 7249.05970399016,\n",
       " 18465.56803116058,\n",
       " 13001.538257723987,\n",
       " 19209.994829143958,\n",
       " 36681.99494121772,\n",
       " 23093.02353399835,\n",
       " 30624.326086096116,\n",
       " 7701.754158560517,\n",
       " 7630.32755660329,\n",
       " 12912.864238371125,\n",
       " -9114.261857436644,\n",
       " 13833.55911571022,\n",
       " 20412.57164044917,\n",
       " 70114.47926968026,\n",
       " 28046.200953934473,\n",
       " 18387.301036257257,\n",
       " -61854.13966369979,\n",
       " 52574.24097456861,\n",
       " 20383.283861264572,\n",
       " 20616.739851826216,\n",
       " 21306.66916278315,\n",
       " 12441.321737048596,\n",
       " 27932.732984882474,\n",
       " -12958.482435815371,\n",
       " 32304.421413216147,\n",
       " 38196.03401015365,\n",
       " -42625.831782850175,\n",
       " 42377.71207491051,\n",
       " -35943.416514607925,\n",
       " -26023.50068233006,\n",
       " 11226.924183122012,\n",
       " 10750.148592287998,\n",
       " -26804.641545100203,\n",
       " 49130.97963521167,\n",
       " 43805.60540985595,\n",
       " 38706.42862146811,\n",
       " -22797.02531370044,\n",
       " 9641.471644628022,\n",
       " 22130.996938029893,\n",
       " 2216.5192484026084,\n",
       " -6199.35388605646,\n",
       " 65181.29737976998,\n",
       " -155.6080164680877,\n",
       " -7156.682726767359,\n",
       " 14988.129116055927,\n",
       " 11769.228575363564,\n",
       " 39139.294545501434,\n",
       " -18607.537693581326,\n",
       " 29546.76541842663,\n",
       " -13340.676995585025,\n",
       " 26635.435882289148,\n",
       " 23445.61739957848,\n",
       " 6073.897915614377,\n",
       " -8227.231119553458,\n",
       " 14446.13553721971,\n",
       " 11500.460328688116,\n",
       " -17275.05543364651,\n",
       " 42818.36914932433,\n",
       " 37029.37912997209,\n",
       " 34252.1746300284,\n",
       " 41179.41469453423,\n",
       " 17339.26718016443,\n",
       " 28352.09411806353,\n",
       " 6949.464065972139,\n",
       " 31379.306609115913,\n",
       " 19848.93674410349,\n",
       " 31838.33601501864,\n",
       " -36110.451728014224,\n",
       " 14489.118870665508,\n",
       " 11423.208244913943,\n",
       " 12385.685400104167,\n",
       " 18547.100903149403,\n",
       " -14434.094702492894,\n",
       " 37718.77808512439,\n",
       " 47119.24641238357,\n",
       " -38742.20629999075,\n",
       " 42696.04060873432,\n",
       " 22094.554386710504,\n",
       " -7968.013909952565,\n",
       " 48888.958382455115,\n",
       " -7286.953133742719,\n",
       " 10096.278315100923,\n",
       " -8942.111561551243,\n",
       " 31073.643650848455,\n",
       " 27752.526390024857,\n",
       " 18490.861307664396,\n",
       " -24542.132383792494,\n",
       " 22746.67026577452,\n",
       " -4361.653837061507,\n",
       " 5308.9560566438395,\n",
       " 61738.40438853917,\n",
       " 45783.04985867313,\n",
       " 32995.45956975293,\n",
       " 73717.93417074767,\n",
       " 8974.333323972547,\n",
       " 42509.056575544724,\n",
       " 12387.255924542473,\n",
       " 10045.06655709429,\n",
       " 60452.988593785325,\n",
       " -26604.103329403388,\n",
       " 9664.645758765113,\n",
       " 17835.225512741465,\n",
       " 25312.64502528778,\n",
       " 67261.96243986265,\n",
       " -39271.503526317836,\n",
       " 59237.94063301872,\n",
       " 42113.36930568443,\n",
       " 43686.04328134104,\n",
       " 14069.333335344165,\n",
       " -32745.268342298772,\n",
       " 4979.200322190028,\n",
       " -6750.677223998288,\n",
       " 6213.321863602657,\n",
       " -31006.134079402433,\n",
       " 4125.984418941636,\n",
       " -24779.948453501453,\n",
       " 46296.798925418545,\n",
       " 24849.463386026306,\n",
       " 5164.090561017492,\n",
       " 29248.548697487284,\n",
       " -61051.42392066898,\n",
       " 20648.489779311192,\n",
       " 36529.107000169155,\n",
       " 38804.4920477236,\n",
       " -34508.78508390939,\n",
       " -39519.18000481133,\n",
       " 55043.166971593004,\n",
       " 11680.558591963558,\n",
       " 58973.070541953,\n",
       " 41985.22980254248,\n",
       " -33368.18553086268,\n",
       " 5240.646371989074,\n",
       " 31886.450019357755,\n",
       " 3639.3018135386606,\n",
       " 36902.99311391184,\n",
       " 26095.31383492402,\n",
       " 22448.58258694628,\n",
       " -37968.85739986373,\n",
       " 19055.465335760746,\n",
       " 38029.836020685296,\n",
       " -38342.444096354055,\n",
       " -36058.0130864861,\n",
       " 94934.50914529062,\n",
       " 10108.247805654755,\n",
       " 12591.078322491649,\n",
       " 32933.70443242143,\n",
       " -10518.481429489799,\n",
       " -36417.00468469728,\n",
       " -3592.3880744108005,\n",
       " 13616.603260666005,\n",
       " -9104.7626465127,\n",
       " 39620.6010665132,\n",
       " 25931.2075634752,\n",
       " 41674.74269222509,\n",
       " 27604.610383068226,\n",
       " 26690.04281264524,\n",
       " -36842.87097320607,\n",
       " 37793.6320492328,\n",
       " 39293.941671460416,\n",
       " 44909.81047381845,\n",
       " -4143.001903361733,\n",
       " 12002.91790141903,\n",
       " 46053.988691934064,\n",
       " 49157.431736483886,\n",
       " 6423.335388150145,\n",
       " -28869.155112626093,\n",
       " -1670.9842706710838,\n",
       " -5693.040326301105,\n",
       " -35538.888121479744,\n",
       " -23189.853623244704,\n",
       " 22137.185799026454,\n",
       " -30288.85010802054,\n",
       " 42997.506749143984,\n",
       " 11961.811344522315,\n",
       " -104.27634594158218,\n",
       " 27809.471974771255,\n",
       " -17116.221767091043,\n",
       " -12033.595339557733,\n",
       " 37065.50033815262,\n",
       " 8508.771546733102,\n",
       " 57888.54411782666,\n",
       " 68590.23743457046,\n",
       " 25469.057745579223,\n",
       " 35463.44391442886,\n",
       " -46002.5035473458,\n",
       " -35655.25314048437,\n",
       " 16308.31876997605,\n",
       " 41747.66585695582,\n",
       " 48860.82820226921,\n",
       " -23135.643460294275,\n",
       " 33000.58529982302,\n",
       " 33905.54463656437,\n",
       " 24749.001335289653,\n",
       " 19094.72587071921,\n",
       " -28757.13071792076,\n",
       " 41369.66935190637,\n",
       " 27287.51902492129,\n",
       " 20905.478285940113,\n",
       " 28096.110516495788,\n",
       " 46624.245426864014,\n",
       " 11311.207150911925,\n",
       " 54810.1795685782,\n",
       " -51341.35969905652,\n",
       " 44172.80716576416,\n",
       " 20891.653408339615,\n",
       " 69623.86859348424,\n",
       " 48659.640333137366,\n",
       " 13908.651307607255,\n",
       " 46275.19157997464,\n",
       " -13081.435584442994,\n",
       " 25413.189110294526,\n",
       " 20250.15327422462,\n",
       " 11603.953419266965,\n",
       " 51575.19165363663,\n",
       " 44542.74555973273,\n",
       " 17395.125321220577,\n",
       " -19180.37392878191,\n",
       " 49247.28600667629,\n",
       " 42215.91316786426,\n",
       " 31979.958729756687,\n",
       " -5298.526163563285]"
      ]
     },
     "execution_count": 70,
     "metadata": {},
     "output_type": "execute_result"
    }
   ],
   "source": [
    "all_cred_alls"
   ]
  },
  {
   "cell_type": "code",
   "execution_count": 87,
   "metadata": {},
   "outputs": [
    {
     "ename": "NameError",
     "evalue": "name 'cred_all_GT_45' is not defined",
     "output_type": "error",
     "traceback": [
      "\u001b[1;31m---------------------------------------------------------------------------\u001b[0m",
      "\u001b[1;31mNameError\u001b[0m                                 Traceback (most recent call last)",
      "\u001b[1;32m<ipython-input-87-ad9c92802f86>\u001b[0m in \u001b[0;36m<module>\u001b[1;34m\u001b[0m\n\u001b[0;32m      1\u001b[0m \u001b[1;31m# cred_all_GT_45, all_cred_alls_GT_45 = Credit_cals.All_credit_calc(\"X_data_GT_1000.csv\", \"Y_data_GT_1000.csv\", 2,4,5)\u001b[0m\u001b[1;33m\u001b[0m\u001b[1;33m\u001b[0m\u001b[1;33m\u001b[0m\u001b[0m\n\u001b[1;32m----> 2\u001b[1;33m \u001b[0mcred_all_GT_45\u001b[0m\u001b[1;33m\u001b[0m\u001b[1;33m\u001b[0m\u001b[0m\n\u001b[0m",
      "\u001b[1;31mNameError\u001b[0m: name 'cred_all_GT_45' is not defined"
     ]
    }
   ],
   "source": [
    "# cred_all_GT_45, all_cred_alls_GT_45 = Credit_cals.All_credit_calc(\"X_data_GT_1000.csv\", \"Y_data_GT_1000.csv\", 2,4,5)\n"
   ]
  },
  {
   "cell_type": "code",
   "execution_count": 28,
   "metadata": {},
   "outputs": [
    {
     "data": {
      "text/plain": [
       "[<matplotlib.lines.Line2D at 0x16cc0e9d5e0>]"
      ]
     },
     "execution_count": 28,
     "metadata": {},
     "output_type": "execute_result"
    },
    {
     "data": {
      "image/png": "[encoded data removed]",
      "text/plain": [
       "<Figure size 432x288 with 1 Axes>"
      ]
     },
     "metadata": {
      "image/png": {
       "height": 248,
       "width": 396
      },
      "needs_background": "light"
     },
     "output_type": "display_data"
    }
   ],
   "source": [
    "plt.plot([el for el in range(len(all_cred_alls[100]))], all_cred_alls[100], color='green')\n",
    "plt.plot([el for el in range(len(all_cred_alls[110]))], all_cred_alls[110], color='red')\n",
    "plt.plot([el for el in range(len(all_cred_alls[500]))], all_cred_alls[500], color='blue')\n",
    "plt.plot([el for el in range(len(all_cred_alls[610]))], all_cred_alls[610], color='purple')"
   ]
  },
  {
   "cell_type": "code",
   "execution_count": 25,
   "metadata": {},
   "outputs": [
    {
     "data": {
      "text/plain": [
       "<function dict.values>"
      ]
     },
     "execution_count": 25,
     "metadata": {},
     "output_type": "execute_result"
    }
   ],
   "source": [
    "# max(len(list(all_cred_alls.values))\n",
    "all_cred_alls.values"
   ]
  },
  {
   "cell_type": "code",
   "execution_count": 51,
   "metadata": {},
   "outputs": [],
   "source": [
    "# final_dict = {}\n",
    "# prev_dict = all_cred_alls\n",
    "# max_length = np.max([len(all_cred_alls[i]) for i in range(1000)])\n",
    "# for i in range(1000):\n",
    "#     for j in range(max_length - len(all_cred_alls[i])):\n",
    "#         prev_dict[i].append(0)\n",
    "        \n",
    "# df_3_5 = pd.DataFrame.from_dict(prev_dict) "
   ]
  },
  {
   "cell_type": "code",
   "execution_count": 52,
   "metadata": {},
   "outputs": [],
   "source": [
    "# df_3_5.to_csv('df_3_5.csv')"
   ]
  },
  {
   "cell_type": "code",
   "execution_count": 53,
   "metadata": {},
   "outputs": [],
   "source": [
    "# df35 = pd.read_csv('df_3_5.csv')"
   ]
  },
  {
   "cell_type": "code",
   "execution_count": null,
   "metadata": {},
   "outputs": [],
   "source": [
    "df_CNN = pd.read_csv('df_3_5.csv')"
   ]
  },
  {
   "cell_type": "code",
   "execution_count": 54,
   "metadata": {},
   "outputs": [
    {
     "data": {
      "text/html": [
       "<div>\n",
       "<style scoped>\n",
       "    .dataframe tbody tr th:only-of-type {\n",
       "        vertical-align: middle;\n",
       "    }\n",
       "\n",
       "    .dataframe tbody tr th {\n",
       "        vertical-align: top;\n",
       "    }\n",
       "\n",
       "    .dataframe thead th {\n",
       "        text-align: right;\n",
       "    }\n",
       "</style>\n",
       "<table border=\"1\" class=\"dataframe\">\n",
       "  <thead>\n",
       "    <tr style=\"text-align: right;\">\n",
       "      <th></th>\n",
       "      <th>Unnamed: 0</th>\n",
       "      <th>0</th>\n",
       "      <th>1</th>\n",
       "      <th>2</th>\n",
       "      <th>3</th>\n",
       "      <th>4</th>\n",
       "      <th>5</th>\n",
       "      <th>6</th>\n",
       "      <th>7</th>\n",
       "      <th>8</th>\n",
       "      <th>...</th>\n",
       "      <th>990</th>\n",
       "      <th>991</th>\n",
       "      <th>992</th>\n",
       "      <th>993</th>\n",
       "      <th>994</th>\n",
       "      <th>995</th>\n",
       "      <th>996</th>\n",
       "      <th>997</th>\n",
       "      <th>998</th>\n",
       "      <th>999</th>\n",
       "    </tr>\n",
       "  </thead>\n",
       "  <tbody>\n",
       "    <tr>\n",
       "      <th>0</th>\n",
       "      <td>0</td>\n",
       "      <td>0.745356</td>\n",
       "      <td>0.745356</td>\n",
       "      <td>2.867442</td>\n",
       "      <td>3.299832</td>\n",
       "      <td>1.699673</td>\n",
       "      <td>1.666667</td>\n",
       "      <td>1.943651</td>\n",
       "      <td>2.981424</td>\n",
       "      <td>3.000000</td>\n",
       "      <td>...</td>\n",
       "      <td>3.333333</td>\n",
       "      <td>3.333333</td>\n",
       "      <td>1.666667</td>\n",
       "      <td>2.236068</td>\n",
       "      <td>2.027588</td>\n",
       "      <td>2.108185</td>\n",
       "      <td>2.687419</td>\n",
       "      <td>1.943651</td>\n",
       "      <td>2.403701</td>\n",
       "      <td>3.018462</td>\n",
       "    </tr>\n",
       "    <tr>\n",
       "      <th>1</th>\n",
       "      <td>1</td>\n",
       "      <td>3.612798</td>\n",
       "      <td>2.981424</td>\n",
       "      <td>5.103510</td>\n",
       "      <td>5.903248</td>\n",
       "      <td>2.901524</td>\n",
       "      <td>3.461722</td>\n",
       "      <td>3.318019</td>\n",
       "      <td>5.408127</td>\n",
       "      <td>4.414214</td>\n",
       "      <td>...</td>\n",
       "      <td>6.406515</td>\n",
       "      <td>6.406515</td>\n",
       "      <td>3.157379</td>\n",
       "      <td>3.935741</td>\n",
       "      <td>3.518299</td>\n",
       "      <td>4.511886</td>\n",
       "      <td>4.795604</td>\n",
       "      <td>3.145501</td>\n",
       "      <td>4.070368</td>\n",
       "      <td>6.180739</td>\n",
       "    </tr>\n",
       "    <tr>\n",
       "      <th>2</th>\n",
       "      <td>2</td>\n",
       "      <td>6.912629</td>\n",
       "      <td>5.584841</td>\n",
       "      <td>5.770176</td>\n",
       "      <td>6.569915</td>\n",
       "      <td>5.568190</td>\n",
       "      <td>5.888425</td>\n",
       "      <td>4.260828</td>\n",
       "      <td>1.872593</td>\n",
       "      <td>6.357864</td>\n",
       "      <td>...</td>\n",
       "      <td>8.350165</td>\n",
       "      <td>8.350165</td>\n",
       "      <td>4.952434</td>\n",
       "      <td>4.681097</td>\n",
       "      <td>6.205719</td>\n",
       "      <td>5.257242</td>\n",
       "      <td>-0.204396</td>\n",
       "      <td>4.478834</td>\n",
       "      <td>5.124460</td>\n",
       "      <td>7.555108</td>\n",
       "    </tr>\n",
       "    <tr>\n",
       "      <th>3</th>\n",
       "      <td>3</td>\n",
       "      <td>8.612303</td>\n",
       "      <td>6.786691</td>\n",
       "      <td>8.436843</td>\n",
       "      <td>9.318652</td>\n",
       "      <td>8.316927</td>\n",
       "      <td>7.262793</td>\n",
       "      <td>5.751540</td>\n",
       "      <td>2.926686</td>\n",
       "      <td>7.559715</td>\n",
       "      <td>...</td>\n",
       "      <td>10.888756</td>\n",
       "      <td>10.888756</td>\n",
       "      <td>7.379137</td>\n",
       "      <td>6.055466</td>\n",
       "      <td>8.893138</td>\n",
       "      <td>7.923909</td>\n",
       "      <td>0.795604</td>\n",
       "      <td>5.969546</td>\n",
       "      <td>6.178553</td>\n",
       "      <td>10.221775</td>\n",
       "    </tr>\n",
       "    <tr>\n",
       "      <th>4</th>\n",
       "      <td>4</td>\n",
       "      <td>10.555953</td>\n",
       "      <td>8.161059</td>\n",
       "      <td>10.103510</td>\n",
       "      <td>11.113707</td>\n",
       "      <td>10.425112</td>\n",
       "      <td>8.464644</td>\n",
       "      <td>7.859725</td>\n",
       "      <td>5.945148</td>\n",
       "      <td>9.259388</td>\n",
       "      <td>...</td>\n",
       "      <td>12.683811</td>\n",
       "      <td>12.683811</td>\n",
       "      <td>9.982553</td>\n",
       "      <td>8.482169</td>\n",
       "      <td>3.893138</td>\n",
       "      <td>9.623582</td>\n",
       "      <td>3.483024</td>\n",
       "      <td>7.302880</td>\n",
       "      <td>7.878226</td>\n",
       "      <td>12.329960</td>\n",
       "    </tr>\n",
       "  </tbody>\n",
       "</table>\n",
       "<p>5 rows × 1001 columns</p>\n",
       "</div>"
      ],
      "text/plain": [
       "   Unnamed: 0          0         1          2          3          4         5  \\\n",
       "0           0   0.745356  0.745356   2.867442   3.299832   1.699673  1.666667   \n",
       "1           1   3.612798  2.981424   5.103510   5.903248   2.901524  3.461722   \n",
       "2           2   6.912629  5.584841   5.770176   6.569915   5.568190  5.888425   \n",
       "3           3   8.612303  6.786691   8.436843   9.318652   8.316927  7.262793   \n",
       "4           4  10.555953  8.161059  10.103510  11.113707  10.425112  8.464644   \n",
       "\n",
       "          6         7         8  ...        990        991       992  \\\n",
       "0  1.943651  2.981424  3.000000  ...   3.333333   3.333333  1.666667   \n",
       "1  3.318019  5.408127  4.414214  ...   6.406515   6.406515  3.157379   \n",
       "2  4.260828  1.872593  6.357864  ...   8.350165   8.350165  4.952434   \n",
       "3  5.751540  2.926686  7.559715  ...  10.888756  10.888756  7.379137   \n",
       "4  7.859725  5.945148  9.259388  ...  12.683811  12.683811  9.982553   \n",
       "\n",
       "        993       994       995       996       997       998        999  \n",
       "0  2.236068  2.027588  2.108185  2.687419  1.943651  2.403701   3.018462  \n",
       "1  3.935741  3.518299  4.511886  4.795604  3.145501  4.070368   6.180739  \n",
       "2  4.681097  6.205719  5.257242 -0.204396  4.478834  5.124460   7.555108  \n",
       "3  6.055466  8.893138  7.923909  0.795604  5.969546  6.178553  10.221775  \n",
       "4  8.482169  3.893138  9.623582  3.483024  7.302880  7.878226  12.329960  \n",
       "\n",
       "[5 rows x 1001 columns]"
      ]
     },
     "execution_count": 54,
     "metadata": {},
     "output_type": "execute_result"
    }
   ],
   "source": [
    "df35.head()"
   ]
  },
  {
   "cell_type": "code",
   "execution_count": 77,
   "metadata": {},
   "outputs": [
    {
     "data": {
      "text/plain": [
       "0         0.745356\n",
       "1         3.612798\n",
       "2         6.912629\n",
       "3         8.612303\n",
       "4        10.555953\n",
       "           ...    \n",
       "98110     0.000000\n",
       "98111     0.000000\n",
       "98112     0.000000\n",
       "98113     0.000000\n",
       "98114     0.000000\n",
       "Name: 0, Length: 98115, dtype: float64"
      ]
     },
     "execution_count": 77,
     "metadata": {},
     "output_type": "execute_result"
    }
   ],
   "source": [
    "df35[\"0\"]"
   ]
  },
  {
   "cell_type": "code",
   "execution_count": 78,
   "metadata": {},
   "outputs": [
    {
     "data": {
      "text/plain": [
       "269065961.88266104"
      ]
     },
     "execution_count": 78,
     "metadata": {},
     "output_type": "execute_result"
    }
   ],
   "source": [
    "np.sum(df35[\"0\"])"
   ]
  },
  {
   "cell_type": "code",
   "execution_count": 14,
   "metadata": {},
   "outputs": [],
   "source": [
    "inf_users, num = Infection_cals.dist_calc(\"X_data_GT.csv\", \"Y_data_GT.csv\", 2)"
   ]
  },
  {
   "cell_type": "code",
   "execution_count": 9,
   "metadata": {},
   "outputs": [
    {
     "data": {
      "text/plain": [
       "([3, 4, 8, 12, 13, 14, 15, 16, 18], 9)"
      ]
     },
     "execution_count": 9,
     "metadata": {},
     "output_type": "execute_result"
    }
   ],
   "source": [
    "inf_users, num"
   ]
  },
  {
   "cell_type": "code",
   "execution_count": null,
   "metadata": {},
   "outputs": [],
   "source": [
    "# Credit Calculator\n",
    "\n"
   ]
  },
  {
   "cell_type": "code",
   "execution_count": 81,
   "metadata": {},
   "outputs": [],
   "source": [
    "# cred_all_45, all_cred_alls_45 = Credit_cals.All_credit_calc(\"X_data_GT_1000.csv\", \"Y_data_GT_1000.csv\", 2,4,5)\n"
   ]
  },
  {
   "cell_type": "code",
   "execution_count": 82,
   "metadata": {},
   "outputs": [
    {
     "data": {
      "text/plain": [
       "[<matplotlib.lines.Line2D at 0x1725960c6d0>]"
      ]
     },
     "execution_count": 82,
     "metadata": {},
     "output_type": "execute_result"
    },
    {
     "data": {
      "image/png": "[encoded data removed]",
      "text/plain": [
       "<Figure size 432x288 with 1 Axes>"
      ]
     },
     "metadata": {
      "image/png": {
       "height": 248,
       "width": 406
      },
      "needs_background": "light"
     },
     "output_type": "display_data"
    }
   ],
   "source": [
    "plt.plot([el for el in range(len(all_cred_alls_45[100]))], all_cred_alls_45[100], color='green')\n",
    "plt.plot([el for el in range(len(all_cred_alls_45[110]))], all_cred_alls_45[110], color='red')\n",
    "plt.plot([el for el in range(len(all_cred_alls_45[500]))], all_cred_alls_45[500], color='blue')\n",
    "plt.plot([el for el in range(len(all_cred_alls_45[610]))], all_cred_alls_45[610], color='purple')"
   ]
  },
  {
   "cell_type": "code",
   "execution_count": 57,
   "metadata": {},
   "outputs": [],
   "source": [
    "final_dict = {}\n",
    "prev_dict_45 = all_cred_alls_45\n",
    "max_length_45 = np.max([len(all_cred_alls_45[i]) for i in range(1000)])\n",
    "for i in range(1000):\n",
    "    for j in range(max_length_45 - len(all_cred_alls_45[i])):\n",
    "        prev_dict_45[i].append(0)\n",
    "        \n",
    "df_4_5 = pd.DataFrame.from_dict(prev_dict_45) \n",
    "df_4_5.to_csv('df_4_5.csv')"
   ]
  },
  {
   "cell_type": "code",
   "execution_count": 58,
   "metadata": {},
   "outputs": [
    {
     "data": {
      "text/html": [
       "<div>\n",
       "<style scoped>\n",
       "    .dataframe tbody tr th:only-of-type {\n",
       "        vertical-align: middle;\n",
       "    }\n",
       "\n",
       "    .dataframe tbody tr th {\n",
       "        vertical-align: top;\n",
       "    }\n",
       "\n",
       "    .dataframe thead th {\n",
       "        text-align: right;\n",
       "    }\n",
       "</style>\n",
       "<table border=\"1\" class=\"dataframe\">\n",
       "  <thead>\n",
       "    <tr style=\"text-align: right;\">\n",
       "      <th></th>\n",
       "      <th>Unnamed: 0</th>\n",
       "      <th>0</th>\n",
       "      <th>1</th>\n",
       "      <th>2</th>\n",
       "      <th>3</th>\n",
       "      <th>4</th>\n",
       "      <th>5</th>\n",
       "      <th>6</th>\n",
       "      <th>7</th>\n",
       "      <th>8</th>\n",
       "      <th>...</th>\n",
       "      <th>990</th>\n",
       "      <th>991</th>\n",
       "      <th>992</th>\n",
       "      <th>993</th>\n",
       "      <th>994</th>\n",
       "      <th>995</th>\n",
       "      <th>996</th>\n",
       "      <th>997</th>\n",
       "      <th>998</th>\n",
       "      <th>999</th>\n",
       "    </tr>\n",
       "  </thead>\n",
       "  <tbody>\n",
       "    <tr>\n",
       "      <th>0</th>\n",
       "      <td>0</td>\n",
       "      <td>0.559017</td>\n",
       "      <td>0.559017</td>\n",
       "      <td>2.150581</td>\n",
       "      <td>2.474874</td>\n",
       "      <td>1.274755</td>\n",
       "      <td>1.250000</td>\n",
       "      <td>1.457738</td>\n",
       "      <td>2.236068</td>\n",
       "      <td>2.250000</td>\n",
       "      <td>...</td>\n",
       "      <td>2.500000</td>\n",
       "      <td>2.500000</td>\n",
       "      <td>1.250000</td>\n",
       "      <td>1.677051</td>\n",
       "      <td>1.520691</td>\n",
       "      <td>1.581139</td>\n",
       "      <td>2.015564</td>\n",
       "      <td>1.457738</td>\n",
       "      <td>1.802776</td>\n",
       "      <td>2.263846</td>\n",
       "    </tr>\n",
       "    <tr>\n",
       "      <th>1</th>\n",
       "      <td>1</td>\n",
       "      <td>2.709598</td>\n",
       "      <td>2.236068</td>\n",
       "      <td>3.827632</td>\n",
       "      <td>4.427436</td>\n",
       "      <td>2.176143</td>\n",
       "      <td>2.596291</td>\n",
       "      <td>2.488514</td>\n",
       "      <td>4.056095</td>\n",
       "      <td>3.310660</td>\n",
       "      <td>...</td>\n",
       "      <td>4.804886</td>\n",
       "      <td>4.804886</td>\n",
       "      <td>2.368034</td>\n",
       "      <td>2.951806</td>\n",
       "      <td>2.638725</td>\n",
       "      <td>3.383914</td>\n",
       "      <td>3.596703</td>\n",
       "      <td>2.359126</td>\n",
       "      <td>3.052776</td>\n",
       "      <td>4.635555</td>\n",
       "    </tr>\n",
       "    <tr>\n",
       "      <th>2</th>\n",
       "      <td>2</td>\n",
       "      <td>5.184472</td>\n",
       "      <td>4.188630</td>\n",
       "      <td>4.327632</td>\n",
       "      <td>4.927436</td>\n",
       "      <td>4.176143</td>\n",
       "      <td>4.416319</td>\n",
       "      <td>3.195621</td>\n",
       "      <td>0.520562</td>\n",
       "      <td>4.768398</td>\n",
       "      <td>...</td>\n",
       "      <td>6.262624</td>\n",
       "      <td>6.262624</td>\n",
       "      <td>3.714325</td>\n",
       "      <td>3.510823</td>\n",
       "      <td>4.654289</td>\n",
       "      <td>3.942931</td>\n",
       "      <td>-1.403297</td>\n",
       "      <td>3.359126</td>\n",
       "      <td>3.843345</td>\n",
       "      <td>5.666331</td>\n",
       "    </tr>\n",
       "    <tr>\n",
       "      <th>3</th>\n",
       "      <td>3</td>\n",
       "      <td>6.459227</td>\n",
       "      <td>5.090018</td>\n",
       "      <td>6.327632</td>\n",
       "      <td>6.988989</td>\n",
       "      <td>6.237696</td>\n",
       "      <td>5.447095</td>\n",
       "      <td>4.313655</td>\n",
       "      <td>1.311131</td>\n",
       "      <td>5.669786</td>\n",
       "      <td>...</td>\n",
       "      <td>8.166567</td>\n",
       "      <td>8.166567</td>\n",
       "      <td>5.534353</td>\n",
       "      <td>4.541599</td>\n",
       "      <td>6.669853</td>\n",
       "      <td>5.942931</td>\n",
       "      <td>-0.653297</td>\n",
       "      <td>4.477160</td>\n",
       "      <td>4.633914</td>\n",
       "      <td>7.666331</td>\n",
       "    </tr>\n",
       "    <tr>\n",
       "      <th>4</th>\n",
       "      <td>4</td>\n",
       "      <td>7.916965</td>\n",
       "      <td>6.120795</td>\n",
       "      <td>7.577632</td>\n",
       "      <td>8.335280</td>\n",
       "      <td>7.818834</td>\n",
       "      <td>6.348483</td>\n",
       "      <td>5.894794</td>\n",
       "      <td>3.574977</td>\n",
       "      <td>6.944541</td>\n",
       "      <td>...</td>\n",
       "      <td>9.512859</td>\n",
       "      <td>9.512859</td>\n",
       "      <td>7.486915</td>\n",
       "      <td>6.361627</td>\n",
       "      <td>1.669853</td>\n",
       "      <td>7.217686</td>\n",
       "      <td>1.362268</td>\n",
       "      <td>5.477160</td>\n",
       "      <td>5.908669</td>\n",
       "      <td>9.247470</td>\n",
       "    </tr>\n",
       "  </tbody>\n",
       "</table>\n",
       "<p>5 rows × 1001 columns</p>\n",
       "</div>"
      ],
      "text/plain": [
       "   Unnamed: 0         0         1         2         3         4         5  \\\n",
       "0           0  0.559017  0.559017  2.150581  2.474874  1.274755  1.250000   \n",
       "1           1  2.709598  2.236068  3.827632  4.427436  2.176143  2.596291   \n",
       "2           2  5.184472  4.188630  4.327632  4.927436  4.176143  4.416319   \n",
       "3           3  6.459227  5.090018  6.327632  6.988989  6.237696  5.447095   \n",
       "4           4  7.916965  6.120795  7.577632  8.335280  7.818834  6.348483   \n",
       "\n",
       "          6         7         8  ...       990       991       992       993  \\\n",
       "0  1.457738  2.236068  2.250000  ...  2.500000  2.500000  1.250000  1.677051   \n",
       "1  2.488514  4.056095  3.310660  ...  4.804886  4.804886  2.368034  2.951806   \n",
       "2  3.195621  0.520562  4.768398  ...  6.262624  6.262624  3.714325  3.510823   \n",
       "3  4.313655  1.311131  5.669786  ...  8.166567  8.166567  5.534353  4.541599   \n",
       "4  5.894794  3.574977  6.944541  ...  9.512859  9.512859  7.486915  6.361627   \n",
       "\n",
       "        994       995       996       997       998       999  \n",
       "0  1.520691  1.581139  2.015564  1.457738  1.802776  2.263846  \n",
       "1  2.638725  3.383914  3.596703  2.359126  3.052776  4.635555  \n",
       "2  4.654289  3.942931 -1.403297  3.359126  3.843345  5.666331  \n",
       "3  6.669853  5.942931 -0.653297  4.477160  4.633914  7.666331  \n",
       "4  1.669853  7.217686  1.362268  5.477160  5.908669  9.247470  \n",
       "\n",
       "[5 rows x 1001 columns]"
      ]
     },
     "execution_count": 58,
     "metadata": {},
     "output_type": "execute_result"
    }
   ],
   "source": [
    "# df45 = pd.read_csv('df_4_5.csv')\n",
    "# df45.head()"
   ]
  },
  {
   "cell_type": "code",
   "execution_count": null,
   "metadata": {},
   "outputs": [],
   "source": []
  },
  {
   "cell_type": "markdown",
   "metadata": {},
   "source": [
    "# ALL CREDITS"
   ]
  },
  {
   "cell_type": "code",
   "execution_count": 79,
   "metadata": {},
   "outputs": [],
   "source": [
    "# cred_all_EKFT, all_cred_alls_EKFT = Credit_cals.All_credit_calc(\"X_Estimated_EKFT.csv\", \"Y_Estimated_EKFT.csv\", 2,4,5)\n",
    "# cred_all_UKFT, all_cred_alls_UKFT = Credit_cals.All_credit_calc(\"X_Estimated_UKFT.csv\", \"Y_Estimated_UKFT.csv\", 2,4,5)\n",
    "# cred_all_EKFA, all_cred_alls_EKFA = Credit_cals.All_credit_calc(\"X_Estimated_EKFA.csv\", \"Y_Estimated_EKFA.csv\", 2,4,5)\n",
    "# cred_all_UKFA, all_cred_alls_UKFA = Credit_cals.All_credit_calc(\"X_Estimated_UKFA.csv\", \"Y_Estimated_UKFA.csv\", 2,4,5)\n",
    "# cred_all_UKFTA, all_cred_alls_UKFTA = Credit_cals.All_credit_calc(\"X_Estimated_UKFTA.csv\", \"Y_Estimated_UKFTA.csv\", 2,4,5)\n",
    "# cred_all_CNN, all_cred_alls_CNN = Credit_cals.All_credit_calc(\"X_Estimated_CNN.csv\", \"Y_Estimated_CNN.csv\", 2,4,5)\n"
   ]
  },
  {
   "cell_type": "code",
   "execution_count": 86,
   "metadata": {},
   "outputs": [
    {
     "ename": "NameError",
     "evalue": "name 'all_cred_alls_CNN' is not defined",
     "output_type": "error",
     "traceback": [
      "\u001b[1;31m---------------------------------------------------------------------------\u001b[0m",
      "\u001b[1;31mNameError\u001b[0m                                 Traceback (most recent call last)",
      "\u001b[1;32m<ipython-input-86-2ec079054c29>\u001b[0m in \u001b[0;36m<module>\u001b[1;34m\u001b[0m\n\u001b[1;32m----> 1\u001b[1;33m \u001b[0mplt\u001b[0m\u001b[1;33m.\u001b[0m\u001b[0mplot\u001b[0m\u001b[1;33m(\u001b[0m\u001b[1;33m[\u001b[0m\u001b[0mel\u001b[0m \u001b[1;32mfor\u001b[0m \u001b[0mel\u001b[0m \u001b[1;32min\u001b[0m \u001b[0mrange\u001b[0m\u001b[1;33m(\u001b[0m\u001b[0mlen\u001b[0m\u001b[1;33m(\u001b[0m\u001b[0mall_cred_alls_CNN\u001b[0m\u001b[1;33m[\u001b[0m\u001b[1;36m100\u001b[0m\u001b[1;33m]\u001b[0m\u001b[1;33m)\u001b[0m\u001b[1;33m)\u001b[0m\u001b[1;33m]\u001b[0m\u001b[1;33m,\u001b[0m \u001b[0mall_cred_alls_CNN\u001b[0m\u001b[1;33m[\u001b[0m\u001b[1;36m100\u001b[0m\u001b[1;33m]\u001b[0m\u001b[1;33m,\u001b[0m \u001b[0mcolor\u001b[0m\u001b[1;33m=\u001b[0m\u001b[1;34m'green'\u001b[0m\u001b[1;33m)\u001b[0m\u001b[1;33m\u001b[0m\u001b[1;33m\u001b[0m\u001b[0m\n\u001b[0m\u001b[0;32m      2\u001b[0m \u001b[0mplt\u001b[0m\u001b[1;33m.\u001b[0m\u001b[0mplot\u001b[0m\u001b[1;33m(\u001b[0m\u001b[1;33m[\u001b[0m\u001b[0mel\u001b[0m \u001b[1;32mfor\u001b[0m \u001b[0mel\u001b[0m \u001b[1;32min\u001b[0m \u001b[0mrange\u001b[0m\u001b[1;33m(\u001b[0m\u001b[0mlen\u001b[0m\u001b[1;33m(\u001b[0m\u001b[0mall_cred_alls_CNN\u001b[0m\u001b[1;33m[\u001b[0m\u001b[1;36m110\u001b[0m\u001b[1;33m]\u001b[0m\u001b[1;33m)\u001b[0m\u001b[1;33m)\u001b[0m\u001b[1;33m]\u001b[0m\u001b[1;33m,\u001b[0m \u001b[0mall_cred_alls_CNN\u001b[0m\u001b[1;33m[\u001b[0m\u001b[1;36m110\u001b[0m\u001b[1;33m]\u001b[0m\u001b[1;33m,\u001b[0m \u001b[0mcolor\u001b[0m\u001b[1;33m=\u001b[0m\u001b[1;34m'red'\u001b[0m\u001b[1;33m)\u001b[0m\u001b[1;33m\u001b[0m\u001b[1;33m\u001b[0m\u001b[0m\n\u001b[0;32m      3\u001b[0m \u001b[0mplt\u001b[0m\u001b[1;33m.\u001b[0m\u001b[0mplot\u001b[0m\u001b[1;33m(\u001b[0m\u001b[1;33m[\u001b[0m\u001b[0mel\u001b[0m \u001b[1;32mfor\u001b[0m \u001b[0mel\u001b[0m \u001b[1;32min\u001b[0m \u001b[0mrange\u001b[0m\u001b[1;33m(\u001b[0m\u001b[0mlen\u001b[0m\u001b[1;33m(\u001b[0m\u001b[0mall_cred_alls_CNN\u001b[0m\u001b[1;33m[\u001b[0m\u001b[1;36m500\u001b[0m\u001b[1;33m]\u001b[0m\u001b[1;33m)\u001b[0m\u001b[1;33m)\u001b[0m\u001b[1;33m]\u001b[0m\u001b[1;33m,\u001b[0m \u001b[0mall_cred_alls_CNN\u001b[0m\u001b[1;33m[\u001b[0m\u001b[1;36m500\u001b[0m\u001b[1;33m]\u001b[0m\u001b[1;33m,\u001b[0m \u001b[0mcolor\u001b[0m\u001b[1;33m=\u001b[0m\u001b[1;34m'blue'\u001b[0m\u001b[1;33m)\u001b[0m\u001b[1;33m\u001b[0m\u001b[1;33m\u001b[0m\u001b[0m\n\u001b[0;32m      4\u001b[0m \u001b[0mplt\u001b[0m\u001b[1;33m.\u001b[0m\u001b[0mplot\u001b[0m\u001b[1;33m(\u001b[0m\u001b[1;33m[\u001b[0m\u001b[0mel\u001b[0m \u001b[1;32mfor\u001b[0m \u001b[0mel\u001b[0m \u001b[1;32min\u001b[0m \u001b[0mrange\u001b[0m\u001b[1;33m(\u001b[0m\u001b[0mlen\u001b[0m\u001b[1;33m(\u001b[0m\u001b[0mall_cred_alls_CNN\u001b[0m\u001b[1;33m[\u001b[0m\u001b[1;36m610\u001b[0m\u001b[1;33m]\u001b[0m\u001b[1;33m)\u001b[0m\u001b[1;33m)\u001b[0m\u001b[1;33m]\u001b[0m\u001b[1;33m,\u001b[0m \u001b[0mall_cred_alls_CNN\u001b[0m\u001b[1;33m[\u001b[0m\u001b[1;36m610\u001b[0m\u001b[1;33m]\u001b[0m\u001b[1;33m,\u001b[0m \u001b[0mcolor\u001b[0m\u001b[1;33m=\u001b[0m\u001b[1;34m'purple'\u001b[0m\u001b[1;33m)\u001b[0m\u001b[1;33m\u001b[0m\u001b[1;33m\u001b[0m\u001b[0m\n",
      "\u001b[1;31mNameError\u001b[0m: name 'all_cred_alls_CNN' is not defined"
     ]
    }
   ],
   "source": [
    "plt.plot([el for el in range(len(all_cred_alls_CNN[100]))], all_cred_alls_CNN[100], color='green')\n",
    "plt.plot([el for el in range(len(all_cred_alls_CNN[110]))], all_cred_alls_CNN[110], color='red')\n",
    "plt.plot([el for el in range(len(all_cred_alls_CNN[500]))], all_cred_alls_CNN[500], color='blue')\n",
    "plt.plot([el for el in range(len(all_cred_alls_CNN[610]))], all_cred_alls_CNN[610], color='purple')"
   ]
  },
  {
   "cell_type": "code",
   "execution_count": 61,
   "metadata": {},
   "outputs": [
    {
     "data": {
      "text/plain": [
       "1000"
      ]
     },
     "execution_count": 61,
     "metadata": {},
     "output_type": "execute_result"
    }
   ],
   "source": [
    "len(cred_all_UKFA)"
   ]
  },
  {
   "cell_type": "code",
   "execution_count": 63,
   "metadata": {},
   "outputs": [],
   "source": [
    "def save_to_dict(dict_name, outputname):\n",
    "    final_dict = {}\n",
    "    prev_dict_45 = dict_name\n",
    "    max_length_45 = np.max([len(dict_name[i]) for i in range(1000)])\n",
    "    for i in range(1000):\n",
    "        for j in range(max_length_45 - len(dict_name[i])):\n",
    "            prev_dict_45[i].append(0)\n",
    "\n",
    "    df_4_5 = pd.DataFrame.from_dict(prev_dict_45) \n",
    "    df_4_5.to_csv(outputname+'.csv')"
   ]
  },
  {
   "cell_type": "code",
   "execution_count": 64,
   "metadata": {},
   "outputs": [],
   "source": [
    "# save_to_dict(all_cred_alls_EKFT, \"all_cred_alls_EKFT_45\")"
   ]
  },
  {
   "cell_type": "code",
   "execution_count": 65,
   "metadata": {},
   "outputs": [],
   "source": [
    "# save_to_dict(all_cred_alls_UKFT, \"all_cred_alls_UKFT_45\")"
   ]
  },
  {
   "cell_type": "code",
   "execution_count": 66,
   "metadata": {},
   "outputs": [],
   "source": [
    "# save_to_dict(all_cred_alls_EKFA, \"all_cred_alls_EKFA_45\")"
   ]
  },
  {
   "cell_type": "code",
   "execution_count": 67,
   "metadata": {},
   "outputs": [],
   "source": [
    "# save_to_dict(all_cred_alls_UKFA, \"all_cred_alls_UKFA_45\")"
   ]
  },
  {
   "cell_type": "code",
   "execution_count": 68,
   "metadata": {},
   "outputs": [],
   "source": [
    "# cred_all_UKFTA, all_cred_alls_UKFTA = Credit_cals.All_credit_calc(\"X_Estimated_UKFTA.csv\", \"Y_Estimated_UKFTA.csv\", 2,4,5)\n"
   ]
  },
  {
   "cell_type": "code",
   "execution_count": 69,
   "metadata": {},
   "outputs": [],
   "source": [
    "# save_to_dict(all_cred_alls_UKFTA, \"all_cred_alls_UKFTA_45\")"
   ]
  },
  {
   "cell_type": "code",
   "execution_count": null,
   "metadata": {},
   "outputs": [],
   "source": [
    "Final_credits_dict = {\"Ground Truth\":}"
   ]
  },
  {
   "cell_type": "markdown",
   "metadata": {},
   "source": [
    "### Ground truph"
   ]
  },
  {
   "cell_type": "code",
   "execution_count": 47,
   "metadata": {},
   "outputs": [
    {
     "data": {
      "text/plain": [
       "({0: [[3, 4, 8, 12, 13, 14, 15, 16, 18], 9],\n",
       "  3: [[1, 6, 7, 9], 4],\n",
       "  4: [[1, 2, 7], 3],\n",
       "  8: [[19], 1],\n",
       "  12: [[2, 6, 7], 3],\n",
       "  13: [[5, 10, 11, 19], 4],\n",
       "  14: [[1, 6, 7], 3],\n",
       "  15: [[1, 7], 2],\n",
       "  16: [[1, 7], 2],\n",
       "  18: [[6, 7], 2]},\n",
       " [9, [4, 3, 1, 3, 4, 3, 2, 2, 2]],\n",
       " 90.0)"
      ]
     },
     "execution_count": 47,
     "metadata": {},
     "output_type": "execute_result"
    }
   ],
   "source": [
    "Infection_cals.other_infections(\"X_data_GT.csv\", \"Y_data_GT.csv\", 2)"
   ]
  },
  {
   "cell_type": "code",
   "execution_count": 51,
   "metadata": {},
   "outputs": [
    {
     "data": {
      "text/plain": [
       "({0: [[1, 2, 3, 4, 6, 7, 8, 9, 12, 13, 14, 15, 16, 18, 19], 15],\n",
       "  1: [[11], 1],\n",
       "  2: [[], 0],\n",
       "  3: [[11], 1],\n",
       "  4: [[], 0],\n",
       "  6: [[], 0],\n",
       "  7: [[], 0],\n",
       "  8: [[10, 11], 2],\n",
       "  9: [[5, 10, 11, 17], 4],\n",
       "  12: [[], 0],\n",
       "  13: [[5, 10, 11, 17], 4],\n",
       "  14: [[11], 1],\n",
       "  15: [[], 0],\n",
       "  16: [[11], 1],\n",
       "  18: [[], 0],\n",
       "  19: [[5, 10, 11, 17], 4]},\n",
       " [15, [1, 0, 1, 0, 0, 0, 2, 4, 0, 4, 1, 0, 1, 0, 4]],\n",
       " 95.0)"
      ]
     },
     "execution_count": 51,
     "metadata": {},
     "output_type": "execute_result"
    }
   ],
   "source": [
    "Infection_cals.other_infections(\"X_data_GT.csv\", \"Y_data_GT.csv\", 5)"
   ]
  },
  {
   "cell_type": "code",
   "execution_count": null,
   "metadata": {},
   "outputs": [],
   "source": []
  },
  {
   "cell_type": "code",
   "execution_count": null,
   "metadata": {},
   "outputs": [],
   "source": []
  },
  {
   "cell_type": "code",
   "execution_count": 49,
   "metadata": {},
   "outputs": [
    {
     "data": {
      "text/plain": [
       "({0: [[1, 2, 3, 4, 6, 7, 8, 9, 12, 13, 14, 15, 16, 18, 19], 15],\n",
       "  1: [[2, 3, 4, 6, 7, 8, 9, 11, 12, 14, 15, 16, 18], 13],\n",
       "  2: [[1, 3, 4, 6, 7, 12, 14, 15, 16, 18], 10],\n",
       "  3: [[1, 2, 4, 6, 7, 8, 9, 11, 12, 13, 14, 15, 16, 18], 14],\n",
       "  4: [[1, 2, 3, 6, 7, 8, 12, 13, 14, 15, 16, 18], 12],\n",
       "  6: [[1, 2, 3, 4, 7, 12, 14, 15, 16, 18], 10],\n",
       "  7: [[1, 2, 3, 4, 6, 8, 9, 12, 14, 15, 16, 18, 19], 13],\n",
       "  8: [[1, 3, 4, 7, 9, 10, 11, 12, 13, 14, 15, 16, 18, 19], 14],\n",
       "  9: [[1, 3, 5, 7, 8, 10, 11, 13, 14, 15, 16, 17, 18, 19], 14],\n",
       "  12: [[1, 2, 3, 4, 6, 7, 8, 14, 15, 16, 18], 11],\n",
       "  13: [[3, 4, 5, 8, 9, 10, 11, 14, 15, 16, 17, 18, 19], 13],\n",
       "  14: [[1, 2, 3, 4, 6, 7, 8, 9, 11, 12, 13, 15, 16, 18, 19], 15],\n",
       "  15: [[1, 2, 3, 4, 6, 7, 8, 9, 12, 13, 14, 16, 18, 19], 14],\n",
       "  16: [[1, 2, 3, 4, 6, 7, 8, 9, 11, 12, 13, 14, 15, 18, 19], 15],\n",
       "  18: [[1, 2, 3, 4, 6, 7, 8, 9, 12, 13, 14, 15, 16, 19], 14],\n",
       "  19: [[5, 7, 8, 9, 10, 11, 13, 14, 15, 16, 17, 18], 12]},\n",
       " [15, [13, 10, 14, 12, 10, 13, 14, 14, 11, 13, 15, 14, 15, 14, 12]],\n",
       " 95.0)"
      ]
     },
     "execution_count": 49,
     "metadata": {},
     "output_type": "execute_result"
    }
   ],
   "source": [
    "Infection_cals.all_infections(\"X_data_GT.csv\", \"Y_data_GT.csv\", 5)"
   ]
  },
  {
   "cell_type": "code",
   "execution_count": 50,
   "metadata": {},
   "outputs": [
    {
     "data": {
      "text/plain": [
       "({0: [[3, 4, 8, 12, 13, 14, 15, 16, 18], 9],\n",
       "  3: [[1, 4, 6, 7, 8, 9, 12, 14, 15, 16, 18], 11],\n",
       "  4: [[1, 2, 3, 7, 8, 14, 16, 18], 8],\n",
       "  8: [[3, 4, 13, 14, 16, 18, 19], 7],\n",
       "  12: [[2, 3, 6, 7, 18], 5],\n",
       "  13: [[5, 8, 10, 11, 19], 5],\n",
       "  14: [[1, 3, 4, 6, 7, 8, 15, 16, 18], 9],\n",
       "  15: [[1, 3, 7, 14, 18], 5],\n",
       "  16: [[1, 3, 4, 7, 8, 14, 18], 7],\n",
       "  18: [[3, 4, 6, 7, 8, 12, 14, 15, 16], 9]},\n",
       " [9, [11, 8, 7, 5, 5, 9, 5, 7, 9]],\n",
       " 90.0)"
      ]
     },
     "execution_count": 50,
     "metadata": {},
     "output_type": "execute_result"
    }
   ],
   "source": [
    "Infection_cals.all_infections(\"X_data_GT.csv\", \"Y_data_GT.csv\", 2)"
   ]
  },
  {
   "cell_type": "code",
   "execution_count": 22,
   "metadata": {},
   "outputs": [],
   "source": [
    "a, b = Infection_cals.all_infections(\"X_data_GT.csv\", \"Y_data_GT.csv\", 2)"
   ]
  },
  {
   "cell_type": "code",
   "execution_count": 43,
   "metadata": {},
   "outputs": [],
   "source": [
    "qq = []\n",
    "for el in [el[0] for el in list(a.values())]:\n",
    "    qq.extend(el)"
   ]
  },
  {
   "cell_type": "code",
   "execution_count": 45,
   "metadata": {},
   "outputs": [
    {
     "data": {
      "text/plain": [
       "90.0"
      ]
     },
     "execution_count": 45,
     "metadata": {},
     "output_type": "execute_result"
    }
   ],
   "source": [
    "len(set(qq))/20*100"
   ]
  },
  {
   "cell_type": "markdown",
   "metadata": {},
   "source": [
    "### Estimated_EKFT"
   ]
  },
  {
   "cell_type": "code",
   "execution_count": 26,
   "metadata": {},
   "outputs": [
    {
     "data": {
      "text/plain": [
       "({0: [[3, 4, 7, 8, 12, 13, 14, 15, 16, 18], 10],\n",
       "  3: [[6, 9], 2],\n",
       "  4: [[2, 6], 2],\n",
       "  7: [[6], 1],\n",
       "  8: [[19], 1],\n",
       "  12: [[2, 6], 2],\n",
       "  13: [[5, 9, 10, 11, 19], 5],\n",
       "  14: [[6, 9, 11, 19], 4],\n",
       "  15: [[9], 1],\n",
       "  16: [[6, 9], 2],\n",
       "  18: [[6, 19], 2]},\n",
       " [10, [2, 2, 1, 1, 2, 5, 4, 1, 2, 2]])"
      ]
     },
     "execution_count": 26,
     "metadata": {},
     "output_type": "execute_result"
    }
   ],
   "source": [
    "Infection_cals.other_infections(\"X_Estimated_EKFT.csv\", \"Y_Estimated_EKFT.csv\", 2)"
   ]
  },
  {
   "cell_type": "code",
   "execution_count": 27,
   "metadata": {},
   "outputs": [
    {
     "data": {
      "text/plain": [
       "({0: [[1, 2, 3, 4, 6, 7, 8, 9, 12, 13, 14, 15, 16, 17, 18, 19], 16],\n",
       "  1: [[11], 1],\n",
       "  2: [[], 0],\n",
       "  3: [[10, 11], 2],\n",
       "  4: [[], 0],\n",
       "  6: [[11], 1],\n",
       "  7: [[11], 1],\n",
       "  8: [[10, 11], 2],\n",
       "  9: [[5, 10, 11], 3],\n",
       "  12: [[], 0],\n",
       "  13: [[5, 10, 11], 3],\n",
       "  14: [[11], 1],\n",
       "  15: [[10, 11], 2],\n",
       "  16: [[11], 1],\n",
       "  17: [[5, 10, 11], 3],\n",
       "  18: [[], 0],\n",
       "  19: [[5, 10, 11], 3]},\n",
       " [16, [1, 0, 2, 0, 1, 1, 2, 3, 0, 3, 1, 2, 1, 3, 0, 3]])"
      ]
     },
     "execution_count": 27,
     "metadata": {},
     "output_type": "execute_result"
    }
   ],
   "source": [
    "Infection_cals.other_infections(\"X_Estimated_EKFT.csv\", \"Y_Estimated_EKFT.csv\", 5)"
   ]
  },
  {
   "cell_type": "code",
   "execution_count": null,
   "metadata": {},
   "outputs": [],
   "source": []
  },
  {
   "cell_type": "code",
   "execution_count": 28,
   "metadata": {},
   "outputs": [
    {
     "data": {
      "text/plain": [
       "({0: [[3, 4, 7, 8, 12, 13, 14, 15, 16, 18], 10],\n",
       "  3: [[4, 6, 7, 8, 9, 12, 14, 15, 16, 18], 10],\n",
       "  4: [[2, 3, 6, 7, 8, 12, 14, 15, 16, 18], 10],\n",
       "  7: [[3, 4, 6, 8, 12, 14, 15, 16, 18], 9],\n",
       "  8: [[3, 4, 7, 13, 14, 16, 18, 19], 8],\n",
       "  12: [[2, 3, 4, 6, 7, 16, 18], 7],\n",
       "  13: [[5, 8, 9, 10, 11, 19], 6],\n",
       "  14: [[3, 4, 6, 7, 8, 9, 11, 15, 16, 18, 19], 11],\n",
       "  15: [[3, 4, 7, 9, 14, 16, 18], 7],\n",
       "  16: [[3, 4, 6, 7, 8, 9, 12, 14, 15, 18], 10],\n",
       "  18: [[3, 4, 6, 7, 8, 12, 14, 15, 16, 19], 10]},\n",
       " [10, [10, 10, 9, 8, 7, 6, 11, 7, 10, 10]])"
      ]
     },
     "execution_count": 28,
     "metadata": {},
     "output_type": "execute_result"
    }
   ],
   "source": [
    "Infection_cals.all_infections(\"X_Estimated_EKFT.csv\", \"Y_Estimated_EKFT.csv\", 2)"
   ]
  },
  {
   "cell_type": "code",
   "execution_count": 29,
   "metadata": {},
   "outputs": [
    {
     "data": {
      "text/plain": [
       "({0: [[1, 2, 3, 4, 6, 7, 8, 9, 12, 13, 14, 15, 16, 17, 18, 19], 16],\n",
       "  1: [[2, 3, 4, 6, 7, 8, 9, 11, 12, 14, 15, 16, 17, 18, 19], 15],\n",
       "  2: [[3, 4, 6, 7, 12, 14, 15, 16, 18], 9],\n",
       "  3: [[2, 4, 6, 7, 8, 9, 10, 11, 12, 13, 14, 15, 16, 17, 18, 19], 16],\n",
       "  4: [[2, 3, 6, 7, 8, 9, 12, 13, 14, 15, 16, 18, 19], 13],\n",
       "  6: [[2, 3, 4, 7, 9, 11, 12, 14, 15, 16, 18], 11],\n",
       "  7: [[2, 3, 4, 6, 8, 9, 11, 12, 13, 14, 15, 16, 18, 19], 14],\n",
       "  8: [[3, 4, 7, 9, 10, 11, 12, 13, 14, 15, 16, 18, 19], 13],\n",
       "  9: [[3, 4, 5, 6, 7, 8, 10, 11, 13, 14, 15, 16, 17, 18, 19], 15],\n",
       "  12: [[2, 3, 4, 6, 7, 8, 13, 14, 15, 16, 18], 11],\n",
       "  13: [[3, 4, 5, 7, 8, 9, 10, 11, 12, 14, 15, 16, 17, 18, 19], 15],\n",
       "  14: [[2, 3, 4, 6, 7, 8, 9, 11, 12, 13, 15, 16, 17, 18, 19], 15],\n",
       "  15: [[2, 3, 4, 6, 7, 8, 9, 10, 11, 12, 13, 14, 16, 17, 18, 19], 16],\n",
       "  16: [[2, 3, 4, 6, 7, 8, 9, 11, 12, 13, 14, 15, 17, 18, 19], 15],\n",
       "  17: [[3, 5, 9, 10, 11, 13, 14, 15, 16, 19], 10],\n",
       "  18: [[2, 3, 4, 6, 7, 8, 9, 12, 13, 14, 15, 16, 19], 13],\n",
       "  19: [[3, 4, 5, 7, 8, 9, 10, 11, 13, 14, 15, 16, 17, 18], 14]},\n",
       " [16, [15, 9, 16, 13, 11, 14, 13, 15, 11, 15, 15, 16, 15, 10, 13, 14]])"
      ]
     },
     "execution_count": 29,
     "metadata": {},
     "output_type": "execute_result"
    }
   ],
   "source": [
    "Infection_cals.all_infections(\"X_Estimated_EKFT.csv\", \"Y_Estimated_EKFT.csv\", 5)"
   ]
  },
  {
   "cell_type": "code",
   "execution_count": null,
   "metadata": {},
   "outputs": [],
   "source": []
  },
  {
   "cell_type": "markdown",
   "metadata": {},
   "source": [
    "### X_Estimated_UKFT"
   ]
  },
  {
   "cell_type": "code",
   "execution_count": 30,
   "metadata": {},
   "outputs": [
    {
     "data": {
      "text/plain": [
       "({0: [[3, 4, 7, 8, 12, 13, 14, 15, 16, 18], 10],\n",
       "  3: [[6, 9], 2],\n",
       "  4: [[2], 1],\n",
       "  7: [[2, 6], 2],\n",
       "  8: [[9, 19], 2],\n",
       "  12: [[2, 6], 2],\n",
       "  13: [[5, 9, 10, 11, 17, 19], 6],\n",
       "  14: [[2, 6], 2],\n",
       "  15: [[2, 6], 2],\n",
       "  16: [[9], 1],\n",
       "  18: [[6, 19], 2]},\n",
       " [10, [2, 1, 2, 2, 2, 6, 2, 2, 1, 2]])"
      ]
     },
     "execution_count": 30,
     "metadata": {},
     "output_type": "execute_result"
    }
   ],
   "source": [
    "Infection_cals.other_infections(\"X_Estimated_UKFT.csv\", \"Y_Estimated_UKFT.csv\", 2)"
   ]
  },
  {
   "cell_type": "code",
   "execution_count": 31,
   "metadata": {},
   "outputs": [
    {
     "data": {
      "text/plain": [
       "({0: [[1, 2, 3, 4, 6, 7, 8, 9, 12, 13, 14, 15, 16, 17, 18, 19], 16],\n",
       "  1: [[11], 1],\n",
       "  2: [[], 0],\n",
       "  3: [[10, 11], 2],\n",
       "  4: [[5], 1],\n",
       "  6: [[], 0],\n",
       "  7: [[], 0],\n",
       "  8: [[5, 10, 11], 3],\n",
       "  9: [[5, 10, 11], 3],\n",
       "  12: [[], 0],\n",
       "  13: [[5, 10, 11], 3],\n",
       "  14: [[11], 1],\n",
       "  15: [[11], 1],\n",
       "  16: [[11], 1],\n",
       "  17: [[5, 10, 11], 3],\n",
       "  18: [[11], 1],\n",
       "  19: [[5, 10, 11], 3]},\n",
       " [16, [1, 0, 2, 1, 0, 0, 3, 3, 0, 3, 1, 1, 1, 3, 1, 3]])"
      ]
     },
     "execution_count": 31,
     "metadata": {},
     "output_type": "execute_result"
    }
   ],
   "source": [
    "Infection_cals.other_infections(\"X_Estimated_UKFT.csv\", \"Y_Estimated_UKFT.csv\", 5)"
   ]
  },
  {
   "cell_type": "code",
   "execution_count": null,
   "metadata": {},
   "outputs": [],
   "source": []
  },
  {
   "cell_type": "code",
   "execution_count": 32,
   "metadata": {},
   "outputs": [
    {
     "data": {
      "text/plain": [
       "({0: [[3, 4, 7, 8, 12, 13, 14, 15, 16, 18], 10],\n",
       "  3: [[4, 6, 7, 8, 9, 12, 14, 15, 16, 18], 10],\n",
       "  4: [[2, 3, 7, 8, 12, 13, 14, 15, 16, 18], 10],\n",
       "  7: [[2, 3, 4, 6, 8, 12, 14, 15, 16, 18], 10],\n",
       "  8: [[3, 4, 7, 9, 13, 14, 16, 18, 19], 9],\n",
       "  12: [[2, 3, 4, 6, 7, 14, 16, 18], 8],\n",
       "  13: [[4, 5, 8, 9, 10, 11, 16, 17, 19], 9],\n",
       "  14: [[2, 3, 4, 6, 7, 8, 12, 15, 16, 18], 10],\n",
       "  15: [[2, 3, 4, 6, 7, 14, 16, 18], 8],\n",
       "  16: [[3, 4, 7, 8, 9, 12, 13, 14, 15, 18], 10],\n",
       "  18: [[3, 4, 6, 7, 8, 12, 14, 15, 16, 19], 10]},\n",
       " [10, [10, 10, 10, 9, 8, 9, 10, 8, 10, 10]])"
      ]
     },
     "execution_count": 32,
     "metadata": {},
     "output_type": "execute_result"
    }
   ],
   "source": [
    "Infection_cals.all_infections(\"X_Estimated_UKFT.csv\", \"Y_Estimated_UKFT.csv\", 2)"
   ]
  },
  {
   "cell_type": "code",
   "execution_count": 33,
   "metadata": {},
   "outputs": [
    {
     "data": {
      "text/plain": [
       "({0: [[1, 2, 3, 4, 6, 7, 8, 9, 12, 13, 14, 15, 16, 17, 18, 19], 16],\n",
       "  1: [[2, 3, 4, 6, 7, 8, 9, 11, 12, 14, 15, 16, 18, 19], 14],\n",
       "  2: [[3, 4, 6, 7, 8, 12, 14, 15, 16, 18], 10],\n",
       "  3: [[2, 4, 6, 7, 8, 9, 10, 11, 12, 13, 14, 15, 16, 18, 19], 15],\n",
       "  4: [[2, 3, 5, 6, 7, 8, 12, 13, 14, 15, 16, 18, 19], 13],\n",
       "  6: [[2, 3, 4, 7, 12, 14, 15, 16, 18], 9],\n",
       "  7: [[2, 3, 4, 6, 8, 9, 12, 13, 14, 15, 16, 18, 19], 13],\n",
       "  8: [[2, 3, 4, 5, 7, 9, 10, 11, 12, 13, 14, 15, 16, 18, 19], 15],\n",
       "  9: [[3, 5, 7, 8, 10, 11, 13, 14, 15, 16, 17, 18, 19], 13],\n",
       "  12: [[2, 3, 4, 6, 7, 8, 14, 15, 16, 18], 10],\n",
       "  13: [[3, 4, 5, 7, 8, 9, 10, 11, 14, 15, 16, 17, 18, 19], 14],\n",
       "  14: [[2, 3, 4, 6, 7, 8, 9, 11, 12, 13, 15, 16, 18, 19], 14],\n",
       "  15: [[2, 3, 4, 6, 7, 8, 9, 11, 12, 13, 14, 16, 17, 18, 19], 15],\n",
       "  16: [[2, 3, 4, 6, 7, 8, 9, 11, 12, 13, 14, 15, 18, 19], 14],\n",
       "  17: [[5, 9, 10, 11, 13, 15, 19], 7],\n",
       "  18: [[2, 3, 4, 6, 7, 8, 9, 11, 12, 13, 14, 15, 16, 19], 14],\n",
       "  19: [[3, 4, 5, 7, 8, 9, 10, 11, 13, 14, 15, 16, 17, 18], 14]},\n",
       " [16, [14, 10, 15, 13, 9, 13, 15, 13, 10, 14, 14, 15, 14, 7, 14, 14]])"
      ]
     },
     "execution_count": 33,
     "metadata": {},
     "output_type": "execute_result"
    }
   ],
   "source": [
    "Infection_cals.all_infections(\"X_Estimated_UKFT.csv\", \"Y_Estimated_UKFT.csv\", 5)"
   ]
  },
  {
   "cell_type": "code",
   "execution_count": null,
   "metadata": {},
   "outputs": [],
   "source": [
    "# 16, [15, 9, 16, 13, 11, 14, 13, 15, 11, 15, 15, 16, 15, 10, 13, 14]\n",
    "# 16, [14, 10, 15, 13, 9, 13, 15, 13, 10, 14, 14, 15, 14, 7, 14, 14]"
   ]
  },
  {
   "cell_type": "code",
   "execution_count": null,
   "metadata": {},
   "outputs": [],
   "source": []
  },
  {
   "cell_type": "markdown",
   "metadata": {},
   "source": [
    "### EKFA"
   ]
  },
  {
   "cell_type": "code",
   "execution_count": 59,
   "metadata": {},
   "outputs": [
    {
     "data": {
      "text/plain": [
       "({0: [[3, 4, 8, 12, 13, 14, 15, 16, 18], 9],\n",
       "  3: [[6, 7, 9, 10, 17], 5],\n",
       "  4: [[2, 7], 2],\n",
       "  8: [[7, 19], 2],\n",
       "  12: [[2, 6, 7], 3],\n",
       "  13: [[5, 9, 10, 17, 19], 5],\n",
       "  14: [[6, 7, 10, 11, 17], 5],\n",
       "  15: [[7, 10, 11, 17], 4],\n",
       "  16: [[7], 1],\n",
       "  18: [[6, 7], 2]},\n",
       " [9, [5, 2, 2, 3, 5, 5, 4, 1, 2]])"
      ]
     },
     "execution_count": 59,
     "metadata": {},
     "output_type": "execute_result"
    }
   ],
   "source": [
    "Infection_cals.other_infections(\"X_Estimated_EKFA.csv\", \"Y_Estimated_EKFA.csv\", 2)"
   ]
  },
  {
   "cell_type": "code",
   "execution_count": 60,
   "metadata": {},
   "outputs": [
    {
     "data": {
      "text/plain": [
       "({0: [[1, 2, 3, 4, 6, 7, 8, 9, 11, 12, 13, 14, 15, 16, 17, 18, 19], 17],\n",
       "  1: [[10], 1],\n",
       "  2: [[10], 1],\n",
       "  3: [[10], 1],\n",
       "  4: [[10], 1],\n",
       "  6: [[10], 1],\n",
       "  7: [[10], 1],\n",
       "  8: [[10], 1],\n",
       "  9: [[5, 10], 2],\n",
       "  11: [[5, 10], 2],\n",
       "  12: [[], 0],\n",
       "  13: [[5, 10], 2],\n",
       "  14: [[10], 1],\n",
       "  15: [[10], 1],\n",
       "  16: [[10], 1],\n",
       "  17: [[5, 10], 2],\n",
       "  18: [[], 0],\n",
       "  19: [[5, 10], 2]},\n",
       " [17, [1, 1, 1, 1, 1, 1, 1, 2, 2, 0, 2, 1, 1, 1, 2, 0, 2]])"
      ]
     },
     "execution_count": 60,
     "metadata": {},
     "output_type": "execute_result"
    }
   ],
   "source": [
    "Infection_cals.other_infections(\"X_Estimated_EKFA.csv\", \"Y_Estimated_EKFA.csv\", 5)"
   ]
  },
  {
   "cell_type": "code",
   "execution_count": null,
   "metadata": {},
   "outputs": [],
   "source": []
  },
  {
   "cell_type": "code",
   "execution_count": 61,
   "metadata": {},
   "outputs": [
    {
     "data": {
      "text/plain": [
       "({0: [[3, 4, 8, 12, 13, 14, 15, 16, 18], 9],\n",
       "  3: [[4, 6, 7, 8, 9, 10, 12, 14, 15, 16, 17, 18], 12],\n",
       "  4: [[2, 3, 7, 8, 14, 16, 18], 7],\n",
       "  8: [[3, 4, 7, 13, 14, 16, 18, 19], 8],\n",
       "  12: [[2, 3, 6, 7, 16, 18], 6],\n",
       "  13: [[5, 8, 9, 10, 17, 19], 6],\n",
       "  14: [[3, 4, 6, 7, 8, 10, 11, 15, 16, 17, 18], 11],\n",
       "  15: [[3, 7, 10, 11, 14, 16, 17, 18], 8],\n",
       "  16: [[3, 4, 7, 8, 12, 14, 15, 18], 8],\n",
       "  18: [[3, 4, 6, 7, 8, 12, 14, 15, 16], 9]},\n",
       " [9, [12, 7, 8, 6, 6, 11, 8, 8, 9]])"
      ]
     },
     "execution_count": 61,
     "metadata": {},
     "output_type": "execute_result"
    }
   ],
   "source": [
    "Infection_cals.all_infections(\"X_Estimated_EKFA.csv\", \"Y_Estimated_EKFA.csv\", 2)"
   ]
  },
  {
   "cell_type": "code",
   "execution_count": 62,
   "metadata": {},
   "outputs": [
    {
     "data": {
      "text/plain": [
       "({0: [[1, 2, 3, 4, 6, 7, 8, 9, 11, 12, 13, 14, 15, 16, 17, 18, 19], 17],\n",
       "  1: [[2, 3, 4, 6, 7, 8, 9, 10, 11, 12, 14, 15, 16, 17, 18], 15],\n",
       "  2: [[3, 4, 6, 7, 10, 11, 12, 14, 15, 16, 17, 18], 12],\n",
       "  3: [[2, 4, 6, 7, 8, 9, 10, 11, 12, 13, 14, 15, 16, 17, 18], 15],\n",
       "  4: [[2, 3, 6, 7, 8, 10, 11, 12, 13, 14, 15, 16, 17, 18], 14],\n",
       "  6: [[2, 3, 4, 7, 10, 11, 12, 14, 15, 16, 17, 18], 12],\n",
       "  7: [[2, 3, 4, 6, 8, 9, 10, 11, 12, 14, 15, 16, 17, 18, 19], 15],\n",
       "  8: [[3, 4, 7, 9, 10, 11, 12, 13, 14, 15, 16, 17, 18, 19], 14],\n",
       "  9: [[3, 5, 7, 8, 10, 11, 13, 14, 15, 16, 17, 18, 19], 13],\n",
       "  11: [[2, 3, 4, 5, 6, 7, 8, 9, 10, 12, 13, 14, 15, 16, 17, 18, 19], 17],\n",
       "  12: [[2, 3, 4, 6, 7, 8, 11, 14, 15, 16, 18], 11],\n",
       "  13: [[3, 4, 5, 8, 9, 10, 11, 14, 15, 16, 17, 18, 19], 13],\n",
       "  14: [[2, 3, 4, 6, 7, 8, 9, 10, 11, 12, 13, 15, 16, 17, 18, 19], 16],\n",
       "  15: [[2, 3, 4, 6, 7, 8, 9, 10, 11, 12, 13, 14, 16, 17, 18, 19], 16],\n",
       "  16: [[2, 3, 4, 6, 7, 8, 9, 10, 11, 12, 13, 14, 15, 17, 18, 19], 16],\n",
       "  17: [[2, 3, 4, 5, 6, 7, 8, 9, 10, 11, 13, 14, 15, 16, 18, 19], 16],\n",
       "  18: [[2, 3, 4, 6, 7, 8, 9, 11, 12, 13, 14, 15, 16, 17, 19], 15],\n",
       "  19: [[5, 7, 8, 9, 10, 11, 13, 14, 15, 16, 17, 18], 12]},\n",
       " [17, [15, 12, 15, 14, 12, 15, 14, 13, 17, 11, 13, 16, 16, 16, 16, 15, 12]])"
      ]
     },
     "execution_count": 62,
     "metadata": {},
     "output_type": "execute_result"
    }
   ],
   "source": [
    "Infection_cals.all_infections(\"X_Estimated_EKFA.csv\", \"Y_Estimated_EKFA.csv\", 5)"
   ]
  },
  {
   "cell_type": "code",
   "execution_count": null,
   "metadata": {},
   "outputs": [],
   "source": [
    "# 16, [15, 9, 16, 13, 11, 14, 13, 15, 11, 15, 15, 16, 15, 10, 13, 14]\n",
    "# 16, [14, 10, 15, 13, 9, 13, 15, 13, 10, 14, 14, 15, 14, 7, 14, 14]\n",
    "# 17, [15, 12, 15, 14, 12, 15, 14, 13, 17, 11, 13, 16, 16, 16, 16, 15, 12]"
   ]
  },
  {
   "cell_type": "markdown",
   "metadata": {},
   "source": [
    "### UKFA"
   ]
  },
  {
   "cell_type": "code",
   "execution_count": 190,
   "metadata": {},
   "outputs": [
    {
     "data": {
      "text/plain": [
       "({0: [[2, 3, 4, 6, 7, 8, 12, 13, 14, 15, 16, 18], 12],\n",
       "  2: [[], 0],\n",
       "  3: [[9, 11], 2],\n",
       "  4: [[], 0],\n",
       "  6: [[], 0],\n",
       "  7: [[], 0],\n",
       "  8: [[19], 1],\n",
       "  12: [[], 0],\n",
       "  13: [[5, 9, 10, 11, 17, 19], 6],\n",
       "  14: [[], 0],\n",
       "  15: [[11], 1],\n",
       "  16: [[9], 1],\n",
       "  18: [[], 0]},\n",
       " [12, [0, 2, 0, 0, 0, 1, 0, 6, 0, 1, 1, 0]])"
      ]
     },
     "execution_count": 190,
     "metadata": {},
     "output_type": "execute_result"
    }
   ],
   "source": [
    "Infection_cals.other_infections(\"X_Estimated_UKFA.csv\", \"Y_Estimated_UKFA.csv\", 2)"
   ]
  },
  {
   "cell_type": "code",
   "execution_count": 191,
   "metadata": {},
   "outputs": [
    {
     "data": {
      "text/plain": [
       "({0: [[1, 2, 3, 4, 5, 6, 7, 8, 9, 10, 12, 13, 14, 15, 16, 17, 18, 19], 18],\n",
       "  1: [[11], 1],\n",
       "  2: [[], 0],\n",
       "  3: [[11], 1],\n",
       "  4: [[11], 1],\n",
       "  5: [[11], 1],\n",
       "  6: [[], 0],\n",
       "  7: [[], 0],\n",
       "  8: [[11], 1],\n",
       "  9: [[11], 1],\n",
       "  10: [[11], 1],\n",
       "  12: [[], 0],\n",
       "  13: [[11], 1],\n",
       "  14: [[11], 1],\n",
       "  15: [[11], 1],\n",
       "  16: [[11], 1],\n",
       "  17: [[11], 1],\n",
       "  18: [[], 0],\n",
       "  19: [[11], 1]},\n",
       " [18, [1, 0, 1, 1, 1, 0, 0, 1, 1, 1, 0, 1, 1, 1, 1, 1, 0, 1]])"
      ]
     },
     "execution_count": 191,
     "metadata": {},
     "output_type": "execute_result"
    }
   ],
   "source": [
    "Infection_cals.other_infections(\"X_Estimated_UKFA.csv\", \"Y_Estimated_UKFA.csv\", 5)"
   ]
  },
  {
   "cell_type": "code",
   "execution_count": 192,
   "metadata": {},
   "outputs": [
    {
     "data": {
      "text/plain": [
       "({0: [[2, 3, 4, 6, 7, 8, 12, 13, 14, 15, 16, 18], 12],\n",
       "  2: [[4, 6, 7, 12, 14, 15, 16], 7],\n",
       "  3: [[4, 6, 7, 9, 11, 12, 14, 15, 16, 18], 10],\n",
       "  4: [[2, 3, 6, 7, 8, 12, 13, 14, 16, 18], 10],\n",
       "  6: [[2, 3, 4, 7, 12, 14, 15, 16, 18], 9],\n",
       "  7: [[2, 3, 4, 6, 8, 12, 14, 15, 16, 18], 10],\n",
       "  8: [[4, 7, 13, 14, 16, 18, 19], 7],\n",
       "  12: [[2, 3, 4, 6, 7, 16, 18], 7],\n",
       "  13: [[4, 5, 8, 9, 10, 11, 17, 19], 8],\n",
       "  14: [[2, 3, 4, 6, 7, 8, 15, 16, 18], 9],\n",
       "  15: [[2, 3, 6, 7, 11, 14, 16, 18], 8],\n",
       "  16: [[2, 3, 4, 6, 7, 8, 9, 12, 14, 15, 18], 11],\n",
       "  18: [[3, 4, 6, 7, 8, 12, 14, 15, 16], 9]},\n",
       " [12, [7, 10, 10, 9, 10, 7, 7, 8, 9, 8, 11, 9]])"
      ]
     },
     "execution_count": 192,
     "metadata": {},
     "output_type": "execute_result"
    }
   ],
   "source": [
    "Infection_cals.all_infections(\"X_Estimated_UKFA.csv\", \"Y_Estimated_UKFA.csv\", 2)"
   ]
  },
  {
   "cell_type": "code",
   "execution_count": 193,
   "metadata": {},
   "outputs": [
    {
     "data": {
      "text/plain": [
       "({0: [[1, 2, 3, 4, 5, 6, 7, 8, 9, 10, 12, 13, 14, 15, 16, 17, 18, 19], 18],\n",
       "  1: [[2, 3, 4, 6, 7, 8, 9, 11, 12, 14, 15, 16, 18, 19], 14],\n",
       "  2: [[3, 4, 6, 7, 8, 12, 14, 15, 16, 18], 10],\n",
       "  3: [[2, 4, 6, 7, 8, 9, 10, 11, 12, 13, 14, 15, 16, 17, 18, 19], 16],\n",
       "  4: [[2, 3, 6, 7, 8, 11, 12, 13, 14, 15, 16, 18, 19], 13],\n",
       "  5: [[8, 9, 10, 11, 13, 15, 17, 19], 8],\n",
       "  6: [[2, 3, 4, 7, 8, 12, 13, 14, 15, 16, 18], 11],\n",
       "  7: [[2, 3, 4, 6, 8, 9, 12, 14, 15, 16, 18, 19], 12],\n",
       "  8: [[2, 3, 4, 5, 6, 7, 9, 10, 11, 12, 13, 14, 15, 16, 17, 18, 19], 17],\n",
       "  9: [[3, 5, 7, 8, 10, 11, 13, 14, 15, 16, 17, 18, 19], 13],\n",
       "  10: [[3, 5, 8, 9, 11, 13, 17, 19], 8],\n",
       "  12: [[2, 3, 4, 6, 7, 8, 13, 14, 15, 16, 18], 11],\n",
       "  13: [[3, 4, 5, 6, 8, 9, 10, 11, 12, 14, 15, 16, 17, 18, 19], 15],\n",
       "  14: [[2, 3, 4, 6, 7, 8, 9, 11, 12, 13, 15, 16, 18, 19], 14],\n",
       "  15: [[2, 3, 4, 5, 6, 7, 8, 9, 11, 12, 13, 14, 16, 17, 18, 19], 16],\n",
       "  16: [[2, 3, 4, 6, 7, 8, 9, 11, 12, 13, 14, 15, 18, 19], 14],\n",
       "  17: [[3, 5, 8, 9, 10, 11, 13, 15, 19], 9],\n",
       "  18: [[2, 3, 4, 6, 7, 8, 9, 12, 13, 14, 15, 16, 19], 13],\n",
       "  19: [[3, 4, 5, 7, 8, 9, 10, 11, 13, 14, 15, 16, 17, 18], 14]},\n",
       " [18, [14, 10, 16, 13, 8, 11, 12, 17, 13, 8, 11, 15, 14, 16, 14, 9, 13, 14]])"
      ]
     },
     "execution_count": 193,
     "metadata": {},
     "output_type": "execute_result"
    }
   ],
   "source": [
    "Infection_cals.all_infections(\"X_Estimated_UKFA.csv\", \"Y_Estimated_UKFA.csv\", 5)"
   ]
  },
  {
   "cell_type": "code",
   "execution_count": null,
   "metadata": {},
   "outputs": [],
   "source": [
    "# 16, [15, 9, 16, 13, 11, 14, 13, 15, 11, 15, 15, 16, 15, 10, 13, 14]\n",
    "# 16, [14, 10, 15, 13, 9, 13, 15, 13, 10, 14, 14, 15, 14, 7, 14, 14]\n",
    "# 17, [15, 12, 15, 14, 12, 15, 14, 13, 17, 11, 13, 16, 16, 16, 16, 15, 12]\n",
    "# 16, [15, 9, 16, 13, 11, 14, 13, 15, 11, 15, 15, 16, 15, 10, 13, 14]"
   ]
  },
  {
   "cell_type": "markdown",
   "metadata": {},
   "source": [
    "### UKFTA"
   ]
  },
  {
   "cell_type": "code",
   "execution_count": 199,
   "metadata": {},
   "outputs": [
    {
     "data": {
      "text/plain": [
       "({0: [[3, 4, 7, 8, 12, 13, 14, 15, 16, 18], 10],\n",
       "  3: [[6, 9, 11], 3],\n",
       "  4: [[2, 6], 2],\n",
       "  7: [[6], 1],\n",
       "  8: [[19], 1],\n",
       "  12: [[2, 6], 2],\n",
       "  13: [[5, 9, 10, 11, 17, 19], 6],\n",
       "  14: [[6, 9], 2],\n",
       "  15: [[6], 1],\n",
       "  16: [[], 0],\n",
       "  18: [[6, 19], 2]},\n",
       " [10, [3, 2, 1, 1, 2, 6, 2, 1, 0, 2]])"
      ]
     },
     "execution_count": 199,
     "metadata": {},
     "output_type": "execute_result"
    }
   ],
   "source": [
    "Infection_cals.other_infections(\"X_Estimated_EKFTA.csv\", \"Y_Estimated_EKFTA.csv\", 2)\n"
   ]
  },
  {
   "cell_type": "code",
   "execution_count": 200,
   "metadata": {},
   "outputs": [
    {
     "data": {
      "text/plain": [
       "({0: [[1, 2, 3, 4, 6, 7, 8, 9, 12, 13, 14, 15, 16, 17, 18, 19], 16],\n",
       "  1: [[11], 1],\n",
       "  2: [[], 0],\n",
       "  3: [[10, 11], 2],\n",
       "  4: [[], 0],\n",
       "  6: [[], 0],\n",
       "  7: [[], 0],\n",
       "  8: [[5, 10, 11], 3],\n",
       "  9: [[5, 10, 11], 3],\n",
       "  12: [[], 0],\n",
       "  13: [[5, 10, 11], 3],\n",
       "  14: [[11], 1],\n",
       "  15: [[11], 1],\n",
       "  16: [[11], 1],\n",
       "  17: [[5, 10, 11], 3],\n",
       "  18: [[], 0],\n",
       "  19: [[5, 10, 11], 3]},\n",
       " [16, [1, 0, 2, 0, 0, 0, 3, 3, 0, 3, 1, 1, 1, 3, 0, 3]])"
      ]
     },
     "execution_count": 200,
     "metadata": {},
     "output_type": "execute_result"
    }
   ],
   "source": [
    "Infection_cals.other_infections(\"X_Estimated_EKFTA.csv\", \"Y_Estimated_EKFTA.csv\", 5)\n"
   ]
  },
  {
   "cell_type": "code",
   "execution_count": null,
   "metadata": {},
   "outputs": [],
   "source": []
  },
  {
   "cell_type": "code",
   "execution_count": 201,
   "metadata": {},
   "outputs": [
    {
     "data": {
      "text/plain": [
       "({0: [[3, 4, 7, 8, 12, 13, 14, 15, 16, 18], 10],\n",
       "  3: [[4, 6, 7, 8, 9, 11, 12, 14, 15, 16, 18], 11],\n",
       "  4: [[2, 3, 6, 7, 8, 12, 13, 14, 15, 16, 18], 11],\n",
       "  7: [[3, 4, 6, 8, 12, 14, 15, 16, 18], 9],\n",
       "  8: [[3, 4, 7, 13, 14, 16, 18, 19], 8],\n",
       "  12: [[2, 3, 4, 6, 7, 18], 6],\n",
       "  13: [[4, 5, 8, 9, 10, 11, 17, 19], 8],\n",
       "  14: [[3, 4, 6, 7, 8, 9, 15, 16, 18], 9],\n",
       "  15: [[3, 4, 6, 7, 14, 16, 18], 7],\n",
       "  16: [[3, 4, 7, 8, 14, 15, 18], 7],\n",
       "  18: [[3, 4, 6, 7, 8, 12, 14, 15, 16, 19], 10]},\n",
       " [10, [11, 11, 9, 8, 6, 8, 9, 7, 7, 10]])"
      ]
     },
     "execution_count": 201,
     "metadata": {},
     "output_type": "execute_result"
    }
   ],
   "source": [
    "Infection_cals.all_infections(\"X_Estimated_EKFTA.csv\", \"Y_Estimated_EKFTA.csv\", 2)\n"
   ]
  },
  {
   "cell_type": "code",
   "execution_count": 203,
   "metadata": {},
   "outputs": [
    {
     "data": {
      "text/plain": [
       "({0: [[1, 2, 3, 4, 6, 7, 8, 9, 12, 13, 14, 15, 16, 17, 18, 19], 16],\n",
       "  1: [[2, 3, 4, 6, 7, 8, 9, 11, 12, 14, 15, 16, 18, 19], 14],\n",
       "  2: [[3, 4, 6, 7, 12, 14, 15, 16, 18], 9],\n",
       "  3: [[2, 4, 6, 7, 8, 9, 10, 11, 12, 13, 14, 15, 16, 17, 18, 19], 16],\n",
       "  4: [[2, 3, 6, 7, 8, 12, 13, 14, 15, 16, 18, 19], 12],\n",
       "  6: [[2, 3, 4, 7, 12, 14, 15, 16, 18], 9],\n",
       "  7: [[2, 3, 4, 6, 8, 9, 12, 13, 14, 15, 16, 18, 19], 13],\n",
       "  8: [[3, 4, 5, 7, 9, 10, 11, 12, 13, 14, 15, 16, 18, 19], 14],\n",
       "  9: [[3, 5, 7, 8, 10, 11, 13, 14, 15, 16, 17, 18, 19], 13],\n",
       "  12: [[2, 3, 4, 6, 7, 8, 14, 15, 16, 18], 10],\n",
       "  13: [[3, 4, 5, 7, 8, 9, 10, 11, 14, 15, 16, 17, 18, 19], 14],\n",
       "  14: [[2, 3, 4, 6, 7, 8, 9, 11, 12, 13, 15, 16, 17, 18, 19], 15],\n",
       "  15: [[2, 3, 4, 6, 7, 8, 9, 11, 12, 13, 14, 16, 17, 18, 19], 15],\n",
       "  16: [[2, 3, 4, 6, 7, 8, 9, 11, 12, 13, 14, 15, 18, 19], 14],\n",
       "  17: [[3, 5, 9, 10, 11, 13, 14, 15, 19], 9],\n",
       "  18: [[2, 3, 4, 6, 7, 8, 9, 12, 13, 14, 15, 16, 19], 13],\n",
       "  19: [[3, 4, 5, 7, 8, 9, 10, 11, 13, 14, 15, 16, 17, 18], 14]},\n",
       " [16, [14, 9, 16, 12, 9, 13, 14, 13, 10, 14, 15, 15, 14, 9, 13, 14]])"
      ]
     },
     "execution_count": 203,
     "metadata": {},
     "output_type": "execute_result"
    }
   ],
   "source": [
    "Infection_cals.all_infections(\"X_Estimated_EKFTA.csv\", \"Y_Estimated_EKFTA.csv\", 5)\n"
   ]
  },
  {
   "cell_type": "code",
   "execution_count": null,
   "metadata": {},
   "outputs": [],
   "source": []
  },
  {
   "cell_type": "code",
   "execution_count": null,
   "metadata": {},
   "outputs": [],
   "source": []
  },
  {
   "cell_type": "markdown",
   "metadata": {},
   "source": [
    "### CNN"
   ]
  },
  {
   "cell_type": "code",
   "execution_count": 76,
   "metadata": {},
   "outputs": [
    {
     "data": {
      "text/plain": [
       "({0: [[3, 4, 7, 8, 12, 13, 14, 15, 16, 18], 10],\n",
       "  3: [[6, 9], 2],\n",
       "  4: [[2], 1],\n",
       "  7: [[6], 1],\n",
       "  8: [[19], 1],\n",
       "  12: [[2, 6], 2],\n",
       "  13: [[5, 9, 10, 11, 17, 19], 6],\n",
       "  14: [[6], 1],\n",
       "  15: [[6], 1],\n",
       "  16: [[9], 1],\n",
       "  18: [[6, 19], 2]},\n",
       " [10, [2, 1, 1, 1, 2, 6, 1, 1, 1, 2]])"
      ]
     },
     "execution_count": 76,
     "metadata": {},
     "output_type": "execute_result"
    }
   ],
   "source": [
    "Infection_cals.other_infections(\"X_Estimated_C.csv\", \"Y_Estimated_C.csv\", 2)"
   ]
  },
  {
   "cell_type": "code",
   "execution_count": 77,
   "metadata": {},
   "outputs": [
    {
     "data": {
      "text/plain": [
       "({0: [[3, 4, 7, 8, 12, 13, 14, 15, 16, 18], 10],\n",
       "  3: [[4, 6, 7, 8, 9, 12, 14, 15, 16, 18], 10],\n",
       "  4: [[2, 3, 7, 8, 13, 14, 15, 16, 18], 9],\n",
       "  7: [[3, 4, 6, 8, 12, 14, 15, 16, 18], 9],\n",
       "  8: [[3, 4, 7, 13, 14, 16, 18, 19], 8],\n",
       "  12: [[2, 3, 6, 7, 16, 18], 6],\n",
       "  13: [[4, 5, 8, 9, 10, 11, 17, 19], 8],\n",
       "  14: [[3, 4, 6, 7, 8, 15, 16, 18], 8],\n",
       "  15: [[3, 4, 6, 7, 14, 16, 18], 7],\n",
       "  16: [[3, 4, 7, 8, 9, 12, 14, 15, 18], 9],\n",
       "  18: [[3, 4, 6, 7, 8, 12, 14, 15, 16, 19], 10]},\n",
       " [10, [10, 9, 9, 8, 6, 8, 8, 7, 9, 10]])"
      ]
     },
     "execution_count": 77,
     "metadata": {},
     "output_type": "execute_result"
    }
   ],
   "source": [
    "Infection_cals.all_infections(\"X_Estimated_C.csv\", \"Y_Estimated_C.csv\", 2)"
   ]
  },
  {
   "cell_type": "code",
   "execution_count": 204,
   "metadata": {},
   "outputs": [
    {
     "data": {
      "text/plain": [
       "({0: [[1, 2, 3, 4, 6, 7, 8, 9, 12, 13, 14, 15, 16, 18, 19], 15],\n",
       "  1: [[2, 3, 4, 6, 7, 8, 9, 11, 12, 14, 15, 16, 18, 19], 14],\n",
       "  2: [[3, 4, 6, 7, 12, 14, 15, 16, 18], 9],\n",
       "  3: [[2, 4, 6, 7, 8, 9, 10, 11, 12, 13, 14, 15, 16, 17, 18, 19], 16],\n",
       "  4: [[2, 3, 6, 7, 8, 12, 13, 14, 15, 16, 18, 19], 12],\n",
       "  6: [[2, 3, 4, 7, 12, 14, 15, 16, 18], 9],\n",
       "  7: [[2, 3, 4, 6, 8, 9, 12, 14, 15, 16, 18, 19], 12],\n",
       "  8: [[3, 4, 5, 7, 9, 10, 11, 12, 13, 14, 15, 16, 18, 19], 14],\n",
       "  9: [[3, 5, 7, 8, 10, 11, 13, 14, 15, 16, 17, 18, 19], 13],\n",
       "  12: [[2, 3, 4, 6, 7, 8, 14, 15, 16, 18], 10],\n",
       "  13: [[3, 4, 5, 8, 9, 10, 11, 14, 15, 16, 17, 18, 19], 13],\n",
       "  14: [[2, 3, 4, 6, 7, 8, 9, 11, 12, 13, 15, 16, 18, 19], 14],\n",
       "  15: [[2, 3, 4, 6, 7, 8, 9, 11, 12, 13, 14, 16, 17, 18, 19], 15],\n",
       "  16: [[2, 3, 4, 6, 7, 8, 9, 11, 12, 13, 14, 15, 18, 19], 14],\n",
       "  18: [[2, 3, 4, 6, 7, 8, 9, 11, 12, 13, 14, 15, 16, 19], 14],\n",
       "  19: [[3, 4, 5, 7, 8, 9, 10, 11, 13, 14, 15, 16, 17, 18], 14]},\n",
       " [15, [14, 9, 16, 12, 9, 12, 14, 13, 10, 13, 14, 15, 14, 14, 14]])"
      ]
     },
     "execution_count": 204,
     "metadata": {},
     "output_type": "execute_result"
    }
   ],
   "source": [
    "Infection_cals.all_infections(\"X_Estimated_C.csv\", \"Y_Estimated_C.csv\", 5)"
   ]
  },
  {
   "cell_type": "code",
   "execution_count": null,
   "metadata": {},
   "outputs": [],
   "source": []
  },
  {
   "cell_type": "code",
   "execution_count": null,
   "metadata": {},
   "outputs": [],
   "source": []
  },
  {
   "cell_type": "code",
   "execution_count": null,
   "metadata": {},
   "outputs": [],
   "source": [
    "GT: [9,  [10, 7, 7, 5, 5, 8, 4, 6, 9]]\n",
    "EKFT: [10,  [10, 10, 9, 8, 7, 6, 11, 7, 10, 10]]\n",
    "UKFT: [10,  [10, 10, 10, 9, 8, 9, 10, 8, 10, 10]]\n",
    "EKFA: [9,  [12, 7, 8, 10, 10, 11, 8, 8, 9]]\n",
    "UKFA: [12,  [7, 10, 10, 9, 10, 7, 7, 8, 9, 8, 11, 9]]\n",
    "UKFTA: [10, [11, 11, 9, 8, 6, 8, 9, 7, 7, 10]] \n",
    "CNN: [10, [10, 9, 9, 8, 6, 8, 8, 7, 9, 10]]\n"
   ]
  },
  {
   "cell_type": "code",
   "execution_count": null,
   "metadata": {},
   "outputs": [],
   "source": []
  },
  {
   "cell_type": "markdown",
   "metadata": {},
   "source": [
    "# 5 meters"
   ]
  },
  {
   "cell_type": "code",
   "execution_count": null,
   "metadata": {},
   "outputs": [],
   "source": [
    "GT: 15, [13, 9, 13, 11, 9, 12, 13, 13, 10, 13, 14, 13, 14, 13, 12]\n",
    "EKFT: 16, [15, 9, 16, 13, 11, 14, 13, 15, 11, 15, 15, 16, 15, 10, 13, 14]\n",
    "UKFT: 16, [14, 10, 15, 13, 9, 13, 15, 13, 10, 14, 14, 15, 14, 7, 14, 14]\n",
    "EKFA: 17, [15, 12, 15, 14, 12, 15, 14, 13, 17, 11, 13, 16, 16, 16, 16, 15, 12]\n",
    "UKFA: 18, [14, 10, 16, 13, 8, 11, 12, 17, 13, 8, 11, 15, 14, 16, 14, 9, 13, 14]\n",
    "UKFTA: 16, [14, 9, 16, 12, 9, 13, 14, 13, 10, 14, 15, 15, 14, 9, 13, 14]   \n",
    "CNN: 15, [14, 9, 16, 12, 9, 12, 14, 13, 10, 13, 14, 15, 14, 14, 14]"
   ]
  },
  {
   "cell_type": "code",
   "execution_count": 209,
   "metadata": {},
   "outputs": [
    {
     "data": {
      "text/plain": [
       "[[13, 15, 14, 15, 14, 14, 14],\n",
       " [9, 9, 10, 12, 10, 9, 9],\n",
       " [13, 16, 15, 15, 16, 16, 16],\n",
       " [11, 13, 13, 14, 13, 12, 12],\n",
       " [9, 11, 9, 12, 8, 9, 9],\n",
       " [12, 14, 13, 15, 11, 13, 12],\n",
       " [13, 13, 15, 14, 12, 14, 14],\n",
       " [13, 15, 13, 13, 17, 13, 13],\n",
       " [10, 11, 10, 17, 13, 10, 10],\n",
       " [13, 15, 14, 11, 8, 14, 13],\n",
       " [14, 15, 14, 13, 11, 15, 14],\n",
       " [13, 16, 15, 16, 15, 15, 15],\n",
       " [14, 15, 14, 16, 14, 14, 14],\n",
       " [13, 10, 7, 16, 16, 9, 14],\n",
       " [12, 13, 14, 16, 14, 13, 14],\n",
       " [0, 14, 14, 15, 9, 14, 0],\n",
       " [0, 0, 0, 12, 13, 0, 0],\n",
       " [0, 0, 0, 0, 14, 0, 0]]"
      ]
     },
     "execution_count": 209,
     "metadata": {},
     "output_type": "execute_result"
    }
   ],
   "source": [
    "data = [[13, 9, 13, 11, 9, 12, 13, 13, 10, 13, 14, 13, 14, 13, 12, 0, 0, 0],\n",
    "        [15, 9, 16, 13, 11, 14, 13, 15, 11, 15, 15, 16, 15, 10, 13, 14, 0, 0],\n",
    "        [14, 10, 15, 13, 9, 13, 15, 13, 10, 14, 14, 15, 14, 7, 14, 14, 0, 0],\n",
    "        [15, 12, 15, 14, 12, 15, 14, 13, 17, 11, 13, 16, 16, 16, 16, 15, 12, 0],\n",
    "        [14, 10, 16, 13, 8, 11, 12, 17, 13, 8, 11, 15, 14, 16, 14, 9, 13, 14],\n",
    "        [14, 9, 16, 12, 9, 13, 14, 13, 10, 14, 15, 15, 14, 9, 13, 14, 0, 0],\n",
    "        [14, 9, 16, 12, 9, 12, 14, 13, 10, 13, 14, 15, 14, 14, 14, 0, 0, 0]]\n",
    "\n",
    "means = []\n",
    "for row in data:\n",
    "    means.append(np.mean(row))\n",
    "\n",
    "f_data = []\n",
    "for i in range(18):\n",
    "    data_ = []\n",
    "    for row in data:\n",
    "        data_.append(row[i])\n",
    "    \n",
    "    f_data.append(data_)\n",
    "\n",
    "f_data"
   ]
  },
  {
   "cell_type": "code",
   "execution_count": 210,
   "metadata": {},
   "outputs": [
    {
     "data": {
      "text/plain": [
       "[10.11111111111111,\n",
       " 11.944444444444445,\n",
       " 11.333333333333334,\n",
       " 13.444444444444445,\n",
       " 12.666666666666666,\n",
       " 11.333333333333334,\n",
       " 10.722222222222221]"
      ]
     },
     "execution_count": 210,
     "metadata": {},
     "output_type": "execute_result"
    }
   ],
   "source": [
    "means"
   ]
  },
  {
   "cell_type": "code",
   "execution_count": 216,
   "metadata": {},
   "outputs": [
    {
     "data": {
      "image/png": "[encoded data removed]",
      "text/plain": [
       "<Figure size 432x288 with 1 Axes>"
      ]
     },
     "metadata": {
      "image/png": {
       "height": 426,
       "width": 362
      },
      "needs_background": "light"
     },
     "output_type": "display_data"
    }
   ],
   "source": [
    "import numpy as np\n",
    "import matplotlib.pyplot as plt\n",
    "\n",
    "data = [[13, 15, 14, 15, 14, 14, 14],\n",
    "         [9, 9, 10, 12, 10, 9, 9],\n",
    "         [13, 16, 15, 15, 16, 16, 16],\n",
    "         [11, 13, 13, 14, 13, 12, 12],\n",
    "         [9, 11, 9, 12, 8, 9, 9],\n",
    "         [12, 14, 13, 15, 11, 13, 12],\n",
    "         [13, 13, 15, 14, 12, 14, 14],\n",
    "         [13, 15, 13, 13, 17, 13, 13],\n",
    "         [10, 11, 10, 17, 13, 10, 10],\n",
    "         [13, 15, 14, 11, 8, 14, 13],\n",
    "         [14, 15, 14, 13, 11, 15, 14],\n",
    "         [13, 16, 15, 16, 15, 15, 15],\n",
    "         [14, 15, 14, 16, 14, 14, 14],\n",
    "         [13, 10, 7, 16, 16, 9, 14],\n",
    "         [12, 13, 14, 16, 14, 13, 14],\n",
    "         [0, 14, 14, 15, 9, 14, 0],\n",
    "         [0, 0, 0, 12, 13, 0, 0],\n",
    "         [0, 0, 0, 0, 14, 0, 0],\n",
    "       [10.11, 11.94, 11.33, 13.44, 12.66, 11.33, 10.72]]\n",
    "\n",
    "\n",
    "\n",
    "columns = ('GT', 'EKFA', 'EKFT', 'UKFA', 'UKFT', 'UKFTA', 'CNN')\n",
    "rows = ['user %d' % x for x in range(18)]\n",
    "rows.append('Mean')\n",
    "\n",
    "values = np.arange(0, 20, 20)\n",
    "value_increment = 2\n",
    "\n",
    "# Get some pastel shades for the colors\n",
    "# colors = plt.cm.Set1(np.linspace(0, 0.5, len(rows)))\n",
    "colors = ['red', 'darkred', 'crimson', 'orangered', 'deeppink', 'coral', 'chocolate']\n",
    "# PuRd, RdPu, Reds, YlOrRd, OrRd\n",
    "n_rows = len(data)\n",
    "\n",
    "index = np.arange(len(columns)) + 0.3\n",
    "bar_width = 0.4\n",
    "\n",
    "# Initialize the vertical-offset for the stacked bar chart.\n",
    "y_offset = np.zeros(len(columns))\n",
    "\n",
    "# Plot bars and create text labels for the table\n",
    "cell_text = []\n",
    "\n",
    "# for i in range(7):\n",
    "#     plt.bar(index, data[10][i], bar_width, bottom=y_offset, color=colors)\n",
    "    \n",
    "plt.bar(index, data[18], bar_width, bottom=y_offset, color=colors)\n",
    "\n",
    "for row in range(n_rows):\n",
    "#     plt.bar(index, data[10][row], bar_width, bottom=y_offset, color=colors)\n",
    "#     y_offset = y_offset + data[row]\n",
    "    cell_text.append(data[row])\n",
    "# Reverse colors and text labels to display the last value at the top.\n",
    "colors = colors[::-1]\n",
    "# cell_text.reverse()\n",
    "\n",
    "# Add a table at the bottom of the axes\n",
    "the_table = plt.table(cellText=cell_text,\n",
    "                      rowLabels=rows,\n",
    "                      colLabels=columns,\n",
    "                      loc='bottom')\n",
    "\n",
    "# Adjust layout to make room for the table:\n",
    "plt.subplots_adjust(left=0.2, bottom=0.2)\n",
    "\n",
    "plt.ylabel(\"Range of Contagiousness - 5 Meters\")\n",
    "plt.yticks(values * value_increment, ['%d' % val for val in values])\n",
    "plt.xticks([])\n",
    "# plt.title('Infected by Covid-19')\n",
    "\n",
    "plt.show()"
   ]
  },
  {
   "cell_type": "code",
   "execution_count": null,
   "metadata": {},
   "outputs": [],
   "source": []
  },
  {
   "cell_type": "code",
   "execution_count": null,
   "metadata": {},
   "outputs": [],
   "source": []
  },
  {
   "cell_type": "markdown",
   "metadata": {},
   "source": [
    "# 2 Meters "
   ]
  },
  {
   "cell_type": "code",
   "execution_count": 194,
   "metadata": {},
   "outputs": [
    {
     "data": {
      "text/plain": [
       "[[10, 10, 10, 12, 7, 11, 10],\n",
       " [7, 10, 10, 7, 10, 11, 9],\n",
       " [7, 9, 10, 8, 10, 9, 8],\n",
       " [5, 8, 9, 12, 9, 8, 8],\n",
       " [5, 7, 8, 10, 10, 6, 6],\n",
       " [8, 6, 9, 11, 7, 8, 7],\n",
       " [4, 11, 10, 10, 7, 9, 8],\n",
       " [6, 7, 8, 8, 8, 7, 7],\n",
       " [9, 10, 10, 9, 9, 7, 9],\n",
       " [0, 10, 10, 0, 8, 10, 10],\n",
       " [0, 0, 0, 0, 11, 0, 0],\n",
       " [0, 0, 0, 0, 9, 0, 0]]"
      ]
     },
     "execution_count": 194,
     "metadata": {},
     "output_type": "execute_result"
    }
   ],
   "source": [
    "data = [[ 10, 7, 7, 5, 5, 8, 4, 6, 9, 0, 0, 0],\n",
    "        [ 10, 10, 9, 8, 7, 6, 11, 7, 10, 10, 0, 0],\n",
    "        [ 10, 10, 10, 9, 8, 9, 10, 8, 10, 10, 0, 0],\n",
    "        [ 12, 7, 8, 12, 10, 11, 10, 8, 9, 0, 0, 0],\n",
    "        [7, 10, 10, 9, 10, 7, 7, 8, 9, 8, 11, 9],\n",
    "        [11, 11, 9, 8, 6, 8, 9, 7, 7, 10, 0, 0],\n",
    "        [10, 9, 8, 8, 6, 7, 8, 7, 9, 10, 0, 0]]\n",
    "\n",
    "medians = []\n",
    "for row in data:\n",
    "    medians.append(np.mean(row))\n",
    "\n",
    "f_data = []\n",
    "for i in range(12):\n",
    "    data_ = []\n",
    "    for row in data:\n",
    "        data_.append(row[i])\n",
    "    \n",
    "    f_data.append(data_)\n",
    "\n",
    "f_data"
   ]
  },
  {
   "cell_type": "code",
   "execution_count": 195,
   "metadata": {},
   "outputs": [
    {
     "data": {
      "text/plain": [
       "[5.083333333333333,\n",
       " 7.333333333333333,\n",
       " 7.833333333333333,\n",
       " 7.25,\n",
       " 8.75,\n",
       " 7.166666666666667,\n",
       " 6.833333333333333]"
      ]
     },
     "execution_count": 195,
     "metadata": {},
     "output_type": "execute_result"
    }
   ],
   "source": [
    "medians"
   ]
  },
  {
   "cell_type": "code",
   "execution_count": 170,
   "metadata": {},
   "outputs": [],
   "source": [
    "# %config InlineBackend.figure_format = 'svg'\n",
    "%config InlineBackend.figure_format = 'retina'"
   ]
  },
  {
   "cell_type": "code",
   "execution_count": 217,
   "metadata": {},
   "outputs": [
    {
     "data": {
      "image/png": "[encoded data removed]",
      "text/plain": [
       "<Figure size 432x288 with 1 Axes>"
      ]
     },
     "metadata": {
      "image/png": {
       "height": 361,
       "width": 362
      },
      "needs_background": "light"
     },
     "output_type": "display_data"
    }
   ],
   "source": [
    "import numpy as np\n",
    "import matplotlib.pyplot as plt\n",
    "\n",
    "data = [[10, 10, 10, 12, 7, 11, 10],\n",
    "         [7, 10, 10, 7, 10, 11, 9],\n",
    "         [7, 9, 10, 8, 10, 9, 8],\n",
    "         [5, 8, 9, 12, 9, 8, 8],\n",
    "         [5, 7, 8, 10, 10, 6, 6],\n",
    "         [8, 6, 9, 11, 7, 8, 7],\n",
    "         [4, 11, 10, 10, 7, 9, 8],\n",
    "         [6, 7, 8, 8, 8, 7, 7],\n",
    "         [9, 10, 10, 9, 9, 7, 9],\n",
    "         [0, 10, 10, 0, 8, 10, 10],\n",
    "         [0, 0, 0, 0, 11, 0, 0],\n",
    "         [0, 0, 0, 0, 9, 0, 0],\n",
    "       [5.08, 7.33, 7.83, 7.25, 8.75, 7.16, 6.83]]\n",
    "\n",
    "\n",
    "\n",
    "columns = ('GT', 'EKFA', 'EKFT', 'UKFA', 'UKFT', 'UKFTA', 'CNN')\n",
    "rows = ['user %d' % x for x in range(12)]\n",
    "rows.append('Mean')\n",
    "\n",
    "values = np.arange(0, 20, 20)\n",
    "value_increment = 2\n",
    "\n",
    "# Get some pastel shades for the colors\n",
    "# colors = plt.cm.Set1(np.linspace(0, 0.5, len(rows)))\n",
    "colors = ['purple', 'violet', 'plum', 'orchid', 'indigo', 'fuchsia', 'pink']\n",
    "# PuRd, RdPu, Reds, YlOrRd, OrRd\n",
    "n_rows = len(data)\n",
    "\n",
    "index = np.arange(len(columns)) + 0.3\n",
    "bar_width = 0.4\n",
    "\n",
    "# Initialize the vertical-offset for the stacked bar chart.\n",
    "y_offset = np.zeros(len(columns))\n",
    "\n",
    "# Plot bars and create text labels for the table\n",
    "cell_text = []\n",
    "\n",
    "# for i in range(7):\n",
    "#     plt.bar(index, data[10][i], bar_width, bottom=y_offset, color=colors)\n",
    "    \n",
    "plt.bar(index, data[12], bar_width, bottom=y_offset, color=colors)\n",
    "\n",
    "for row in range(n_rows):\n",
    "#     plt.bar(index, data[10][row], bar_width, bottom=y_offset, color=colors)\n",
    "#     y_offset = y_offset + data[row]\n",
    "    cell_text.append(data[row])\n",
    "# Reverse colors and text labels to display the last value at the top.\n",
    "colors = colors[::-1]\n",
    "# cell_text.reverse()\n",
    "\n",
    "# Add a table at the bottom of the axes\n",
    "the_table = plt.table(cellText=cell_text,\n",
    "                      rowLabels=rows,\n",
    "                      colLabels=columns,\n",
    "                      loc='bottom')\n",
    "\n",
    "# Adjust layout to make room for the table:\n",
    "plt.subplots_adjust(left=0.2, bottom=0.2)\n",
    "\n",
    "plt.ylabel(\"Range of Contagiousness - 2 Meters\")\n",
    "plt.yticks(values * value_increment, ['%d' % val for val in values])\n",
    "plt.xticks([])\n",
    "# plt.title('Infected by Covid-19')\n",
    "\n",
    "plt.show()"
   ]
  },
  {
   "cell_type": "code",
   "execution_count": 189,
   "metadata": {},
   "outputs": [
    {
     "data": {
      "image/png": "[encoded data removed]",
      "text/plain": [
       "<Figure size 432x288 with 1 Axes>"
      ]
     },
     "metadata": {
      "image/png": {
       "height": 339,
       "width": 354
      },
      "needs_background": "light"
     },
     "output_type": "display_data"
    }
   ],
   "source": [
    "import numpy as np\n",
    "import matplotlib.pyplot as plt\n",
    "\n",
    "data = [[10, 10, 10, 12, 10, 11, 10],\n",
    "         [7, 10, 10, 7, 10, 11, 9],\n",
    "         [7, 9, 10, 8, 9, 9, 8],\n",
    "         [5, 8, 9, 12, 8, 8, 8],\n",
    "         [5, 7, 8, 10, 7, 6, 6],\n",
    "         [8, 6, 9, 11, 6, 8, 7],\n",
    "         [4, 11, 10, 10, 11, 9, 8],\n",
    "         [6, 7, 8, 8, 7, 7, 7],\n",
    "         [9, 10, 10, 9, 10, 7, 9],\n",
    "         [0, 10, 10, 0, 10, 10, 10],\n",
    "       [6.1, 8.8, 9.4, 8.7, 8.8, 8.6, 8.2]]\n",
    "\n",
    "\n",
    "columns = ('GT', 'EKFA', 'EKFT', 'UKFA', 'UKFT', 'UKFTA', 'CNN')\n",
    "rows = ['user %d' % x for x in range(10)]\n",
    "rows.append('Mean')\n",
    "\n",
    "values = np.arange(0, 20, 20)\n",
    "value_increment = 2\n",
    "\n",
    "# Get some pastel shades for the colors\n",
    "# colors = plt.cm.Set1(np.linspace(0, 0.5, len(rows)))\n",
    "colors = ['red', 'darkred', 'crimson', 'orangered', 'deeppink', 'fuchsia', 'pink']\n",
    "# PuRd, RdPu, Reds, YlOrRd, OrRd\n",
    "n_rows = len(data)\n",
    "\n",
    "index = np.arange(len(columns)) + 0.3\n",
    "bar_width = 0.4\n",
    "\n",
    "# Initialize the vertical-offset for the stacked bar chart.\n",
    "y_offset = np.zeros(len(columns))\n",
    "\n",
    "# Plot bars and create text labels for the table\n",
    "cell_text = []\n",
    "\n",
    "# for i in range(7):\n",
    "#     plt.bar(index, data[10][i], bar_width, bottom=y_offset, color=colors)\n",
    "    \n",
    "plt.bar(index, data[10], bar_width, bottom=y_offset, color=colors)\n",
    "\n",
    "for row in range(n_rows):\n",
    "#     plt.bar(index, data[10][row], bar_width, bottom=y_offset, color=colors)\n",
    "#     y_offset = y_offset + data[row]\n",
    "    cell_text.append(data[row])\n",
    "# Reverse colors and text labels to display the last value at the top.\n",
    "colors = colors[::-1]\n",
    "# cell_text.reverse()\n",
    "\n",
    "# Add a table at the bottom of the axes\n",
    "the_table = plt.table(cellText=cell_text,\n",
    "                      rowLabels=rows,\n",
    "                      colLabels=columns,\n",
    "                      loc='bottom')\n",
    "\n",
    "# Adjust layout to make room for the table:\n",
    "plt.subplots_adjust(left=0.2, bottom=0.2)\n",
    "\n",
    "plt.ylabel(\"Range of Contagiousness\")\n",
    "plt.yticks(values * value_increment, ['%d' % val for val in values])\n",
    "plt.xticks([])\n",
    "# plt.title('Infected by Covid-19')\n",
    "\n",
    "plt.show()"
   ]
  },
  {
   "cell_type": "code",
   "execution_count": 160,
   "metadata": {},
   "outputs": [
    {
     "data": {
      "text/plain": [
       "6.1"
      ]
     },
     "execution_count": 160,
     "metadata": {},
     "output_type": "execute_result"
    }
   ],
   "source": [
    "data = [[10, 10, 10, 12, 10, 11, 10],\n",
    "         [7, 10, 10, 7, 10, 11, 9],\n",
    "         [7, 9, 10, 8, 9, 9, 9],\n",
    "         [5, 8, 9, 6, 8, 8, 8],\n",
    "         [5, 7, 8, 6, 7, 6, 6],\n",
    "         [8, 6, 9, 11, 6, 8, 8],\n",
    "         [4, 11, 10, 8, 11, 9, 8],\n",
    "         [6, 7, 8, 8, 7, 7, 7],\n",
    "         [9, 10, 10, 9, 10, 7, 9],\n",
    "         [0, 10, 10, 0, 10, 10, 10],\n",
    "       [6.1, 8.8, 9.4, 8.9, 8.8, 8.6, 8.4]]\n",
    "\n",
    "data[10][0]"
   ]
  },
  {
   "cell_type": "code",
   "execution_count": 131,
   "metadata": {},
   "outputs": [
    {
     "data": {
      "text/plain": [
       "array([[0.89411765, 0.10196078, 0.10980392, 1.        ],\n",
       "       [0.89411765, 0.10196078, 0.10980392, 1.        ],\n",
       "       [0.21568627, 0.49411765, 0.72156863, 1.        ],\n",
       "       [0.21568627, 0.49411765, 0.72156863, 1.        ],\n",
       "       [0.30196078, 0.68627451, 0.29019608, 1.        ],\n",
       "       [0.30196078, 0.68627451, 0.29019608, 1.        ],\n",
       "       [0.59607843, 0.30588235, 0.63921569, 1.        ],\n",
       "       [0.59607843, 0.30588235, 0.63921569, 1.        ],\n",
       "       [1.        , 0.49803922, 0.        , 1.        ],\n",
       "       [1.        , 0.49803922, 0.        , 1.        ]])"
      ]
     },
     "execution_count": 131,
     "metadata": {},
     "output_type": "execute_result"
    }
   ],
   "source": [
    "plt.cm.Set1(np.linspace(0, 0.5, len(rows)))"
   ]
  },
  {
   "cell_type": "code",
   "execution_count": null,
   "metadata": {},
   "outputs": [],
   "source": []
  },
  {
   "cell_type": "code",
   "execution_count": null,
   "metadata": {},
   "outputs": [],
   "source": []
  },
  {
   "cell_type": "code",
   "execution_count": null,
   "metadata": {},
   "outputs": [],
   "source": []
  },
  {
   "cell_type": "code",
   "execution_count": 58,
   "metadata": {},
   "outputs": [
    {
     "data": {
      "application/vnd.plotly.v1+json": {
       "config": {
        "plotlyServerURL": "https://plot.ly"
       },
       "data": [
        {
         "name": "Montreal",
         "type": "bar",
         "x": [
          "b",
          "a",
          "c",
          "d"
         ],
         "y": [
          2,
          5,
          1,
          9
         ]
        },
        {
         "name": "Ottawa",
         "type": "bar",
         "x": [
          "b",
          "a",
          "c",
          "d"
         ],
         "y": [
          1,
          4,
          9,
          16
         ]
        },
        {
         "name": "Toronto",
         "type": "bar",
         "x": [
          "b",
          "a",
          "c",
          "d"
         ],
         "y": [
          6,
          8,
          4.5,
          8
         ]
        }
       ],
       "layout": {
        "barmode": "stack",
        "template": {
         "data": {
          "bar": [
           {
            "error_x": {
             "color": "#2a3f5f"
            },
            "error_y": {
             "color": "#2a3f5f"
            },
            "marker": {
             "line": {
              "color": "#E5ECF6",
              "width": 0.5
             }
            },
            "type": "bar"
           }
          ],
          "barpolar": [
           {
            "marker": {
             "line": {
              "color": "#E5ECF6",
              "width": 0.5
             }
            },
            "type": "barpolar"
           }
          ],
          "carpet": [
           {
            "aaxis": {
             "endlinecolor": "#2a3f5f",
             "gridcolor": "white",
             "linecolor": "white",
             "minorgridcolor": "white",
             "startlinecolor": "#2a3f5f"
            },
            "baxis": {
             "endlinecolor": "#2a3f5f",
             "gridcolor": "white",
             "linecolor": "white",
             "minorgridcolor": "white",
             "startlinecolor": "#2a3f5f"
            },
            "type": "carpet"
           }
          ],
          "choropleth": [
           {
            "colorbar": {
             "outlinewidth": 0,
             "ticks": ""
            },
            "type": "choropleth"
           }
          ],
          "contour": [
           {
            "colorbar": {
             "outlinewidth": 0,
             "ticks": ""
            },
            "colorscale": [
             [
              0,
              "#0d0887"
             ],
             [
              0.1111111111111111,
              "#46039f"
             ],
             [
              0.2222222222222222,
              "#7201a8"
             ],
             [
              0.3333333333333333,
              "#9c179e"
             ],
             [
              0.4444444444444444,
              "#bd3786"
             ],
             [
              0.5555555555555556,
              "#d8576b"
             ],
             [
              0.6666666666666666,
              "#ed7953"
             ],
             [
              0.7777777777777778,
              "#fb9f3a"
             ],
             [
              0.8888888888888888,
              "#fdca26"
             ],
             [
              1,
              "#f0f921"
             ]
            ],
            "type": "contour"
           }
          ],
          "contourcarpet": [
           {
            "colorbar": {
             "outlinewidth": 0,
             "ticks": ""
            },
            "type": "contourcarpet"
           }
          ],
          "heatmap": [
           {
            "colorbar": {
             "outlinewidth": 0,
             "ticks": ""
            },
            "colorscale": [
             [
              0,
              "#0d0887"
             ],
             [
              0.1111111111111111,
              "#46039f"
             ],
             [
              0.2222222222222222,
              "#7201a8"
             ],
             [
              0.3333333333333333,
              "#9c179e"
             ],
             [
              0.4444444444444444,
              "#bd3786"
             ],
             [
              0.5555555555555556,
              "#d8576b"
             ],
             [
              0.6666666666666666,
              "#ed7953"
             ],
             [
              0.7777777777777778,
              "#fb9f3a"
             ],
             [
              0.8888888888888888,
              "#fdca26"
             ],
             [
              1,
              "#f0f921"
             ]
            ],
            "type": "heatmap"
           }
          ],
          "heatmapgl": [
           {
            "colorbar": {
             "outlinewidth": 0,
             "ticks": ""
            },
            "colorscale": [
             [
              0,
              "#0d0887"
             ],
             [
              0.1111111111111111,
              "#46039f"
             ],
             [
              0.2222222222222222,
              "#7201a8"
             ],
             [
              0.3333333333333333,
              "#9c179e"
             ],
             [
              0.4444444444444444,
              "#bd3786"
             ],
             [
              0.5555555555555556,
              "#d8576b"
             ],
             [
              0.6666666666666666,
              "#ed7953"
             ],
             [
              0.7777777777777778,
              "#fb9f3a"
             ],
             [
              0.8888888888888888,
              "#fdca26"
             ],
             [
              1,
              "#f0f921"
             ]
            ],
            "type": "heatmapgl"
           }
          ],
          "histogram": [
           {
            "marker": {
             "colorbar": {
              "outlinewidth": 0,
              "ticks": ""
             }
            },
            "type": "histogram"
           }
          ],
          "histogram2d": [
           {
            "colorbar": {
             "outlinewidth": 0,
             "ticks": ""
            },
            "colorscale": [
             [
              0,
              "#0d0887"
             ],
             [
              0.1111111111111111,
              "#46039f"
             ],
             [
              0.2222222222222222,
              "#7201a8"
             ],
             [
              0.3333333333333333,
              "#9c179e"
             ],
             [
              0.4444444444444444,
              "#bd3786"
             ],
             [
              0.5555555555555556,
              "#d8576b"
             ],
             [
              0.6666666666666666,
              "#ed7953"
             ],
             [
              0.7777777777777778,
              "#fb9f3a"
             ],
             [
              0.8888888888888888,
              "#fdca26"
             ],
             [
              1,
              "#f0f921"
             ]
            ],
            "type": "histogram2d"
           }
          ],
          "histogram2dcontour": [
           {
            "colorbar": {
             "outlinewidth": 0,
             "ticks": ""
            },
            "colorscale": [
             [
              0,
              "#0d0887"
             ],
             [
              0.1111111111111111,
              "#46039f"
             ],
             [
              0.2222222222222222,
              "#7201a8"
             ],
             [
              0.3333333333333333,
              "#9c179e"
             ],
             [
              0.4444444444444444,
              "#bd3786"
             ],
             [
              0.5555555555555556,
              "#d8576b"
             ],
             [
              0.6666666666666666,
              "#ed7953"
             ],
             [
              0.7777777777777778,
              "#fb9f3a"
             ],
             [
              0.8888888888888888,
              "#fdca26"
             ],
             [
              1,
              "#f0f921"
             ]
            ],
            "type": "histogram2dcontour"
           }
          ],
          "mesh3d": [
           {
            "colorbar": {
             "outlinewidth": 0,
             "ticks": ""
            },
            "type": "mesh3d"
           }
          ],
          "parcoords": [
           {
            "line": {
             "colorbar": {
              "outlinewidth": 0,
              "ticks": ""
             }
            },
            "type": "parcoords"
           }
          ],
          "pie": [
           {
            "automargin": true,
            "type": "pie"
           }
          ],
          "scatter": [
           {
            "marker": {
             "colorbar": {
              "outlinewidth": 0,
              "ticks": ""
             }
            },
            "type": "scatter"
           }
          ],
          "scatter3d": [
           {
            "line": {
             "colorbar": {
              "outlinewidth": 0,
              "ticks": ""
             }
            },
            "marker": {
             "colorbar": {
              "outlinewidth": 0,
              "ticks": ""
             }
            },
            "type": "scatter3d"
           }
          ],
          "scattercarpet": [
           {
            "marker": {
             "colorbar": {
              "outlinewidth": 0,
              "ticks": ""
             }
            },
            "type": "scattercarpet"
           }
          ],
          "scattergeo": [
           {
            "marker": {
             "colorbar": {
              "outlinewidth": 0,
              "ticks": ""
             }
            },
            "type": "scattergeo"
           }
          ],
          "scattergl": [
           {
            "marker": {
             "colorbar": {
              "outlinewidth": 0,
              "ticks": ""
             }
            },
            "type": "scattergl"
           }
          ],
          "scattermapbox": [
           {
            "marker": {
             "colorbar": {
              "outlinewidth": 0,
              "ticks": ""
             }
            },
            "type": "scattermapbox"
           }
          ],
          "scatterpolar": [
           {
            "marker": {
             "colorbar": {
              "outlinewidth": 0,
              "ticks": ""
             }
            },
            "type": "scatterpolar"
           }
          ],
          "scatterpolargl": [
           {
            "marker": {
             "colorbar": {
              "outlinewidth": 0,
              "ticks": ""
             }
            },
            "type": "scatterpolargl"
           }
          ],
          "scatterternary": [
           {
            "marker": {
             "colorbar": {
              "outlinewidth": 0,
              "ticks": ""
             }
            },
            "type": "scatterternary"
           }
          ],
          "surface": [
           {
            "colorbar": {
             "outlinewidth": 0,
             "ticks": ""
            },
            "colorscale": [
             [
              0,
              "#0d0887"
             ],
             [
              0.1111111111111111,
              "#46039f"
             ],
             [
              0.2222222222222222,
              "#7201a8"
             ],
             [
              0.3333333333333333,
              "#9c179e"
             ],
             [
              0.4444444444444444,
              "#bd3786"
             ],
             [
              0.5555555555555556,
              "#d8576b"
             ],
             [
              0.6666666666666666,
              "#ed7953"
             ],
             [
              0.7777777777777778,
              "#fb9f3a"
             ],
             [
              0.8888888888888888,
              "#fdca26"
             ],
             [
              1,
              "#f0f921"
             ]
            ],
            "type": "surface"
           }
          ],
          "table": [
           {
            "cells": {
             "fill": {
              "color": "#EBF0F8"
             },
             "line": {
              "color": "white"
             }
            },
            "header": {
             "fill": {
              "color": "#C8D4E3"
             },
             "line": {
              "color": "white"
             }
            },
            "type": "table"
           }
          ]
         },
         "layout": {
          "annotationdefaults": {
           "arrowcolor": "#2a3f5f",
           "arrowhead": 0,
           "arrowwidth": 1
          },
          "coloraxis": {
           "colorbar": {
            "outlinewidth": 0,
            "ticks": ""
           }
          },
          "colorscale": {
           "diverging": [
            [
             0,
             "#8e0152"
            ],
            [
             0.1,
             "#c51b7d"
            ],
            [
             0.2,
             "#de77ae"
            ],
            [
             0.3,
             "#f1b6da"
            ],
            [
             0.4,
             "#fde0ef"
            ],
            [
             0.5,
             "#f7f7f7"
            ],
            [
             0.6,
             "#e6f5d0"
            ],
            [
             0.7,
             "#b8e186"
            ],
            [
             0.8,
             "#7fbc41"
            ],
            [
             0.9,
             "#4d9221"
            ],
            [
             1,
             "#276419"
            ]
           ],
           "sequential": [
            [
             0,
             "#0d0887"
            ],
            [
             0.1111111111111111,
             "#46039f"
            ],
            [
             0.2222222222222222,
             "#7201a8"
            ],
            [
             0.3333333333333333,
             "#9c179e"
            ],
            [
             0.4444444444444444,
             "#bd3786"
            ],
            [
             0.5555555555555556,
             "#d8576b"
            ],
            [
             0.6666666666666666,
             "#ed7953"
            ],
            [
             0.7777777777777778,
             "#fb9f3a"
            ],
            [
             0.8888888888888888,
             "#fdca26"
            ],
            [
             1,
             "#f0f921"
            ]
           ],
           "sequentialminus": [
            [
             0,
             "#0d0887"
            ],
            [
             0.1111111111111111,
             "#46039f"
            ],
            [
             0.2222222222222222,
             "#7201a8"
            ],
            [
             0.3333333333333333,
             "#9c179e"
            ],
            [
             0.4444444444444444,
             "#bd3786"
            ],
            [
             0.5555555555555556,
             "#d8576b"
            ],
            [
             0.6666666666666666,
             "#ed7953"
            ],
            [
             0.7777777777777778,
             "#fb9f3a"
            ],
            [
             0.8888888888888888,
             "#fdca26"
            ],
            [
             1,
             "#f0f921"
            ]
           ]
          },
          "colorway": [
           "#636efa",
           "#EF553B",
           "#00cc96",
           "#ab63fa",
           "#FFA15A",
           "#19d3f3",
           "#FF6692",
           "#B6E880",
           "#FF97FF",
           "#FECB52"
          ],
          "font": {
           "color": "#2a3f5f"
          },
          "geo": {
           "bgcolor": "white",
           "lakecolor": "white",
           "landcolor": "#E5ECF6",
           "showlakes": true,
           "showland": true,
           "subunitcolor": "white"
          },
          "hoverlabel": {
           "align": "left"
          },
          "hovermode": "closest",
          "mapbox": {
           "style": "light"
          },
          "paper_bgcolor": "white",
          "plot_bgcolor": "#E5ECF6",
          "polar": {
           "angularaxis": {
            "gridcolor": "white",
            "linecolor": "white",
            "ticks": ""
           },
           "bgcolor": "#E5ECF6",
           "radialaxis": {
            "gridcolor": "white",
            "linecolor": "white",
            "ticks": ""
           }
          },
          "scene": {
           "xaxis": {
            "backgroundcolor": "#E5ECF6",
            "gridcolor": "white",
            "gridwidth": 2,
            "linecolor": "white",
            "showbackground": true,
            "ticks": "",
            "zerolinecolor": "white"
           },
           "yaxis": {
            "backgroundcolor": "#E5ECF6",
            "gridcolor": "white",
            "gridwidth": 2,
            "linecolor": "white",
            "showbackground": true,
            "ticks": "",
            "zerolinecolor": "white"
           },
           "zaxis": {
            "backgroundcolor": "#E5ECF6",
            "gridcolor": "white",
            "gridwidth": 2,
            "linecolor": "white",
            "showbackground": true,
            "ticks": "",
            "zerolinecolor": "white"
           }
          },
          "shapedefaults": {
           "line": {
            "color": "#2a3f5f"
           }
          },
          "ternary": {
           "aaxis": {
            "gridcolor": "white",
            "linecolor": "white",
            "ticks": ""
           },
           "baxis": {
            "gridcolor": "white",
            "linecolor": "white",
            "ticks": ""
           },
           "bgcolor": "#E5ECF6",
           "caxis": {
            "gridcolor": "white",
            "linecolor": "white",
            "ticks": ""
           }
          },
          "title": {
           "x": 0.05
          },
          "xaxis": {
           "automargin": true,
           "gridcolor": "white",
           "linecolor": "white",
           "ticks": "",
           "title": {
            "standoff": 15
           },
           "zerolinecolor": "white",
           "zerolinewidth": 2
          },
          "yaxis": {
           "automargin": true,
           "gridcolor": "white",
           "linecolor": "white",
           "ticks": "",
           "title": {
            "standoff": 15
           },
           "zerolinecolor": "white",
           "zerolinewidth": 2
          }
         }
        },
        "xaxis": {
         "categoryarray": [
          "d",
          "a",
          "c",
          "b"
         ],
         "categoryorder": "array"
        }
       }
      },
      "text/html": [
       "<div>\n",
       "        \n",
       "        \n",
       "            <div id=\"1d3fa557-356c-43bb-8b2c-6af4c8e68b8e\" class=\"plotly-graph-div\" style=\"height:525px; width:100%;\"></div>\n",
       "            <script type=\"text/javascript\">\n",
       "                require([\"plotly\"], function(Plotly) {\n",
       "                    window.PLOTLYENV=window.PLOTLYENV || {};\n",
       "                    \n",
       "                if (document.getElementById(\"1d3fa557-356c-43bb-8b2c-6af4c8e68b8e\")) {\n",
       "                    Plotly.newPlot(\n",
       "                        '1d3fa557-356c-43bb-8b2c-6af4c8e68b8e',\n",
       "                        [{\"name\": \"Montreal\", \"type\": \"bar\", \"x\": [\"b\", \"a\", \"c\", \"d\"], \"y\": [2, 5, 1, 9]}, {\"name\": \"Ottawa\", \"type\": \"bar\", \"x\": [\"b\", \"a\", \"c\", \"d\"], \"y\": [1, 4, 9, 16]}, {\"name\": \"Toronto\", \"type\": \"bar\", \"x\": [\"b\", \"a\", \"c\", \"d\"], \"y\": [6, 8, 4.5, 8]}],\n",
       "                        {\"barmode\": \"stack\", \"template\": {\"data\": {\"bar\": [{\"error_x\": {\"color\": \"#2a3f5f\"}, \"error_y\": {\"color\": \"#2a3f5f\"}, \"marker\": {\"line\": {\"color\": \"#E5ECF6\", \"width\": 0.5}}, \"type\": \"bar\"}], \"barpolar\": [{\"marker\": {\"line\": {\"color\": \"#E5ECF6\", \"width\": 0.5}}, \"type\": \"barpolar\"}], \"carpet\": [{\"aaxis\": {\"endlinecolor\": \"#2a3f5f\", \"gridcolor\": \"white\", \"linecolor\": \"white\", \"minorgridcolor\": \"white\", \"startlinecolor\": \"#2a3f5f\"}, \"baxis\": {\"endlinecolor\": \"#2a3f5f\", \"gridcolor\": \"white\", \"linecolor\": \"white\", \"minorgridcolor\": \"white\", \"startlinecolor\": \"#2a3f5f\"}, \"type\": \"carpet\"}], \"choropleth\": [{\"colorbar\": {\"outlinewidth\": 0, \"ticks\": \"\"}, \"type\": \"choropleth\"}], \"contour\": [{\"colorbar\": {\"outlinewidth\": 0, \"ticks\": \"\"}, \"colorscale\": [[0.0, \"#0d0887\"], [0.1111111111111111, \"#46039f\"], [0.2222222222222222, \"#7201a8\"], [0.3333333333333333, \"#9c179e\"], [0.4444444444444444, \"#bd3786\"], [0.5555555555555556, \"#d8576b\"], [0.6666666666666666, \"#ed7953\"], [0.7777777777777778, \"#fb9f3a\"], [0.8888888888888888, \"#fdca26\"], [1.0, \"#f0f921\"]], \"type\": \"contour\"}], \"contourcarpet\": [{\"colorbar\": {\"outlinewidth\": 0, \"ticks\": \"\"}, \"type\": \"contourcarpet\"}], \"heatmap\": [{\"colorbar\": {\"outlinewidth\": 0, \"ticks\": \"\"}, \"colorscale\": [[0.0, \"#0d0887\"], [0.1111111111111111, \"#46039f\"], [0.2222222222222222, \"#7201a8\"], [0.3333333333333333, \"#9c179e\"], [0.4444444444444444, \"#bd3786\"], [0.5555555555555556, \"#d8576b\"], [0.6666666666666666, \"#ed7953\"], [0.7777777777777778, \"#fb9f3a\"], [0.8888888888888888, \"#fdca26\"], [1.0, \"#f0f921\"]], \"type\": \"heatmap\"}], \"heatmapgl\": [{\"colorbar\": {\"outlinewidth\": 0, \"ticks\": \"\"}, \"colorscale\": [[0.0, \"#0d0887\"], [0.1111111111111111, \"#46039f\"], [0.2222222222222222, \"#7201a8\"], [0.3333333333333333, \"#9c179e\"], [0.4444444444444444, \"#bd3786\"], [0.5555555555555556, \"#d8576b\"], [0.6666666666666666, \"#ed7953\"], [0.7777777777777778, \"#fb9f3a\"], [0.8888888888888888, \"#fdca26\"], [1.0, \"#f0f921\"]], \"type\": \"heatmapgl\"}], \"histogram\": [{\"marker\": {\"colorbar\": {\"outlinewidth\": 0, \"ticks\": \"\"}}, \"type\": \"histogram\"}], \"histogram2d\": [{\"colorbar\": {\"outlinewidth\": 0, \"ticks\": \"\"}, \"colorscale\": [[0.0, \"#0d0887\"], [0.1111111111111111, \"#46039f\"], [0.2222222222222222, \"#7201a8\"], [0.3333333333333333, \"#9c179e\"], [0.4444444444444444, \"#bd3786\"], [0.5555555555555556, \"#d8576b\"], [0.6666666666666666, \"#ed7953\"], [0.7777777777777778, \"#fb9f3a\"], [0.8888888888888888, \"#fdca26\"], [1.0, \"#f0f921\"]], \"type\": \"histogram2d\"}], \"histogram2dcontour\": [{\"colorbar\": {\"outlinewidth\": 0, \"ticks\": \"\"}, \"colorscale\": [[0.0, \"#0d0887\"], [0.1111111111111111, \"#46039f\"], [0.2222222222222222, \"#7201a8\"], [0.3333333333333333, \"#9c179e\"], [0.4444444444444444, \"#bd3786\"], [0.5555555555555556, \"#d8576b\"], [0.6666666666666666, \"#ed7953\"], [0.7777777777777778, \"#fb9f3a\"], [0.8888888888888888, \"#fdca26\"], [1.0, \"#f0f921\"]], \"type\": \"histogram2dcontour\"}], \"mesh3d\": [{\"colorbar\": {\"outlinewidth\": 0, \"ticks\": \"\"}, \"type\": \"mesh3d\"}], \"parcoords\": [{\"line\": {\"colorbar\": {\"outlinewidth\": 0, \"ticks\": \"\"}}, \"type\": \"parcoords\"}], \"pie\": [{\"automargin\": true, \"type\": \"pie\"}], \"scatter\": [{\"marker\": {\"colorbar\": {\"outlinewidth\": 0, \"ticks\": \"\"}}, \"type\": \"scatter\"}], \"scatter3d\": [{\"line\": {\"colorbar\": {\"outlinewidth\": 0, \"ticks\": \"\"}}, \"marker\": {\"colorbar\": {\"outlinewidth\": 0, \"ticks\": \"\"}}, \"type\": \"scatter3d\"}], \"scattercarpet\": [{\"marker\": {\"colorbar\": {\"outlinewidth\": 0, \"ticks\": \"\"}}, \"type\": \"scattercarpet\"}], \"scattergeo\": [{\"marker\": {\"colorbar\": {\"outlinewidth\": 0, \"ticks\": \"\"}}, \"type\": \"scattergeo\"}], \"scattergl\": [{\"marker\": {\"colorbar\": {\"outlinewidth\": 0, \"ticks\": \"\"}}, \"type\": \"scattergl\"}], \"scattermapbox\": [{\"marker\": {\"colorbar\": {\"outlinewidth\": 0, \"ticks\": \"\"}}, \"type\": \"scattermapbox\"}], \"scatterpolar\": [{\"marker\": {\"colorbar\": {\"outlinewidth\": 0, \"ticks\": \"\"}}, \"type\": \"scatterpolar\"}], \"scatterpolargl\": [{\"marker\": {\"colorbar\": {\"outlinewidth\": 0, \"ticks\": \"\"}}, \"type\": \"scatterpolargl\"}], \"scatterternary\": [{\"marker\": {\"colorbar\": {\"outlinewidth\": 0, \"ticks\": \"\"}}, \"type\": \"scatterternary\"}], \"surface\": [{\"colorbar\": {\"outlinewidth\": 0, \"ticks\": \"\"}, \"colorscale\": [[0.0, \"#0d0887\"], [0.1111111111111111, \"#46039f\"], [0.2222222222222222, \"#7201a8\"], [0.3333333333333333, \"#9c179e\"], [0.4444444444444444, \"#bd3786\"], [0.5555555555555556, \"#d8576b\"], [0.6666666666666666, \"#ed7953\"], [0.7777777777777778, \"#fb9f3a\"], [0.8888888888888888, \"#fdca26\"], [1.0, \"#f0f921\"]], \"type\": \"surface\"}], \"table\": [{\"cells\": {\"fill\": {\"color\": \"#EBF0F8\"}, \"line\": {\"color\": \"white\"}}, \"header\": {\"fill\": {\"color\": \"#C8D4E3\"}, \"line\": {\"color\": \"white\"}}, \"type\": \"table\"}]}, \"layout\": {\"annotationdefaults\": {\"arrowcolor\": \"#2a3f5f\", \"arrowhead\": 0, \"arrowwidth\": 1}, \"coloraxis\": {\"colorbar\": {\"outlinewidth\": 0, \"ticks\": \"\"}}, \"colorscale\": {\"diverging\": [[0, \"#8e0152\"], [0.1, \"#c51b7d\"], [0.2, \"#de77ae\"], [0.3, \"#f1b6da\"], [0.4, \"#fde0ef\"], [0.5, \"#f7f7f7\"], [0.6, \"#e6f5d0\"], [0.7, \"#b8e186\"], [0.8, \"#7fbc41\"], [0.9, \"#4d9221\"], [1, \"#276419\"]], \"sequential\": [[0.0, \"#0d0887\"], [0.1111111111111111, \"#46039f\"], [0.2222222222222222, \"#7201a8\"], [0.3333333333333333, \"#9c179e\"], [0.4444444444444444, \"#bd3786\"], [0.5555555555555556, \"#d8576b\"], [0.6666666666666666, \"#ed7953\"], [0.7777777777777778, \"#fb9f3a\"], [0.8888888888888888, \"#fdca26\"], [1.0, \"#f0f921\"]], \"sequentialminus\": [[0.0, \"#0d0887\"], [0.1111111111111111, \"#46039f\"], [0.2222222222222222, \"#7201a8\"], [0.3333333333333333, \"#9c179e\"], [0.4444444444444444, \"#bd3786\"], [0.5555555555555556, \"#d8576b\"], [0.6666666666666666, \"#ed7953\"], [0.7777777777777778, \"#fb9f3a\"], [0.8888888888888888, \"#fdca26\"], [1.0, \"#f0f921\"]]}, \"colorway\": [\"#636efa\", \"#EF553B\", \"#00cc96\", \"#ab63fa\", \"#FFA15A\", \"#19d3f3\", \"#FF6692\", \"#B6E880\", \"#FF97FF\", \"#FECB52\"], \"font\": {\"color\": \"#2a3f5f\"}, \"geo\": {\"bgcolor\": \"white\", \"lakecolor\": \"white\", \"landcolor\": \"#E5ECF6\", \"showlakes\": true, \"showland\": true, \"subunitcolor\": \"white\"}, \"hoverlabel\": {\"align\": \"left\"}, \"hovermode\": \"closest\", \"mapbox\": {\"style\": \"light\"}, \"paper_bgcolor\": \"white\", \"plot_bgcolor\": \"#E5ECF6\", \"polar\": {\"angularaxis\": {\"gridcolor\": \"white\", \"linecolor\": \"white\", \"ticks\": \"\"}, \"bgcolor\": \"#E5ECF6\", \"radialaxis\": {\"gridcolor\": \"white\", \"linecolor\": \"white\", \"ticks\": \"\"}}, \"scene\": {\"xaxis\": {\"backgroundcolor\": \"#E5ECF6\", \"gridcolor\": \"white\", \"gridwidth\": 2, \"linecolor\": \"white\", \"showbackground\": true, \"ticks\": \"\", \"zerolinecolor\": \"white\"}, \"yaxis\": {\"backgroundcolor\": \"#E5ECF6\", \"gridcolor\": \"white\", \"gridwidth\": 2, \"linecolor\": \"white\", \"showbackground\": true, \"ticks\": \"\", \"zerolinecolor\": \"white\"}, \"zaxis\": {\"backgroundcolor\": \"#E5ECF6\", \"gridcolor\": \"white\", \"gridwidth\": 2, \"linecolor\": \"white\", \"showbackground\": true, \"ticks\": \"\", \"zerolinecolor\": \"white\"}}, \"shapedefaults\": {\"line\": {\"color\": \"#2a3f5f\"}}, \"ternary\": {\"aaxis\": {\"gridcolor\": \"white\", \"linecolor\": \"white\", \"ticks\": \"\"}, \"baxis\": {\"gridcolor\": \"white\", \"linecolor\": \"white\", \"ticks\": \"\"}, \"bgcolor\": \"#E5ECF6\", \"caxis\": {\"gridcolor\": \"white\", \"linecolor\": \"white\", \"ticks\": \"\"}}, \"title\": {\"x\": 0.05}, \"xaxis\": {\"automargin\": true, \"gridcolor\": \"white\", \"linecolor\": \"white\", \"ticks\": \"\", \"title\": {\"standoff\": 15}, \"zerolinecolor\": \"white\", \"zerolinewidth\": 2}, \"yaxis\": {\"automargin\": true, \"gridcolor\": \"white\", \"linecolor\": \"white\", \"ticks\": \"\", \"title\": {\"standoff\": 15}, \"zerolinecolor\": \"white\", \"zerolinewidth\": 2}}}, \"xaxis\": {\"categoryarray\": [\"d\", \"a\", \"c\", \"b\"], \"categoryorder\": \"array\"}},\n",
       "                        {\"responsive\": true}\n",
       "                    ).then(function(){\n",
       "                            \n",
       "var gd = document.getElementById('1d3fa557-356c-43bb-8b2c-6af4c8e68b8e');\n",
       "var x = new MutationObserver(function (mutations, observer) {{\n",
       "        var display = window.getComputedStyle(gd).display;\n",
       "        if (!display || display === 'none') {{\n",
       "            console.log([gd, 'removed!']);\n",
       "            Plotly.purge(gd);\n",
       "            observer.disconnect();\n",
       "        }}\n",
       "}});\n",
       "\n",
       "// Listen for the removal of the full notebook cells\n",
       "var notebookContainer = gd.closest('#notebook-container');\n",
       "if (notebookContainer) {{\n",
       "    x.observe(notebookContainer, {childList: true});\n",
       "}}\n",
       "\n",
       "// Listen for the clearing of the current output cell\n",
       "var outputEl = gd.closest('.output');\n",
       "if (outputEl) {{\n",
       "    x.observe(outputEl, {childList: true});\n",
       "}}\n",
       "\n",
       "                        })\n",
       "                };\n",
       "                });\n",
       "            </script>\n",
       "        </div>"
      ]
     },
     "metadata": {},
     "output_type": "display_data"
    }
   ],
   "source": [
    "import plotly.graph_objects as go\n",
    "\n",
    "x=['b', 'a', 'c', 'd']\n",
    "fig = go.Figure(go.Bar(x=x, y=[2,5,1,9], name='Montreal'))\n",
    "fig.add_trace(go.Bar(x=x, y=[1, 4, 9, 16], name='Ottawa'))\n",
    "fig.add_trace(go.Bar(x=x, y=[6, 8, 4.5, 8], name='Toronto'))\n",
    "\n",
    "fig.update_layout(barmode='stack', xaxis={'categoryorder':'array', 'categoryarray':['d','a','c','b']})\n",
    "fig.show()"
   ]
  },
  {
   "cell_type": "code",
   "execution_count": null,
   "metadata": {},
   "outputs": [],
   "source": []
  },
  {
   "cell_type": "code",
   "execution_count": 57,
   "metadata": {},
   "outputs": [
    {
     "data": {
      "application/vnd.plotly.v1+json": {
       "config": {
        "plotlyServerURL": "https://plot.ly"
       },
       "data": [
        {
         "name": "GT",
         "type": "bar",
         "x": [
          "GT",
          "EKFA",
          "EKFT",
          "UKFA",
          "UKFT",
          "UKFTA",
          "CNN"
         ],
         "y": [
          2,
          5,
          1,
          9,
          5,
          1,
          9
         ]
        },
        {
         "name": "Ottawa",
         "type": "bar",
         "x": [
          "GT",
          "EKFA",
          "EKFT",
          "UKFA",
          "UKFT",
          "UKFTA",
          "CNN"
         ],
         "y": [
          1,
          4,
          9,
          16
         ]
        },
        {
         "name": "EKFA",
         "type": "bar",
         "x": [
          "GT",
          "EKFA",
          "EKFT",
          "UKFA",
          "UKFT",
          "UKFTA",
          "CNN"
         ],
         "y": [
          6,
          8,
          4.5,
          8
         ]
        },
        {
         "name": "EKFT",
         "type": "bar",
         "x": [
          "GT",
          "EKFA",
          "EKFT",
          "UKFA",
          "UKFT",
          "UKFTA",
          "CNN"
         ],
         "y": [
          1,
          4,
          9,
          16
         ]
        },
        {
         "name": "UKFA",
         "type": "bar",
         "x": [
          "GT",
          "EKFA",
          "EKFT",
          "UKFA",
          "UKFT",
          "UKFTA",
          "CNN"
         ],
         "y": [
          6,
          8,
          4.5,
          8
         ]
        },
        {
         "name": "UKFT",
         "type": "bar",
         "x": [
          "GT",
          "EKFA",
          "EKFT",
          "UKFA",
          "UKFT",
          "UKFTA",
          "CNN"
         ],
         "y": [
          6,
          8,
          4.5,
          8
         ]
        },
        {
         "name": "UKFTA",
         "type": "bar",
         "x": [
          "GT",
          "EKFA",
          "EKFT",
          "UKFA",
          "UKFT",
          "UKFTA",
          "CNN"
         ],
         "y": [
          6,
          8,
          4.5,
          8
         ]
        },
        {
         "name": "CNN",
         "type": "bar",
         "x": [
          "GT",
          "EKFA",
          "EKFT",
          "UKFA",
          "UKFT",
          "UKFTA",
          "CNN"
         ],
         "y": [
          6,
          8,
          4.5,
          8
         ]
        }
       ],
       "layout": {
        "barmode": "stack",
        "template": {
         "data": {
          "bar": [
           {
            "error_x": {
             "color": "#2a3f5f"
            },
            "error_y": {
             "color": "#2a3f5f"
            },
            "marker": {
             "line": {
              "color": "#E5ECF6",
              "width": 0.5
             }
            },
            "type": "bar"
           }
          ],
          "barpolar": [
           {
            "marker": {
             "line": {
              "color": "#E5ECF6",
              "width": 0.5
             }
            },
            "type": "barpolar"
           }
          ],
          "carpet": [
           {
            "aaxis": {
             "endlinecolor": "#2a3f5f",
             "gridcolor": "white",
             "linecolor": "white",
             "minorgridcolor": "white",
             "startlinecolor": "#2a3f5f"
            },
            "baxis": {
             "endlinecolor": "#2a3f5f",
             "gridcolor": "white",
             "linecolor": "white",
             "minorgridcolor": "white",
             "startlinecolor": "#2a3f5f"
            },
            "type": "carpet"
           }
          ],
          "choropleth": [
           {
            "colorbar": {
             "outlinewidth": 0,
             "ticks": ""
            },
            "type": "choropleth"
           }
          ],
          "contour": [
           {
            "colorbar": {
             "outlinewidth": 0,
             "ticks": ""
            },
            "colorscale": [
             [
              0,
              "#0d0887"
             ],
             [
              0.1111111111111111,
              "#46039f"
             ],
             [
              0.2222222222222222,
              "#7201a8"
             ],
             [
              0.3333333333333333,
              "#9c179e"
             ],
             [
              0.4444444444444444,
              "#bd3786"
             ],
             [
              0.5555555555555556,
              "#d8576b"
             ],
             [
              0.6666666666666666,
              "#ed7953"
             ],
             [
              0.7777777777777778,
              "#fb9f3a"
             ],
             [
              0.8888888888888888,
              "#fdca26"
             ],
             [
              1,
              "#f0f921"
             ]
            ],
            "type": "contour"
           }
          ],
          "contourcarpet": [
           {
            "colorbar": {
             "outlinewidth": 0,
             "ticks": ""
            },
            "type": "contourcarpet"
           }
          ],
          "heatmap": [
           {
            "colorbar": {
             "outlinewidth": 0,
             "ticks": ""
            },
            "colorscale": [
             [
              0,
              "#0d0887"
             ],
             [
              0.1111111111111111,
              "#46039f"
             ],
             [
              0.2222222222222222,
              "#7201a8"
             ],
             [
              0.3333333333333333,
              "#9c179e"
             ],
             [
              0.4444444444444444,
              "#bd3786"
             ],
             [
              0.5555555555555556,
              "#d8576b"
             ],
             [
              0.6666666666666666,
              "#ed7953"
             ],
             [
              0.7777777777777778,
              "#fb9f3a"
             ],
             [
              0.8888888888888888,
              "#fdca26"
             ],
             [
              1,
              "#f0f921"
             ]
            ],
            "type": "heatmap"
           }
          ],
          "heatmapgl": [
           {
            "colorbar": {
             "outlinewidth": 0,
             "ticks": ""
            },
            "colorscale": [
             [
              0,
              "#0d0887"
             ],
             [
              0.1111111111111111,
              "#46039f"
             ],
             [
              0.2222222222222222,
              "#7201a8"
             ],
             [
              0.3333333333333333,
              "#9c179e"
             ],
             [
              0.4444444444444444,
              "#bd3786"
             ],
             [
              0.5555555555555556,
              "#d8576b"
             ],
             [
              0.6666666666666666,
              "#ed7953"
             ],
             [
              0.7777777777777778,
              "#fb9f3a"
             ],
             [
              0.8888888888888888,
              "#fdca26"
             ],
             [
              1,
              "#f0f921"
             ]
            ],
            "type": "heatmapgl"
           }
          ],
          "histogram": [
           {
            "marker": {
             "colorbar": {
              "outlinewidth": 0,
              "ticks": ""
             }
            },
            "type": "histogram"
           }
          ],
          "histogram2d": [
           {
            "colorbar": {
             "outlinewidth": 0,
             "ticks": ""
            },
            "colorscale": [
             [
              0,
              "#0d0887"
             ],
             [
              0.1111111111111111,
              "#46039f"
             ],
             [
              0.2222222222222222,
              "#7201a8"
             ],
             [
              0.3333333333333333,
              "#9c179e"
             ],
             [
              0.4444444444444444,
              "#bd3786"
             ],
             [
              0.5555555555555556,
              "#d8576b"
             ],
             [
              0.6666666666666666,
              "#ed7953"
             ],
             [
              0.7777777777777778,
              "#fb9f3a"
             ],
             [
              0.8888888888888888,
              "#fdca26"
             ],
             [
              1,
              "#f0f921"
             ]
            ],
            "type": "histogram2d"
           }
          ],
          "histogram2dcontour": [
           {
            "colorbar": {
             "outlinewidth": 0,
             "ticks": ""
            },
            "colorscale": [
             [
              0,
              "#0d0887"
             ],
             [
              0.1111111111111111,
              "#46039f"
             ],
             [
              0.2222222222222222,
              "#7201a8"
             ],
             [
              0.3333333333333333,
              "#9c179e"
             ],
             [
              0.4444444444444444,
              "#bd3786"
             ],
             [
              0.5555555555555556,
              "#d8576b"
             ],
             [
              0.6666666666666666,
              "#ed7953"
             ],
             [
              0.7777777777777778,
              "#fb9f3a"
             ],
             [
              0.8888888888888888,
              "#fdca26"
             ],
             [
              1,
              "#f0f921"
             ]
            ],
            "type": "histogram2dcontour"
           }
          ],
          "mesh3d": [
           {
            "colorbar": {
             "outlinewidth": 0,
             "ticks": ""
            },
            "type": "mesh3d"
           }
          ],
          "parcoords": [
           {
            "line": {
             "colorbar": {
              "outlinewidth": 0,
              "ticks": ""
             }
            },
            "type": "parcoords"
           }
          ],
          "pie": [
           {
            "automargin": true,
            "type": "pie"
           }
          ],
          "scatter": [
           {
            "marker": {
             "colorbar": {
              "outlinewidth": 0,
              "ticks": ""
             }
            },
            "type": "scatter"
           }
          ],
          "scatter3d": [
           {
            "line": {
             "colorbar": {
              "outlinewidth": 0,
              "ticks": ""
             }
            },
            "marker": {
             "colorbar": {
              "outlinewidth": 0,
              "ticks": ""
             }
            },
            "type": "scatter3d"
           }
          ],
          "scattercarpet": [
           {
            "marker": {
             "colorbar": {
              "outlinewidth": 0,
              "ticks": ""
             }
            },
            "type": "scattercarpet"
           }
          ],
          "scattergeo": [
           {
            "marker": {
             "colorbar": {
              "outlinewidth": 0,
              "ticks": ""
             }
            },
            "type": "scattergeo"
           }
          ],
          "scattergl": [
           {
            "marker": {
             "colorbar": {
              "outlinewidth": 0,
              "ticks": ""
             }
            },
            "type": "scattergl"
           }
          ],
          "scattermapbox": [
           {
            "marker": {
             "colorbar": {
              "outlinewidth": 0,
              "ticks": ""
             }
            },
            "type": "scattermapbox"
           }
          ],
          "scatterpolar": [
           {
            "marker": {
             "colorbar": {
              "outlinewidth": 0,
              "ticks": ""
             }
            },
            "type": "scatterpolar"
           }
          ],
          "scatterpolargl": [
           {
            "marker": {
             "colorbar": {
              "outlinewidth": 0,
              "ticks": ""
             }
            },
            "type": "scatterpolargl"
           }
          ],
          "scatterternary": [
           {
            "marker": {
             "colorbar": {
              "outlinewidth": 0,
              "ticks": ""
             }
            },
            "type": "scatterternary"
           }
          ],
          "surface": [
           {
            "colorbar": {
             "outlinewidth": 0,
             "ticks": ""
            },
            "colorscale": [
             [
              0,
              "#0d0887"
             ],
             [
              0.1111111111111111,
              "#46039f"
             ],
             [
              0.2222222222222222,
              "#7201a8"
             ],
             [
              0.3333333333333333,
              "#9c179e"
             ],
             [
              0.4444444444444444,
              "#bd3786"
             ],
             [
              0.5555555555555556,
              "#d8576b"
             ],
             [
              0.6666666666666666,
              "#ed7953"
             ],
             [
              0.7777777777777778,
              "#fb9f3a"
             ],
             [
              0.8888888888888888,
              "#fdca26"
             ],
             [
              1,
              "#f0f921"
             ]
            ],
            "type": "surface"
           }
          ],
          "table": [
           {
            "cells": {
             "fill": {
              "color": "#EBF0F8"
             },
             "line": {
              "color": "white"
             }
            },
            "header": {
             "fill": {
              "color": "#C8D4E3"
             },
             "line": {
              "color": "white"
             }
            },
            "type": "table"
           }
          ]
         },
         "layout": {
          "annotationdefaults": {
           "arrowcolor": "#2a3f5f",
           "arrowhead": 0,
           "arrowwidth": 1
          },
          "coloraxis": {
           "colorbar": {
            "outlinewidth": 0,
            "ticks": ""
           }
          },
          "colorscale": {
           "diverging": [
            [
             0,
             "#8e0152"
            ],
            [
             0.1,
             "#c51b7d"
            ],
            [
             0.2,
             "#de77ae"
            ],
            [
             0.3,
             "#f1b6da"
            ],
            [
             0.4,
             "#fde0ef"
            ],
            [
             0.5,
             "#f7f7f7"
            ],
            [
             0.6,
             "#e6f5d0"
            ],
            [
             0.7,
             "#b8e186"
            ],
            [
             0.8,
             "#7fbc41"
            ],
            [
             0.9,
             "#4d9221"
            ],
            [
             1,
             "#276419"
            ]
           ],
           "sequential": [
            [
             0,
             "#0d0887"
            ],
            [
             0.1111111111111111,
             "#46039f"
            ],
            [
             0.2222222222222222,
             "#7201a8"
            ],
            [
             0.3333333333333333,
             "#9c179e"
            ],
            [
             0.4444444444444444,
             "#bd3786"
            ],
            [
             0.5555555555555556,
             "#d8576b"
            ],
            [
             0.6666666666666666,
             "#ed7953"
            ],
            [
             0.7777777777777778,
             "#fb9f3a"
            ],
            [
             0.8888888888888888,
             "#fdca26"
            ],
            [
             1,
             "#f0f921"
            ]
           ],
           "sequentialminus": [
            [
             0,
             "#0d0887"
            ],
            [
             0.1111111111111111,
             "#46039f"
            ],
            [
             0.2222222222222222,
             "#7201a8"
            ],
            [
             0.3333333333333333,
             "#9c179e"
            ],
            [
             0.4444444444444444,
             "#bd3786"
            ],
            [
             0.5555555555555556,
             "#d8576b"
            ],
            [
             0.6666666666666666,
             "#ed7953"
            ],
            [
             0.7777777777777778,
             "#fb9f3a"
            ],
            [
             0.8888888888888888,
             "#fdca26"
            ],
            [
             1,
             "#f0f921"
            ]
           ]
          },
          "colorway": [
           "#636efa",
           "#EF553B",
           "#00cc96",
           "#ab63fa",
           "#FFA15A",
           "#19d3f3",
           "#FF6692",
           "#B6E880",
           "#FF97FF",
           "#FECB52"
          ],
          "font": {
           "color": "#2a3f5f"
          },
          "geo": {
           "bgcolor": "white",
           "lakecolor": "white",
           "landcolor": "#E5ECF6",
           "showlakes": true,
           "showland": true,
           "subunitcolor": "white"
          },
          "hoverlabel": {
           "align": "left"
          },
          "hovermode": "closest",
          "mapbox": {
           "style": "light"
          },
          "paper_bgcolor": "white",
          "plot_bgcolor": "#E5ECF6",
          "polar": {
           "angularaxis": {
            "gridcolor": "white",
            "linecolor": "white",
            "ticks": ""
           },
           "bgcolor": "#E5ECF6",
           "radialaxis": {
            "gridcolor": "white",
            "linecolor": "white",
            "ticks": ""
           }
          },
          "scene": {
           "xaxis": {
            "backgroundcolor": "#E5ECF6",
            "gridcolor": "white",
            "gridwidth": 2,
            "linecolor": "white",
            "showbackground": true,
            "ticks": "",
            "zerolinecolor": "white"
           },
           "yaxis": {
            "backgroundcolor": "#E5ECF6",
            "gridcolor": "white",
            "gridwidth": 2,
            "linecolor": "white",
            "showbackground": true,
            "ticks": "",
            "zerolinecolor": "white"
           },
           "zaxis": {
            "backgroundcolor": "#E5ECF6",
            "gridcolor": "white",
            "gridwidth": 2,
            "linecolor": "white",
            "showbackground": true,
            "ticks": "",
            "zerolinecolor": "white"
           }
          },
          "shapedefaults": {
           "line": {
            "color": "#2a3f5f"
           }
          },
          "ternary": {
           "aaxis": {
            "gridcolor": "white",
            "linecolor": "white",
            "ticks": ""
           },
           "baxis": {
            "gridcolor": "white",
            "linecolor": "white",
            "ticks": ""
           },
           "bgcolor": "#E5ECF6",
           "caxis": {
            "gridcolor": "white",
            "linecolor": "white",
            "ticks": ""
           }
          },
          "title": {
           "x": 0.05
          },
          "xaxis": {
           "automargin": true,
           "gridcolor": "white",
           "linecolor": "white",
           "ticks": "",
           "title": {
            "standoff": 15
           },
           "zerolinecolor": "white",
           "zerolinewidth": 2
          },
          "yaxis": {
           "automargin": true,
           "gridcolor": "white",
           "linecolor": "white",
           "ticks": "",
           "title": {
            "standoff": 15
           },
           "zerolinecolor": "white",
           "zerolinewidth": 2
          }
         }
        },
        "xaxis": {
         "categoryorder": "category ascending"
        }
       }
      },
      "text/html": [
       "<div>\n",
       "        \n",
       "        \n",
       "            <div id=\"05d2924e-9620-437b-bdee-145b238948cd\" class=\"plotly-graph-div\" style=\"height:525px; width:100%;\"></div>\n",
       "            <script type=\"text/javascript\">\n",
       "                require([\"plotly\"], function(Plotly) {\n",
       "                    window.PLOTLYENV=window.PLOTLYENV || {};\n",
       "                    \n",
       "                if (document.getElementById(\"05d2924e-9620-437b-bdee-145b238948cd\")) {\n",
       "                    Plotly.newPlot(\n",
       "                        '05d2924e-9620-437b-bdee-145b238948cd',\n",
       "                        [{\"name\": \"GT\", \"type\": \"bar\", \"x\": [\"GT\", \"EKFA\", \"EKFT\", \"UKFA\", \"UKFT\", \"UKFTA\", \"CNN\"], \"y\": [2, 5, 1, 9, 5, 1, 9]}, {\"name\": \"Ottawa\", \"type\": \"bar\", \"x\": [\"GT\", \"EKFA\", \"EKFT\", \"UKFA\", \"UKFT\", \"UKFTA\", \"CNN\"], \"y\": [1, 4, 9, 16]}, {\"name\": \"EKFA\", \"type\": \"bar\", \"x\": [\"GT\", \"EKFA\", \"EKFT\", \"UKFA\", \"UKFT\", \"UKFTA\", \"CNN\"], \"y\": [6, 8, 4.5, 8]}, {\"name\": \"EKFT\", \"type\": \"bar\", \"x\": [\"GT\", \"EKFA\", \"EKFT\", \"UKFA\", \"UKFT\", \"UKFTA\", \"CNN\"], \"y\": [1, 4, 9, 16]}, {\"name\": \"UKFA\", \"type\": \"bar\", \"x\": [\"GT\", \"EKFA\", \"EKFT\", \"UKFA\", \"UKFT\", \"UKFTA\", \"CNN\"], \"y\": [6, 8, 4.5, 8]}, {\"name\": \"UKFT\", \"type\": \"bar\", \"x\": [\"GT\", \"EKFA\", \"EKFT\", \"UKFA\", \"UKFT\", \"UKFTA\", \"CNN\"], \"y\": [6, 8, 4.5, 8]}, {\"name\": \"UKFTA\", \"type\": \"bar\", \"x\": [\"GT\", \"EKFA\", \"EKFT\", \"UKFA\", \"UKFT\", \"UKFTA\", \"CNN\"], \"y\": [6, 8, 4.5, 8]}, {\"name\": \"CNN\", \"type\": \"bar\", \"x\": [\"GT\", \"EKFA\", \"EKFT\", \"UKFA\", \"UKFT\", \"UKFTA\", \"CNN\"], \"y\": [6, 8, 4.5, 8]}],\n",
       "                        {\"barmode\": \"stack\", \"template\": {\"data\": {\"bar\": [{\"error_x\": {\"color\": \"#2a3f5f\"}, \"error_y\": {\"color\": \"#2a3f5f\"}, \"marker\": {\"line\": {\"color\": \"#E5ECF6\", \"width\": 0.5}}, \"type\": \"bar\"}], \"barpolar\": [{\"marker\": {\"line\": {\"color\": \"#E5ECF6\", \"width\": 0.5}}, \"type\": \"barpolar\"}], \"carpet\": [{\"aaxis\": {\"endlinecolor\": \"#2a3f5f\", \"gridcolor\": \"white\", \"linecolor\": \"white\", \"minorgridcolor\": \"white\", \"startlinecolor\": \"#2a3f5f\"}, \"baxis\": {\"endlinecolor\": \"#2a3f5f\", \"gridcolor\": \"white\", \"linecolor\": \"white\", \"minorgridcolor\": \"white\", \"startlinecolor\": \"#2a3f5f\"}, \"type\": \"carpet\"}], \"choropleth\": [{\"colorbar\": {\"outlinewidth\": 0, \"ticks\": \"\"}, \"type\": \"choropleth\"}], \"contour\": [{\"colorbar\": {\"outlinewidth\": 0, \"ticks\": \"\"}, \"colorscale\": [[0.0, \"#0d0887\"], [0.1111111111111111, \"#46039f\"], [0.2222222222222222, \"#7201a8\"], [0.3333333333333333, \"#9c179e\"], [0.4444444444444444, \"#bd3786\"], [0.5555555555555556, \"#d8576b\"], [0.6666666666666666, \"#ed7953\"], [0.7777777777777778, \"#fb9f3a\"], [0.8888888888888888, \"#fdca26\"], [1.0, \"#f0f921\"]], \"type\": \"contour\"}], \"contourcarpet\": [{\"colorbar\": {\"outlinewidth\": 0, \"ticks\": \"\"}, \"type\": \"contourcarpet\"}], \"heatmap\": [{\"colorbar\": {\"outlinewidth\": 0, \"ticks\": \"\"}, \"colorscale\": [[0.0, \"#0d0887\"], [0.1111111111111111, \"#46039f\"], [0.2222222222222222, \"#7201a8\"], [0.3333333333333333, \"#9c179e\"], [0.4444444444444444, \"#bd3786\"], [0.5555555555555556, \"#d8576b\"], [0.6666666666666666, \"#ed7953\"], [0.7777777777777778, \"#fb9f3a\"], [0.8888888888888888, \"#fdca26\"], [1.0, \"#f0f921\"]], \"type\": \"heatmap\"}], \"heatmapgl\": [{\"colorbar\": {\"outlinewidth\": 0, \"ticks\": \"\"}, \"colorscale\": [[0.0, \"#0d0887\"], [0.1111111111111111, \"#46039f\"], [0.2222222222222222, \"#7201a8\"], [0.3333333333333333, \"#9c179e\"], [0.4444444444444444, \"#bd3786\"], [0.5555555555555556, \"#d8576b\"], [0.6666666666666666, \"#ed7953\"], [0.7777777777777778, \"#fb9f3a\"], [0.8888888888888888, \"#fdca26\"], [1.0, \"#f0f921\"]], \"type\": \"heatmapgl\"}], \"histogram\": [{\"marker\": {\"colorbar\": {\"outlinewidth\": 0, \"ticks\": \"\"}}, \"type\": \"histogram\"}], \"histogram2d\": [{\"colorbar\": {\"outlinewidth\": 0, \"ticks\": \"\"}, \"colorscale\": [[0.0, \"#0d0887\"], [0.1111111111111111, \"#46039f\"], [0.2222222222222222, \"#7201a8\"], [0.3333333333333333, \"#9c179e\"], [0.4444444444444444, \"#bd3786\"], [0.5555555555555556, \"#d8576b\"], [0.6666666666666666, \"#ed7953\"], [0.7777777777777778, \"#fb9f3a\"], [0.8888888888888888, \"#fdca26\"], [1.0, \"#f0f921\"]], \"type\": \"histogram2d\"}], \"histogram2dcontour\": [{\"colorbar\": {\"outlinewidth\": 0, \"ticks\": \"\"}, \"colorscale\": [[0.0, \"#0d0887\"], [0.1111111111111111, \"#46039f\"], [0.2222222222222222, \"#7201a8\"], [0.3333333333333333, \"#9c179e\"], [0.4444444444444444, \"#bd3786\"], [0.5555555555555556, \"#d8576b\"], [0.6666666666666666, \"#ed7953\"], [0.7777777777777778, \"#fb9f3a\"], [0.8888888888888888, \"#fdca26\"], [1.0, \"#f0f921\"]], \"type\": \"histogram2dcontour\"}], \"mesh3d\": [{\"colorbar\": {\"outlinewidth\": 0, \"ticks\": \"\"}, \"type\": \"mesh3d\"}], \"parcoords\": [{\"line\": {\"colorbar\": {\"outlinewidth\": 0, \"ticks\": \"\"}}, \"type\": \"parcoords\"}], \"pie\": [{\"automargin\": true, \"type\": \"pie\"}], \"scatter\": [{\"marker\": {\"colorbar\": {\"outlinewidth\": 0, \"ticks\": \"\"}}, \"type\": \"scatter\"}], \"scatter3d\": [{\"line\": {\"colorbar\": {\"outlinewidth\": 0, \"ticks\": \"\"}}, \"marker\": {\"colorbar\": {\"outlinewidth\": 0, \"ticks\": \"\"}}, \"type\": \"scatter3d\"}], \"scattercarpet\": [{\"marker\": {\"colorbar\": {\"outlinewidth\": 0, \"ticks\": \"\"}}, \"type\": \"scattercarpet\"}], \"scattergeo\": [{\"marker\": {\"colorbar\": {\"outlinewidth\": 0, \"ticks\": \"\"}}, \"type\": \"scattergeo\"}], \"scattergl\": [{\"marker\": {\"colorbar\": {\"outlinewidth\": 0, \"ticks\": \"\"}}, \"type\": \"scattergl\"}], \"scattermapbox\": [{\"marker\": {\"colorbar\": {\"outlinewidth\": 0, \"ticks\": \"\"}}, \"type\": \"scattermapbox\"}], \"scatterpolar\": [{\"marker\": {\"colorbar\": {\"outlinewidth\": 0, \"ticks\": \"\"}}, \"type\": \"scatterpolar\"}], \"scatterpolargl\": [{\"marker\": {\"colorbar\": {\"outlinewidth\": 0, \"ticks\": \"\"}}, \"type\": \"scatterpolargl\"}], \"scatterternary\": [{\"marker\": {\"colorbar\": {\"outlinewidth\": 0, \"ticks\": \"\"}}, \"type\": \"scatterternary\"}], \"surface\": [{\"colorbar\": {\"outlinewidth\": 0, \"ticks\": \"\"}, \"colorscale\": [[0.0, \"#0d0887\"], [0.1111111111111111, \"#46039f\"], [0.2222222222222222, \"#7201a8\"], [0.3333333333333333, \"#9c179e\"], [0.4444444444444444, \"#bd3786\"], [0.5555555555555556, \"#d8576b\"], [0.6666666666666666, \"#ed7953\"], [0.7777777777777778, \"#fb9f3a\"], [0.8888888888888888, \"#fdca26\"], [1.0, \"#f0f921\"]], \"type\": \"surface\"}], \"table\": [{\"cells\": {\"fill\": {\"color\": \"#EBF0F8\"}, \"line\": {\"color\": \"white\"}}, \"header\": {\"fill\": {\"color\": \"#C8D4E3\"}, \"line\": {\"color\": \"white\"}}, \"type\": \"table\"}]}, \"layout\": {\"annotationdefaults\": {\"arrowcolor\": \"#2a3f5f\", \"arrowhead\": 0, \"arrowwidth\": 1}, \"coloraxis\": {\"colorbar\": {\"outlinewidth\": 0, \"ticks\": \"\"}}, \"colorscale\": {\"diverging\": [[0, \"#8e0152\"], [0.1, \"#c51b7d\"], [0.2, \"#de77ae\"], [0.3, \"#f1b6da\"], [0.4, \"#fde0ef\"], [0.5, \"#f7f7f7\"], [0.6, \"#e6f5d0\"], [0.7, \"#b8e186\"], [0.8, \"#7fbc41\"], [0.9, \"#4d9221\"], [1, \"#276419\"]], \"sequential\": [[0.0, \"#0d0887\"], [0.1111111111111111, \"#46039f\"], [0.2222222222222222, \"#7201a8\"], [0.3333333333333333, \"#9c179e\"], [0.4444444444444444, \"#bd3786\"], [0.5555555555555556, \"#d8576b\"], [0.6666666666666666, \"#ed7953\"], [0.7777777777777778, \"#fb9f3a\"], [0.8888888888888888, \"#fdca26\"], [1.0, \"#f0f921\"]], \"sequentialminus\": [[0.0, \"#0d0887\"], [0.1111111111111111, \"#46039f\"], [0.2222222222222222, \"#7201a8\"], [0.3333333333333333, \"#9c179e\"], [0.4444444444444444, \"#bd3786\"], [0.5555555555555556, \"#d8576b\"], [0.6666666666666666, \"#ed7953\"], [0.7777777777777778, \"#fb9f3a\"], [0.8888888888888888, \"#fdca26\"], [1.0, \"#f0f921\"]]}, \"colorway\": [\"#636efa\", \"#EF553B\", \"#00cc96\", \"#ab63fa\", \"#FFA15A\", \"#19d3f3\", \"#FF6692\", \"#B6E880\", \"#FF97FF\", \"#FECB52\"], \"font\": {\"color\": \"#2a3f5f\"}, \"geo\": {\"bgcolor\": \"white\", \"lakecolor\": \"white\", \"landcolor\": \"#E5ECF6\", \"showlakes\": true, \"showland\": true, \"subunitcolor\": \"white\"}, \"hoverlabel\": {\"align\": \"left\"}, \"hovermode\": \"closest\", \"mapbox\": {\"style\": \"light\"}, \"paper_bgcolor\": \"white\", \"plot_bgcolor\": \"#E5ECF6\", \"polar\": {\"angularaxis\": {\"gridcolor\": \"white\", \"linecolor\": \"white\", \"ticks\": \"\"}, \"bgcolor\": \"#E5ECF6\", \"radialaxis\": {\"gridcolor\": \"white\", \"linecolor\": \"white\", \"ticks\": \"\"}}, \"scene\": {\"xaxis\": {\"backgroundcolor\": \"#E5ECF6\", \"gridcolor\": \"white\", \"gridwidth\": 2, \"linecolor\": \"white\", \"showbackground\": true, \"ticks\": \"\", \"zerolinecolor\": \"white\"}, \"yaxis\": {\"backgroundcolor\": \"#E5ECF6\", \"gridcolor\": \"white\", \"gridwidth\": 2, \"linecolor\": \"white\", \"showbackground\": true, \"ticks\": \"\", \"zerolinecolor\": \"white\"}, \"zaxis\": {\"backgroundcolor\": \"#E5ECF6\", \"gridcolor\": \"white\", \"gridwidth\": 2, \"linecolor\": \"white\", \"showbackground\": true, \"ticks\": \"\", \"zerolinecolor\": \"white\"}}, \"shapedefaults\": {\"line\": {\"color\": \"#2a3f5f\"}}, \"ternary\": {\"aaxis\": {\"gridcolor\": \"white\", \"linecolor\": \"white\", \"ticks\": \"\"}, \"baxis\": {\"gridcolor\": \"white\", \"linecolor\": \"white\", \"ticks\": \"\"}, \"bgcolor\": \"#E5ECF6\", \"caxis\": {\"gridcolor\": \"white\", \"linecolor\": \"white\", \"ticks\": \"\"}}, \"title\": {\"x\": 0.05}, \"xaxis\": {\"automargin\": true, \"gridcolor\": \"white\", \"linecolor\": \"white\", \"ticks\": \"\", \"title\": {\"standoff\": 15}, \"zerolinecolor\": \"white\", \"zerolinewidth\": 2}, \"yaxis\": {\"automargin\": true, \"gridcolor\": \"white\", \"linecolor\": \"white\", \"ticks\": \"\", \"title\": {\"standoff\": 15}, \"zerolinecolor\": \"white\", \"zerolinewidth\": 2}}}, \"xaxis\": {\"categoryorder\": \"category ascending\"}},\n",
       "                        {\"responsive\": true}\n",
       "                    ).then(function(){\n",
       "                            \n",
       "var gd = document.getElementById('05d2924e-9620-437b-bdee-145b238948cd');\n",
       "var x = new MutationObserver(function (mutations, observer) {{\n",
       "        var display = window.getComputedStyle(gd).display;\n",
       "        if (!display || display === 'none') {{\n",
       "            console.log([gd, 'removed!']);\n",
       "            Plotly.purge(gd);\n",
       "            observer.disconnect();\n",
       "        }}\n",
       "}});\n",
       "\n",
       "// Listen for the removal of the full notebook cells\n",
       "var notebookContainer = gd.closest('#notebook-container');\n",
       "if (notebookContainer) {{\n",
       "    x.observe(notebookContainer, {childList: true});\n",
       "}}\n",
       "\n",
       "// Listen for the clearing of the current output cell\n",
       "var outputEl = gd.closest('.output');\n",
       "if (outputEl) {{\n",
       "    x.observe(outputEl, {childList: true});\n",
       "}}\n",
       "\n",
       "                        })\n",
       "                };\n",
       "                });\n",
       "            </script>\n",
       "        </div>"
      ]
     },
     "metadata": {},
     "output_type": "display_data"
    }
   ],
   "source": [
    "import plotly.graph_objects as go\n",
    "\n",
    "x=['GT', 'EKFA', 'EKFT', 'UKFA', 'UKFT', 'UKFTA', 'CNN']\n",
    "fig = go.Figure(go.Bar(x=x, y=[2,5,1,9,5,1,9], name='GT'))\n",
    "fig.add_trace(go.Bar(x=x, y=[1, 4, 9, 16], name='Ottawa'))\n",
    "fig.add_trace(go.Bar(x=x, y=[6, 8, 4.5, 8], name='EKFA'))\n",
    "fig.add_trace(go.Bar(x=x, y=[1, 4, 9, 16], name='EKFT'))\n",
    "fig.add_trace(go.Bar(x=x, y=[6, 8, 4.5, 8], name='UKFA'))\n",
    "fig.add_trace(go.Bar(x=x, y=[6, 8, 4.5, 8], name='UKFT'))\n",
    "fig.add_trace(go.Bar(x=x, y=[6, 8, 4.5, 8], name='UKFTA'))\n",
    "fig.add_trace(go.Bar(x=x, y=[6, 8, 4.5, 8], name='CNN'))\n",
    "\n",
    "\n",
    "fig.update_layout(barmode='stack', xaxis={'categoryorder':'category ascending'})\n",
    "fig.show()"
   ]
  },
  {
   "cell_type": "code",
   "execution_count": 40,
   "metadata": {},
   "outputs": [],
   "source": [
    "# %config InlineBackend.figure_format = 'svg'\n",
    "%config InlineBackend.figure_format = 'retina'\n"
   ]
  },
  {
   "cell_type": "code",
   "execution_count": 89,
   "metadata": {},
   "outputs": [
    {
     "data": {
      "image/png": "[encoded data removed]",
      "text/plain": [
       "<Figure size 432x288 with 1 Axes>"
      ]
     },
     "metadata": {
      "image/png": {
       "height": 290,
       "width": 370
      },
      "needs_background": "light"
     },
     "output_type": "display_data"
    }
   ],
   "source": [
    "import numpy as np\n",
    "import matplotlib.pyplot as plt\n",
    "\n",
    "\n",
    "data = [[ 66386, 174296,  75131, 577908,  32015, 577908,  32015],\n",
    "        [ 58230, 381139,  78045,  99308, 160454, 577908,  32015],\n",
    "        [ 89135,  80552, 152558, 497981, 603535, 577908,  32015],\n",
    "        [ 78415,  81858, 150656, 193263,  69638, 577908,  32015],\n",
    "        [139361, 331509, 343164, 781380,  52269, 577908,  32015]]\n",
    "\n",
    "columns = ('GT', 'EKFA', 'EKFT', 'UKFA', 'UKFT', 'UKFTA', 'CNN')\n",
    "rows = ['user %d' % x for x in (9753518, 14841859, 20, 10, 5)]\n",
    "\n",
    "values = np.arange(0, 2500, 500)\n",
    "value_increment = 1000\n",
    "\n",
    "# Get some pastel shades for the colors\n",
    "colors = plt.cm.Reds(np.linspace(0, 0.5, len(rows)))\n",
    "# PuRd, RdPu, Reds, YlOrRd, OrRd\n",
    "n_rows = len(data)\n",
    "\n",
    "index = np.arange(len(columns)) + 0.3\n",
    "bar_width = 0.4\n",
    "\n",
    "# Initialize the vertical-offset for the stacked bar chart.\n",
    "y_offset = np.zeros(len(columns))\n",
    "\n",
    "# Plot bars and create text labels for the table\n",
    "cell_text = []\n",
    "for row in range(n_rows):\n",
    "    plt.bar(index, data[row], bar_width, bottom=y_offset, color=colors[row])\n",
    "    y_offset = y_offset + data[row]\n",
    "    cell_text.append(['%1.1f' % (x / 1000.0) for x in y_offset])\n",
    "# Reverse colors and text labels to display the last value at the top.\n",
    "colors = colors[::-1]\n",
    "cell_text.reverse()\n",
    "\n",
    "# Add a table at the bottom of the axes\n",
    "the_table = plt.table(cellText=cell_text,\n",
    "                      rowLabels=rows,\n",
    "                      rowColours=colors,\n",
    "                      colLabels=columns,\n",
    "                      loc='bottom')\n",
    "\n",
    "# Adjust layout to make room for the table:\n",
    "plt.subplots_adjust(left=0.2, bottom=0.2)\n",
    "\n",
    "plt.ylabel(\"Loss in ${0}'s\".format(value_increment))\n",
    "plt.yticks(values * value_increment, ['%d' % val for val in values])\n",
    "plt.xticks([])\n",
    "plt.title('Loss by Disaster')\n",
    "\n",
    "plt.show()"
   ]
  },
  {
   "cell_type": "code",
   "execution_count": 44,
   "metadata": {},
   "outputs": [
    {
     "data": {
      "text/plain": [
       "array([[0.96862745, 0.98823529, 0.99215686, 1.        ],\n",
       "       [0.87792388, 0.92510573, 0.95664744, 1.        ],\n",
       "       [0.74800461, 0.82674356, 0.9015917 , 1.        ],\n",
       "       [0.61877739, 0.73550173, 0.85397924, 1.        ],\n",
       "       [0.54901961, 0.58559016, 0.77517878, 1.        ]])"
      ]
     },
     "execution_count": 44,
     "metadata": {},
     "output_type": "execute_result"
    }
   ],
   "source": [
    "plt.cm.RdPu(np.linspace(0, 0.5, len(rows)))"
   ]
  },
  {
   "cell_type": "code",
   "execution_count": null,
   "metadata": {},
   "outputs": [],
   "source": []
  },
  {
   "cell_type": "code",
   "execution_count": null,
   "metadata": {},
   "outputs": [],
   "source": []
  },
  {
   "cell_type": "code",
   "execution_count": null,
   "metadata": {},
   "outputs": [],
   "source": []
  },
  {
   "cell_type": "code",
   "execution_count": null,
   "metadata": {},
   "outputs": [],
   "source": []
  },
  {
   "cell_type": "code",
   "execution_count": 6,
   "metadata": {},
   "outputs": [
    {
     "data": {
      "text/plain": [
       "<matplotlib.legend.Legend at 0x7fc09631e310>"
      ]
     },
     "execution_count": 6,
     "metadata": {},
     "output_type": "execute_result"
    },
    {
     "data": {
      "image/png": "[encoded data removed]",
      "text/plain": [
       "<Figure size 432x288 with 1 Axes>"
      ]
     },
     "metadata": {
      "needs_background": "light"
     },
     "output_type": "display_data"
    }
   ],
   "source": [
    "import matplotlib.pyplot as plt\n",
    "from numpy.random import randn\n",
    "\n",
    "z = randn(10)\n",
    "\n",
    "red_dot, = plt.plot(z, \"ro\", markersize=15)\n",
    "# Put a white cross over some of the data.\n",
    "white_cross, = plt.plot(z[:5], \"w+\", markeredgewidth=3, markersize=15)\n",
    "\n",
    "plt.legend([red_dot, (red_dot, white_cross)], [\"Attr A\", \"Attr A+B\"])"
   ]
  },
  {
   "cell_type": "code",
   "execution_count": null,
   "metadata": {},
   "outputs": [],
   "source": []
  }
 ],
 "metadata": {
  "kernelspec": {
   "display_name": "Python 3",
   "language": "python",
   "name": "python3"
  },
  "language_info": {
   "codemirror_mode": {
    "name": "ipython",
    "version": 3
   },
   "file_extension": ".py",
   "mimetype": "text/x-python",
   "name": "python",
   "nbconvert_exporter": "python",
   "pygments_lexer": "ipython3",
   "version": "3.8.5"
  }
 },
 "nbformat": 4,
 "nbformat_minor": 4
}
